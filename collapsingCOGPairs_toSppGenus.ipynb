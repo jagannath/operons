{
 "cells": [
  {
   "cell_type": "markdown",
   "metadata": {},
   "source": [
    "# Collapsing the COG Pairs from strain to species and genus levels\n",
    "\n",
    "<body>There appears to be a disproportional bias in the strains. For example, there are 55 strains of E.coli and this may be biasing the FGOC and dFGOC score. \n",
    "In doing this all COGPair pairs that are repeated within a genome (paralogous) are represented as one count of COGPair occurrence. </body>\n",
    "\n",
    "### Dictionaries (pklFiles) made \n",
    "<body>\n",
    "1. Species:[(COG-A,COG-B),(COG-B,COG-C),...] --> sp_cogPair.dict.pkl <br />\n",
    "2. Genus: [(COG-A,COG-B),(COG-B,COG-C),....] --> genus_cogPair.dict.pkl <br />\n",
    "3. Species: [COG-A,COG-B,...]                --> sp_cogList.dict.pkl <br />\n",
    "4. Genus  : [COG-A,COG-B,...]                --> genus_cogList.dict.pkl <br />\n",
    "5. At Species: COGPair : [COG-A,COG-B,COUNT,dFGOC,FGOC,COUNT(COG-A),COUNT(COG-B)] --> cogPair_fgocInfo.spp.dict.pkl <br />\n",
    "6. At Genus: COGPair : [COG-A,COG-B,COUNT,dFGOC,FGOC,COUNT(COG-A),COUNT(COG-B)] --> cogPair_fgocInfo.genus.dict.pkl <br />\n",
    "7. COG : [sp1,sp2,...]                       --> cog_spList.dict.pkl <br />\n",
    "8. COG : [genus1,genus2,...]                 --> cog_genusList.dict.pkl <br />\n",
    "</body>"
   ]
  },
  {
   "cell_type": "code",
   "execution_count": 1,
   "metadata": {
    "collapsed": true
   },
   "outputs": [],
   "source": [
    "from __future__ import division\n",
    "import pickle\n",
    "import os\n",
    "import time\n",
    "import collections\n",
    "\n",
    "def loadPkl(fname):\n",
    "    pklDir = '/home/jaggu/research/projectFiles/operons/pklFiles'\n",
    "    f = os.path.join(pklDir,fname)\n",
    "    db = pickle.load(open(f))\n",
    "    return db\n",
    "\n",
    "def savePkl(db,pklFname):\n",
    "    pklDir = '/home/jaggu/research/projectFiles/operons/pklFiles'    \n",
    "    f = os.path.join(pklDir,pklFname)\n",
    "    pickle.dump(db,open(f,'w'))\n",
    "    return "
   ]
  },
  {
   "cell_type": "code",
   "execution_count": 47,
   "metadata": {
    "collapsed": false
   },
   "outputs": [
    {
     "name": "stdout",
     "output_type": "stream",
     "text": [
      "Loaded dictionaries Fri Dec 18 21:32:51 2015\n"
     ]
    }
   ],
   "source": [
    "org_cogPair = loadPkl('org_cogPair.dict.pkl')\n",
    "org_eggNOGPair = loadPkl('org_eggNOGPair.dict.pkl')\n",
    "\n",
    "cogPair_sp_fgocInfo = loadPkl('cogPair_fgocInfo.spp.dict.pkl')\n",
    "cogPair_genus_fgocInfo = loadPkl('cogPair_fgocInfo.genus.dict.pkl')\n",
    "\n",
    "eNogPair_sp_fgocInfo = loadPkl('eNOGPair_fgocInfo.spp.dict.pkl')\n",
    "eNogPair_genus_fgocInfo = loadPkl('eNOGPair_fgocInfo.genus.dict.pkl')\n",
    "\n",
    "print \"Loaded dictionaries\",time.ctime()"
   ]
  },
  {
   "cell_type": "code",
   "execution_count": 21,
   "metadata": {
    "collapsed": false
   },
   "outputs": [
    {
     "name": "stdout",
     "output_type": "stream",
     "text": [
      "Collapsed done; Species and Genus level collapse of COGPairs done; Fri Dec 18 21:02:10 2015\n"
     ]
    }
   ],
   "source": [
    "# A general way of collapsing to species and genus leves; What you require is org:[(OG1,OG2),(OG2,OG3),...]\n",
    "# Can currently handle the COG and eggNOG\n",
    "# Making species and genus level dictionary: i.e sp_cogPair; genus_cogPair\n",
    "# sp:[(COG1,COG2),(COG2,COG3),..]\n",
    "# genus:[(COG1,COG2),(COG2,COG3),..]\n",
    "# The basic idea is to collapse the cogpairs to be the union of all the cogpairs found in the encompassing orgs (strains)\n",
    "\n",
    "class CollapsedRank:\n",
    "    def __init__(self):\n",
    "        self.sp_allOGPairs = collections.defaultdict(list)\n",
    "        self.genus_allOGPairs = collections.defaultdict(list)\n",
    "        self.sp_ogPair = dict()\n",
    "        self.sp_ogList = dict()\n",
    "        self.genus_ogPair = dict()\n",
    "        self.genus_ogList = dict()\n",
    "\n",
    "    def unionOgPair(self,ogPair_list):\n",
    "        ogPair_set = [set(i) for i in ogPair_list]\n",
    "        ogPair_union = list(set.union(*ogPair_set))\n",
    "        return ogPair_union\n",
    "\n",
    "    def getOgList(self,ogPair_list):\n",
    "        ogList = list()\n",
    "        for pair in ogPair_list: \n",
    "            ogList.extend(pair)\n",
    "        return list(set(ogList))\n",
    "\n",
    "    def collapseSpeciesGenus(self,org_ogPair):\n",
    "        for (orgName,accNbr),ogPair_list in org_ogPair.items():\n",
    "            sp = orgName.split('_')[0]+'_'+orgName.split('_')[1]\n",
    "            genus = orgName.split('_')[0]\n",
    "            self.sp_allOGPairs[sp].append(ogPair_list)\n",
    "            self.genus_allOGPairs[genus].append(ogPair_list)\n",
    "\n",
    "        for sp, ogPair_list in self.sp_allOGPairs.items():\n",
    "            ogPair_union = self.unionOgPair(ogPair_list)\n",
    "            self.sp_ogPair[sp] = ogPair_union\n",
    "            ogList = self.getOgList(ogPair_union)\n",
    "            self.sp_ogList[sp] = ogList\n",
    "\n",
    "        for genus, ogPair_list in self.genus_allOGPairs.items():\n",
    "            ogPair_union = self.unionOgPair(ogPair_list)\n",
    "            self.genus_ogPair[genus] = ogPair_union\n",
    "            ogList = self.getOgList(ogPair_union)\n",
    "            self.genus_ogList[genus] = ogList\n",
    "\n",
    "\n",
    "eggNOG = CollapsedRank()\n",
    "eggNOG.collapseSpeciesGenus(org_eggNOGPair)\n",
    "savePkl(eggNOG.sp_ogPair,'sp_eggNOGPair.dict.pkl')\n",
    "savePkl(eggNOG.sp_ogList,'sp_eggNOGList.dict.pkl')\n",
    "savePkl(eggNOG.genus_ogPair,'genus_eggNOGPair.dict.pkl')\n",
    "savePkl(eggNOG.genus_ogList,'genus_eggNOGcogList.dict.pkl')\n",
    "print \"Collapsed done; Species and Genus level collapse of COGPairs done;\",time.ctime()"
   ]
  },
  {
   "cell_type": "code",
   "execution_count": 26,
   "metadata": {
    "collapsed": false
   },
   "outputs": [
    {
     "name": "stdout",
     "output_type": "stream",
     "text": [
      "OG_Pair FGOC info dictionaries created; Fri Dec 18 21:22:00 2015\n"
     ]
    }
   ],
   "source": [
    "# Calculating FGOC and dFGOC score for each COGPair\n",
    "# ['COG-A','COG-B','COUNT','dirFGOC','FGOC','COUNT(COG-A)','COUNT(COG-B)','\\n']\n",
    "# I am going to run through the list of species_cogPair and make a dictionary for the COG Pair;\n",
    "# Similar function for the genus level\n",
    "# Making the following intermediate dictionaries - \n",
    "# (a) cogPair = #(A --> B); COUNT\n",
    "# (b) cogA = sp1,sp2,...; (c) cogB = sp1,sp2,...\n",
    "cogPair_fgocInfo_sp = collections.defaultdict(list)\n",
    "cogPair_fgocInfo_genus = collections.defaultdict(list)\n",
    "\n",
    "def getCogPair_fgocInfo(db):\n",
    "    cogPair_count = collections.defaultdict(int)\n",
    "    cog_nameList_duplicated = collections.defaultdict(list)\n",
    "    cogPair_fgocInfo = dict()\n",
    "    cog_nameList = dict()\n",
    "    for name,cogPair_list in db.items():\n",
    "        for cogPair in cogPair_list:\n",
    "            cogA, cogB = cogPair\n",
    "            if cogA == '-' and cogB == '-': continue;\n",
    "            else:\n",
    "                cog_nameList_duplicated[cogA].append(name)\n",
    "                cog_nameList_duplicated[cogB].append(name)\n",
    "                cogPair_count[cogPair]+=1\n",
    "    # Due to the way the spp name was added to the dictionary, there are duplicates for each COG\n",
    "    for cog,sp_duplicated in cog_nameList_duplicated.items():\n",
    "        cog_nameList[cog] = list(set(sp_duplicated))\n",
    "    \n",
    "    for cogPair,count in cogPair_count.items():\n",
    "        cogA, cogB = cogPair\n",
    "        if not (cogA == '-' or cogB == '-'): #Both COG is annotated\n",
    "            countA = len(cog_nameList[cogA])\n",
    "            countB = len(cog_nameList[cogB])\n",
    "            fgoc = count / (countA + countB)\n",
    "            dfgoc = count / (countA)\n",
    "        else:\n",
    "            if cogA == '-': countA = 'nan'\n",
    "            elif cogB == '-': countB = 'nan'\n",
    "            else: raise SystemError(\"Not possible; Should have been eliminated\")\n",
    "            \n",
    "            if countB == 'nan':\n",
    "                countA = len(cog_nameList[cogA])\n",
    "                fgoc = 'nan'\n",
    "                dfgoc = count/(countA)\n",
    "            else:\n",
    "                countB = len(cog_nameList[cogB])\n",
    "                fgoc = 'nan'\n",
    "                dfgoc = 'nan'\n",
    "        \n",
    "        fgocInfo = [cogA, cogB, count, dfgoc, fgoc, countA, countB]\n",
    "        cogPair_fgocInfo[(cogA,cogB)] = fgocInfo\n",
    "        \n",
    "    return cogPair_count, cog_nameList, cogPair_fgocInfo\n",
    "\n",
    "def makeFGOC(ogName):\n",
    "    if ogName == 'COG':\n",
    "        cogPair_sp_count, cog_spList, cogPair_sp_fgocInfo = getCogPair_fgocInfo(sp_cogPair)\n",
    "        savePkl(cogPair_sp_fgocInfo,'cogPair_fgocInfo.spp.dict.pkl')\n",
    "        savePkl(cog_spList, 'cog_spList.dict.pkl')\n",
    "\n",
    "        cogPair_genus_count, cog_genusList, cogPair_genus_fgocInfo = getCogPair_fgocInfo(genus_cogPair)\n",
    "        savePkl(cogPair_genus_fgocInfo,'cogPair_fgocInfo.genus.dict.pkl')\n",
    "        savePkl(cog_genusList, 'cog_genusList.dict.pkl')\n",
    "    elif ogName == 'eggNOG':\n",
    "        eNogPair_sp_count, eNog_spList, eNogPair_sp_fgocInfo = getCogPair_fgocInfo(sp_eNOGPair)\n",
    "        savePkl(eNogPair_sp_fgocInfo,'eNOGPair_fgocInfo.spp.dict.pkl')\n",
    "        savePkl(eNog_spList, 'eNOG_spList.dict.pkl')\n",
    "\n",
    "        eNogPair_genus_count, eNog_genusList, eNogPair_genus_fgocInfo = getCogPair_fgocInfo(genus_eNOGPair)\n",
    "        savePkl(eNogPair_genus_fgocInfo,'eNOGPair_fgocInfo.genus.dict.pkl')\n",
    "        savePkl(eNog_genusList, 'eNOG_genusList.dict.pkl')\n",
    "\n",
    "makeFGOC('eggNOG')\n",
    "print \"OG_Pair FGOC info dictionaries created;\",time.ctime()"
   ]
  },
  {
   "cell_type": "code",
   "execution_count": 91,
   "metadata": {
    "collapsed": false
   },
   "outputs": [
    {
     "name": "stdout",
     "output_type": "stream",
     "text": [
      "Graph file :  /home/jaggu/research/projectFiles/operons/graphFiles/COG/genus/basic.genus.cutoff_0.3.noNaN.tab created at  genus  level with cutoff  0.3\n"
     ]
    }
   ],
   "source": [
    "# Making Graph; With cutoffs 0, 0.1 and 0.3 at the species and genus levels\n",
    "# Need cogPair_sp_fgocInfo and cogPair_genus_fgocInfo\n",
    "sourceDestDir = '/home/jaggu/research/projectFiles/operons/graphFiles'\n",
    "\n",
    "def makeGraphFile(ogName, rank,cutoff,nanStatus,rank_fgocInfo):\n",
    "    graphDestDir = os.path.join(sourceDestDir,ogName,rank)\n",
    "    if not os.path.exists(graphDestDir): os.makedirs(graphDestDir)\n",
    "    f = 'basic.'+rank+'.cutoff_'+str(cutoff)+'.'+str(nanStatus)+'.tab'\n",
    "    \n",
    "    ofname = os.path.join(graphDestDir,f)\n",
    "    ofile = open(ofname,'w')\n",
    "\n",
    "    header = '\\t'.join(['COG-A','COG-B','COUNT','dirFGOC','FGOC','COUNT(COG-A)','COUNT(COG-B)','\\n'])\n",
    "    ofile.write(header)\n",
    "\n",
    "    for cogPair, fgocInfo in rank_fgocInfo.items():\n",
    "        # fgocInfo = [cogA, cogB, count, dfgoc, fgoc, countA, countB]\n",
    "        [cogA, cogB, count, dfgoc, fgoc, countA, countB] = fgocInfo\n",
    "        if dfgoc > cutoff:\n",
    "            if nanStatus == 'noNaN':\n",
    "                if not fgoc == 'nan': #Because if either cogA or cogB is nan; then fgoc = nan\n",
    "                    l = '\\t'.join(map(str,fgocInfo)) + '\\n'\n",
    "                    ofile.write(l)\n",
    "            else:\n",
    "                l = '\\t'.join(map(str,fgocInfo)) + '\\n'\n",
    "                ofile.write(l)\n",
    "    ofile.close()\n",
    "    return ofname\n",
    "    \n",
    "# Change these variables \n",
    "rank = 'genus'   #[species or genus]\n",
    "cutoff = 0.3       #[0.0, 0.1, 0.2, 0.3]\n",
    "nanStatus = 'noNaN'  #[nan or noNaN]\n",
    "ogName = 'eggNOG'  #[eggNOG or COG]\n",
    "\n",
    "if ogName == 'COG': \n",
    "    if rank == 'species':\n",
    "        f = makeGraphFile(ogName,rank,cutoff,nanStatus,cogPair_sp_fgocInfo) #for species\n",
    "    if rank == 'genus':\n",
    "        f = makeGraphFile(ogName,rank,cutoff,nanStatus,cogPair_genus_fgocInfo) #for genus\n",
    "if ogName == 'eggNOG':\n",
    "    if rank == 'species':\n",
    "        f = makeGraphFile(ogName,rank,cutoff,nanStatus,eNogPair_sp_fgocInfo) #for species\n",
    "    if rank == 'genus':\n",
    "        f = makeGraphFile(ogName,rank,cutoff,nanStatus,eNogPair_genus_fgocInfo) #for genus\n",
    "\n",
    "print \"Graph file : \",f, \"created at \",rank,\" level with cutoff \",cutoff"
   ]
  },
  {
   "cell_type": "code",
   "execution_count": null,
   "metadata": {
    "collapsed": true
   },
   "outputs": [],
   "source": []
  }
 ],
 "metadata": {
  "kernelspec": {
   "display_name": "Python 2",
   "language": "python",
   "name": "python2"
  },
  "language_info": {
   "codemirror_mode": {
    "name": "ipython",
    "version": 2
   },
   "file_extension": ".py",
   "mimetype": "text/x-python",
   "name": "python",
   "nbconvert_exporter": "python",
   "pygments_lexer": "ipython2",
   "version": "2.7.10"
  }
 },
 "nbformat": 4,
 "nbformat_minor": 0
}
