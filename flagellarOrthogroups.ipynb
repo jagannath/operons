{
 "cells": [
  {
   "cell_type": "markdown",
   "metadata": {},
   "source": [
    "# Comparing the flagella operons across selected species\n",
    "\n",
    "The underlying idea is to map the different flagella genes (COG) in selected species of bacteria to the operon graph. I want to see if we can understand the structure of the operons and the different path each organism took to establish its flagella structure.Is it feasible then to engineer E.coli to take on different flagella structures. <br />\n",
    "## The selected bacterial species are - \n",
    "(a) Monotrichous (polar): Contains only a single sheathed polar flagella \n",
    "> * Vibrio cholerae - vch; Vibrio_cholerae_O1_biovar_El_Tor_N16961_uid57623; NC_002505; \n",
    "<small> REF : Richardson K. 1991. Infection and Immunity. 59 (8): 2727; [link](http://iai.asm.org/content/59/8/2727) </small>\n",
    "> * Pseudomonas aueriginosa - pae; Pseudomonas\\_aeruginosa_PAO1_uid57945; NC_002516; \n",
    "<small> REF : Bucior I, et.al. 2012. Plos Pathogens ; [DOI: 10.1371/journal.ppat.1002616](http://journals.plos.org/plospathogens/article?id=10.1371/journal.ppat.1002616) </small>\n",
    "\n",
    "(b) Lophotrichous : Contains multiple flagella but all at a pole. They may be sheathed as in Helicobacter\n",
    "> * Helicobacter pylori - hpg; Helicobacter_pylori_G27_uid59305; NC_011333 \n",
    "<small> REF : Ottemann KM and Lowenthal AC. 2002. 70(4): 1984; [DOI : 10.1128/IAI.70.4.1984-1990.2002](http://www.ncbi.nlm.nih.gov/pmc/articles/PMC127824/) </small>\n",
    "> * Vibrio fischeri - vfi; Vibrio_fischeri_ES114_uid58163; NC_006840 (In Kegg: Aliivibrio fischeri ES114)\n",
    "<small> REF : Millikan DS and Ruby EG .2004. Journal of Bacteriology. 186(13): 4315; [DOI:  10.1128/JB.186.13.4315-4325.2004](http://www.ncbi.nlm.nih.gov/pmc/articles/PMC421587/)</small>\n",
    "\n",
    "(c) Peritrichous : The flagella surrounds most of the bacteria. <br /> \n",
    "> * E.coli - eco; Escherichia_coli_K_12_substr\\__MG1655_uid57779; NC_000913; <br /> \n",
    "<small> REF : Copeland M, et.al. 2010. 76(4):1242; [DOI: 10.1128/AEM.02153-09](http://aem.asm.org/content/76/4/1241.full) </small>\n",
    "> * Salmonella typhi - seo; Salmonella_enterica_serovar_Typhimurium_14028S_uid86059; NC_016856; <br />\n",
    "<small> REF : Paul K, et.al. 2010. Molecular Cell. 1:128; [DOI: 10.1016/j.molcel.2010.03.001](http://www.sciencedirect.com/science/article/pii/S1097276510002005) </small>\n",
    "> * Bacillus subtilus - bsu; Bacillus_subtilis_168_uid57675; NC_000964; <br />\n",
    "<small> REF : Mukherjee S and Kearns D B. 2014. 48: 319; [DOI: 10.1146/annurev-genet-120213-092406](http://www.annualreviews.org/doi/full/10.1146/annurev-genet-120213-092406) </small>\n",
    "\n",
    "(d) Amphitrichous : I am considering both single (as in Campylobacter) as well as multiply flagellated (Rhodospirillum rubrum) organism. However these are bipolar i.e. the flagella exists only at the poles. <br />\n",
    "> * Campylobacter jejuni - cjj; Campylobacter_jejuni_81_176_uid58503; NC_008787; <br />\n",
    "<small> REF : Balaban M, Hendrixson D R. 2011. Plos Pathogens; [DOI: 10.1371/journal.ppat.1002420](http://journals.plos.org/plospathogens/article?id=10.1371/journal.ppat.1002420) </small>\n",
    "> * Rhodospirillum rubrum -rru; Rhodospirillum_rubrum_ATCC_11170_uid57655; NC_007643 <br />\n",
    "<small> REF : Lee AG, Fitzsimons JTR. 1975. Journal of General Microbiology. 93: 346; [link](http://mic.microbiologyresearch.org/content/journal/micro/10.1099/00221287-93-2-346?crawler=true) </small>\n",
    "\n",
    "(e) Periplasmic : The flagella is located in the periplasmic space. These are mainly spirochetes. The rotation of the flagella causes a cork-screw movement of the bacteria.\n",
    "> * Borrelia burgdorferi - bbu; Borrelia_burgdorferi_B31_uid57581; NC_001318; <br />\n",
    "<small> REF : Motaleb MA, et.al. 2000. Proceedings of National Academy of Sciences. 97(20): 10899–10904; [DOI:  10.1073/pnas.200221797](http://www.pnas.org/content/97/20/10899.long)</small>\n",
    "> * Brachyspira hyodysenteriae: bhy; Brachyspira_hyodysenteriae_WA1_uid59291; NC_012225; <br />\n",
    "<small> REF : Li C, et.al. 2002. Proceedings of the National Academy of Sciences. 99 (9): 6169 [DOI: 10.1073/pnas.092010499](http://www.pnas.org/content/99/9/6169.full)</small>\n",
    "\n"
   ]
  },
  {
   "cell_type": "markdown",
   "metadata": {
    "collapsed": true
   },
   "source": [
    "From Kegg database, Flagellar assembly is considered. Flagellar assembly pathway: (KEGG pathway ko: ko02040); The orthologs involved are - \n",
    "K02400  flagellar biosynthesis protein FlhA <br />\n",
    "K02401  flagellar biosynthetic protein FlhB <br />\n",
    "K02421  flagellar biosynthetic protein FliR <br />\n",
    "K13820  flagellar biosynthetic protein FliR/FlhB <br />\n",
    "K02420  flagellar biosynthetic protein FliQ <br />\n",
    "K02419  flagellar biosynthetic protein FliP <br />\n",
    "K02418  flagellar protein FliO/FliZ <br />\n",
    "K02417  flagellar motor switch protein FliN/FliY <br />\n",
    "K02416  flagellar motor switch protein FliM <br />\n",
    "K02557  chemotaxis protein MotB <br />\n",
    "K02556  chemotaxis protein MotA <br />\n",
    "K02402  flagellar transcriptional activator FlhC ; Unmapped to COG <br />\n",
    "K02403  flagellar transcriptional activator FlhD ; Unmapped to COG <br />\n",
    "K02390  flagellar hook protein FlgE <br />\n",
    "K02389  flagellar basal-body rod modification protein FlgD <br />\n",
    "K02414  flagellar hook-length control protein FliK <br />\n",
    "K02413  flagellar FliJ protein <br />\n",
    "K02412  flagellum-specific ATP synthase <br />\n",
    "K02411  flagellar assembly protein FliH <br />\n",
    "K02410  flagellar motor switch protein FliG <br />\n",
    "K02409  flagellar M-ring protein FliF <br />\n",
    "K02408  flagellar hook-basal body complex protein FliE <br />\n",
    "K02388  flagellar basal-body rod protein FlgC <br />\n",
    "K02387  flagellar basal-body rod protein FlgB <br />\n",
    "K02386  flagella basal body P-ring formation protein FlgA <br />\n",
    "K02398  negative regulator of flagellin synthesis FlgM <br />\n",
    "K02399  flagella synthesis protein FlgN <br />\n",
    "K02391  flagellar basal-body rod protein FlgF <br />\n",
    "K02392  flagellar basal-body rod protein FlgG <br />\n",
    "K02393  flagellar L-ring protein precursor FlgH <br />\n",
    "K02394  flagellar P-ring protein precursor FlgI <br />\n",
    "K02396  flagellar hook-associated protein 1 FlgK <br />\n",
    "K02397  flagellar hook-associated protein 3 FlgL <br />\n",
    "K02406  flagellin <br />\n",
    "K02407  flagellar hook-associated protein 2 <br />\n",
    "K02422  flagellar protein FliS <br />\n",
    "K02423  flagellar protein FliT ; Unmapped to COG <br />\n"
   ]
  },
  {
   "cell_type": "code",
   "execution_count": 33,
   "metadata": {
    "collapsed": false
   },
   "outputs": [
    {
     "name": "stdout",
     "output_type": "stream",
     "text": [
      "Dictionaries loaded  Sat Oct 24 14:32:26 2015\n"
     ]
    }
   ],
   "source": [
    "# Loading dictionaries\n",
    "import os\n",
    "import pickle \n",
    "import time\n",
    "import sys\n",
    "\n",
    "def loadPkl(fname):\n",
    "    pklDir = '/home/jaggu/research/projectFiles/operons/pklFiles'\n",
    "    f = os.path.join(pklDir,fname)\n",
    "    db = pickle.load(open(f))\n",
    "    return db\n",
    "\n",
    "kog_cogList_dict = loadPkl('kog_cogList.dict.pkl')\n",
    "cog_kogList_dict = loadPkl('cog_kogList.dict.pkl')\n",
    "org_cogPair_dict = loadPkl('org_cogPair.dict.pkl')\n",
    "cogPair_fgocInfo_dict = loadPkl('cogPair_fgocInfo.dict.pkl')\n",
    "\n",
    "print \"Dictionaries loaded \",time.ctime()"
   ]
  },
  {
   "cell_type": "code",
   "execution_count": 4,
   "metadata": {
    "collapsed": false
   },
   "outputs": [
    {
     "name": "stdout",
     "output_type": "stream",
     "text": [
      "Organism dictionary created\n"
     ]
    }
   ],
   "source": [
    "orgDict = {'vch': ('Vibrio_cholerae_O1_biovar_El_Tor_N16961_uid57623','NC_002505'),\n",
    "           'pae': ('Pseudomonas_aeruginosa_PAO1_uid57945','NC_002516'),\n",
    "           'hpg': ('Helicobacter_pylori_G27_uid59305','NC_011333'),\n",
    "           'vfi': ('Vibrio_fischeri_ES114_uid58163','NC_006840'),\n",
    "           'eco': ('Escherichia_coli_K_12_substr__MG1655_uid57779','NC_000913'),\n",
    "           'seo': ('Salmonella_enterica_serovar_Typhimurium_LT2_uid57799','NC_003197'),\n",
    "           'bsu': ('Bacillus_subtilis_168_uid57675','NC_000964'),\n",
    "           'cjj': ('Campylobacter_jejuni_81_176_uid58503','NC_008787'),\n",
    "           'rru': ('Rhodospirillum_rubrum_ATCC_11170_uid57655','NC_007643'),\n",
    "           'bbu': ('Borrelia_burgdorferi_B31_uid57581','NC_001318'),\n",
    "           'bhy': ('Brachyspira_hyodysenteriae_WA1_uid59291','NC_012225')\n",
    "          }\n",
    "print \"Organism dictionary created\""
   ]
  },
  {
   "cell_type": "code",
   "execution_count": 46,
   "metadata": {
    "collapsed": false
   },
   "outputs": [
    {
     "name": "stdout",
     "output_type": "stream",
     "text": [
      "Flagella assembly pathway as COG list made\n",
      "Operon graph with flagella COG genes made \n"
     ]
    }
   ],
   "source": [
    "# Flagella list\n",
    "fla_kogList = [     'K02400','K02401','K02421','K13820','K02420','K02419','K02418','K02417','K02416','K02557',\\\n",
    "                    'K02556','K02402','K02403','K02390','K02389','K02414','K02413','K02412','K02411','K02410',\\\n",
    "                    'K02409','K02408','K02388','K02387','K02386','K02398','K02399','K02391','K02392','K02393',\\\n",
    "                    'K02394','K02396','K02397','K02406','K02407','K02422','K02423']\n",
    "# COG List\n",
    "fla_cogList = list()\n",
    "\n",
    "for item in fla_kogList:\n",
    "    try: \n",
    "        cogL = kog_cogList_dict[item]\n",
    "    except KeyError:\n",
    "        continue;\n",
    "    fla_cogList.extend(cogL)\n",
    "allCogPair = cogPair_fgocInfo_dict.keys()\n",
    "fla_cogList_cutoff = list()\n",
    "\n",
    "# Making a metagenome graph\n",
    "cutoff = 0.1\n",
    "destDir = '/home/jaggu/research/projectFiles/operons/graphFiles/flagella'\n",
    "fname1 = 'AllBacteria.cutoff.noNAN.graph.tab'\n",
    "fname2 = 'AllBacteria.cutoff.graph.tab'\n",
    "ofile1 = open(os.path.join(destDir,fname1),'w')\n",
    "ofile2 = open(os.path.join(destDir,fname2),'w')\n",
    "header = '\\t'.join(['COG-A','COG-B','COUNT','dirFGOC','FGOC','COUNT(COG-A)','COUNT(COG-B)','\\n'])\n",
    "ofile1.write(header)\n",
    "ofile2.write(header)\n",
    "\n",
    "for cog1,cog2 in allCogPair:\n",
    "    if cog1 in fla_cogList or cog2 in fla_cogList:\n",
    "    #values: [cogA, cogB, count, dfgoc, fgoc, aNbr, bNbr] \n",
    "    # '-': This is replaced with nan\n",
    "        vals = cogPair_fgocInfo_dict[(cog1,cog2)]\n",
    "        dfgoc = float(vals[3])\n",
    "        if dfgoc > cutoff:\n",
    "            cogPairs_fla_cutoff_allOrg_list.extend([(cog1,cog2)])\n",
    "            if not (cog1 == '-' or cog2 == '-'):\n",
    "                info1 = '\\t'.join(map(str,vals))+'\\n'\n",
    "                ofile1.write(info1)\n",
    "                fla_cogList_cutoff.append(vals)\n",
    "            elif cog1 == '-' and cog2 == '-':\n",
    "                continue;\n",
    "            else:\n",
    "                info2 = '\\t'.join(map(str,vals))+'\\n'\n",
    "                ofile2.write(info2)\n",
    "\n",
    "            \n",
    "ofile1.close()\n",
    "# Appending the graph file (with unassigned COG) with the graph file \n",
    "ofile1 = open(os.path.join(destDir,fname1),'r')\n",
    "lines = ofile1.readlines()[1:]\n",
    "for line in lines:\n",
    "    ofile2.write(line)\n",
    "\n",
    "ofile2.close()\n",
    "\n",
    "print \"Flagella assembly pathway as COG list made\"\n",
    "print \"Operon graph with flagella COG genes made \""
   ]
  },
  {
   "cell_type": "markdown",
   "metadata": {},
   "source": [
    "***\n",
    "The total number of orthologous group assigned for Flagella assembly are - \n",
    "* KEGG : 37; \n",
    "* COG  : 34; Unmapped groups are K02402 (flhC) ,K02403 (flhD) and K02423 (fliT: flagellar protein)\n",
    "* Using COG pairs (cutoff=0.1 and non annotated groups ignored), number of Nodes = 47 ; Edges = 51"
   ]
  },
  {
   "cell_type": "code",
   "execution_count": 106,
   "metadata": {
    "collapsed": false
   },
   "outputs": [
    {
     "name": "stdout",
     "output_type": "stream",
     "text": [
      "Flagella for eco org done \n",
      "Flagella for bsu org done \n",
      "Flagella for bhy org done \n",
      "Flagella for seo org done \n",
      "Flagella for rru org done \n",
      "Flagella for cjj org done \n",
      "Flagella for vfi org done \n",
      "Flagella for vch org done \n",
      "Flagella for pae org done \n",
      "Flagella for bbu org done \n",
      "Flagella for hpg org done \n",
      "Completed graph file and dictionary (contains unassigned COG :'-')\n"
     ]
    }
   ],
   "source": [
    "# Defining organisms; This is where we can change or iterate through organisms\n",
    "\n",
    "\n",
    "destDir = '/home/jaggu/research/projectFiles/operons/graphFiles/flagella'\n",
    "org_FlagellaPairs_dict = dict()\n",
    "\n",
    "def makeOperon(org,orgName,fla_cogList):\n",
    "    cogPair = list()\n",
    "    fname = org + '.graph.tab'\n",
    "    ofile = open(os.path.join(destDir,fname),'w')\n",
    "    header = '\\t'.join(['COG-A','COG-B','\\n'])\n",
    "    ofile.write(header)\n",
    "\n",
    "    allCogPairs = org_cogPair_dict[orgName]\n",
    "    for cogA,cogB in allCogPairs:\n",
    "        if cogA in fla_cogList or cogB in fla_cogList:\n",
    "            ofile.write(cogA+'\\t'+cogB+'\\t'+'\\n')\n",
    "            cogPair.extend([(cogA,cogB)])\n",
    "    ofile.close()\n",
    "    org_FlagellaPairs_dict[org]=cogPair\n",
    "    print \"Flagella for %s org done \"%(org)\n",
    "    return True\n",
    "\n",
    "def savePkl(db,pklFname):\n",
    "    pklPath = '/home/jaggu/research/projectFiles/operons/pklFiles'\n",
    "    f = os.path.join(pklPath,pklFname)\n",
    "    pickle.dump(db,open(f,'w'))\n",
    "    return \n",
    "\n",
    "for org, orgName in orgDict.items():\n",
    "    makeOperon(org,orgName,fla_cogList)\n",
    "\n",
    "savePkl(org_FlagellaPairs_dict,'selected_org.flagellaCOGPairs.dict.pkl')\n",
    "\n",
    "print \"Completed graph file and dictionary (contains unassigned COG :'-')\""
   ]
  },
  {
   "cell_type": "code",
   "execution_count": 8,
   "metadata": {
    "collapsed": false
   },
   "outputs": [
    {
     "name": "stdout",
     "output_type": "stream",
     "text": [
      "Nodes (KEGG pathway present) with color attributes written\n"
     ]
    }
   ],
   "source": [
    "# Coloring Nodes; Associating COG groups with functional linkage \n",
    "import os\n",
    "\n",
    "cog_func_list = [('COG1345','K02407','CAP','fliD'),\n",
    "                 ('COG1344','K02397','HOOK ASSOCIATED','flgL'),\n",
    "                 ('COG1256','K02396','HOOK ASSOCIATED','flgK'),\n",
    "                 ('COG1344','K02406','FILAMENT','fliC'),\n",
    "                 ('COG3144','K02414','HOOK','fliK'),\n",
    "                 ('COG1843','K02389','HOOK','flgD'),\n",
    "                 ('COG1749','K02392','DISTAL RING','flgG'),\n",
    "                 ('COG2063','K02393','L RING','flgH'),\n",
    "                 ('COG1749','K02391','P ROD','flgF'),\n",
    "                 ('COG1706','K02394','P RING','flgI'),\n",
    "                 ('COG1677','K02408','P ROD','fliE'),\n",
    "                 ('COG1815','K02387','P ROD','flgB'),\n",
    "                 ('COG1558','K02388','P ROD','flgC'),\n",
    "                 ('COG1749','K02390','HOOK','flgE'),                 \n",
    "                 ('COG1766','K02409','MS RING','fliF'),\n",
    "                 ('COG1536','K02410','C RING','fliG'),\n",
    "                 ('COG1868','K02416','C RING','fliM'),\n",
    "                 ('COG1886','K02417','C RING','fliN'),\n",
    "                 ('COG1360','K02557','MOTOR','motB'),\n",
    "                 ('COG1291','K02556','MOTOR','motA'),\n",
    "                 ('COG1298','K02400','TYPE III SS','flhA'),\n",
    "                 ('COG1377','K02401','TYPE III SS','flhB'),\n",
    "                 ('COG1317','K02411','TYPE III SS','fliH'),\n",
    "                 ('COG1157','K02412','TYPE III SS','fliI'),\n",
    "                 ('COG3190','K02418','TYPE III SS','fliO'),\n",
    "                 ('COG1987','K02420','TYPE III SS','fliQ'),\n",
    "                 ('COG1338','K02419','TYPE III SS','fliP'),\n",
    "                 ('COG1684','K02421','TYPE III SS','fliR'),\n",
    "                 ('COG1684','K02415','BASAL BODY','fliI'),\n",
    "                 ('COG1261','K02386','BASAL BODY','flgA'),\n",
    "                 ('COG3418','K02399','CHAPERONE','flgN'),\n",
    "                 ('COG2882','K02413','CHAPERONE','fliJ'),\n",
    "                 ('COG1516','K02422','CHAPERONE','fliS'),\n",
    "                 ('COG2747','K02398','REGULATOR','flgM'),\n",
    "                ]\n",
    "\n",
    "\n",
    "destDir = '/home/jaggu/research/projectFiles/operons/graphFiles/flagella'\n",
    "fname = 'flagella.COG.attr.tab'\n",
    "ofile = open(os.path.join(destDir,fname),'w')\n",
    "header = '\\t'.join(['COG','KEGG','FUNCTION','GENE-NAME','PATHWAY-PRESENT','\\n'])\n",
    "ofile.write(header)\n",
    "for cog, kog,func,gname in cog_func_list:\n",
    "    line = '\\t'.join([cog,kog,func,gname,'YES','\\n'])\n",
    "    ofile.write(line)\n",
    "ofile.close()\n",
    "print \"Nodes (KEGG pathway present) with color attributes written\"\n"
   ]
  },
  {
   "cell_type": "code",
   "execution_count": 9,
   "metadata": {
    "collapsed": false
   },
   "outputs": [
    {
     "name": "stdout",
     "output_type": "stream",
     "text": [
      "Nodes (Genes not present in KEGG pathway) with color attributes written\n"
     ]
    }
   ],
   "source": [
    "cog_notPathway_func_list = [('COG4791','K0NONE','TYPE III SS-No','escT'),\n",
    "                 ('COG4789','K0NONE','TYPE III SS-No','escV'),\n",
    "                 ('COG4790','K0NONE','TYPE III SS-No','escR'),             \n",
    "                 ('COG5443','K06601','REGULATOR','flbT'),\n",
    "                 ('COG1582','K02385','HOOK','flbD'),\n",
    "                 ('COG1419','K02404','TYPE III SS-No','flhF'),\n",
    "                 ('COG4786','K0NONE','BASAL BODY','flgG'),\n",
    "                 ('COG4787','K0NONE','BASAL BODY','flgF'),\n",
    "                 ('COG1776','K03410','CHEMOTAXIS','cheC'),\n",
    "                 ('COG1705','K02395','REGULATOR','flgJ'),\n",
    "                 ('COG3951','K0NONE','BASAL BODY','none'),\n",
    "                 ('COG1580','K02415','BASAL BODY','fliL'),\n",
    "                 ('COG3334','K0NONE','CHAPERONE','motE'),\n",
    "                 ('COG4465','K0NONE','REGULATOR','codY'),\n",
    "                 ('COG3143','K03414','CHEMOTAXIS','cheZ'),\n",
    "                 ('COG1334','K06603','FILAMENT','flaG')]\n",
    "\n",
    "destDir = '/home/jaggu/research/projectFiles/operons/graphFiles/flagella'\n",
    "fname = 'flagella.COG.notInPathway.attr.tab'\n",
    "ofile = open(os.path.join(destDir,fname),'w')\n",
    "header = '\\t'.join(['COG','KEGG','FUNCTION','GENE-NAME','PATHWAY-PRESENT','\\n'])\n",
    "ofile.write(header)\n",
    "for cog, kog,func,gname in cog_notPathway_func_list:\n",
    "    line = '\\t'.join([cog,kog,func,gname,'NO','\\n'])\n",
    "    ofile.write(line)\n",
    "ofile.close()\n",
    "print \"Nodes (Genes not present in KEGG pathway) with color attributes written\""
   ]
  },
  {
   "cell_type": "markdown",
   "metadata": {},
   "source": [
    "***\n",
    "# Graphing an organism's operon path on top of the all organism path. \n",
    "\n",
    "<body> In essence I am trying to see how the graph matches to the path taken by one organism and compare with a path taken by another. \n",
    "Dictionaries that needs to be imported - \n",
    "</body>\n",
    "> orgDict -  Dictionary - {organism (three letter code) : organism Name, accession number},... <br />\n",
    "> fla_cogList_cutoff - List - [cogA, cogB, COUNT, dirFGOC, FGOC,COUNT(COG-A),COUNT(COG-B)],...; <br /> \n",
    "This also has cutoff score and all unassigned COG members are removed <br />\n",
    "> org_cogPair_dict - Dictionary - {(organism Name, accession number): (COG-A, COG-B), ...},...; <br />\n",
    "Unassigned COG genes are not discarded. <br />\n",
    "> org_FlagellaPairs_dict - Dictionary - {organism (three letter code) : [(COG-A,COG-B),...]...; <br />\n",
    "> cogPairs_fla_cutoff_allOrg_list - List - [(COG-A,COG-B),....]; This contains '-' or unassigned COG group. <br />\n",
    "> 'AllBacteria.cutoff.graph.tab' - Graph File - COG-A, COG-B, count, dfgoc, fgoc, aNbr, bNbr,... <br />\n",
    "A Tab delimited file for all COG pairs occuring for the flagellar assembly. The file contains unassigned COG groups (assigned as nan302 (for example)). \n"
   ]
  },
  {
   "cell_type": "code",
   "execution_count": 104,
   "metadata": {
    "collapsed": false
   },
   "outputs": [
    {
     "name": "stdout",
     "output_type": "stream",
     "text": [
      "Parsing organism eco ... \n",
      "Parsing organism eco ... \n",
      "flagella overlay on the metagenome graph for organism done : eco_eco ;\n",
      "Graph file created : eco_eco.flagella.overlayAll.graph.tab\n",
      "Parsing organism eco ... \n",
      "Parsing organism bsu ... \n",
      "flagella overlay on the metagenome graph for organism done : eco_bsu ;\n",
      "Graph file created : eco_bsu.flagella.overlayAll.graph.tab\n",
      "Parsing organism eco ... \n",
      "Parsing organism bhy ... \n",
      "flagella overlay on the metagenome graph for organism done : eco_bhy ;\n",
      "Graph file created : eco_bhy.flagella.overlayAll.graph.tab\n",
      "Parsing organism eco ... \n",
      "Parsing organism seo ... \n",
      "flagella overlay on the metagenome graph for organism done : eco_seo ;\n",
      "Graph file created : eco_seo.flagella.overlayAll.graph.tab\n",
      "Parsing organism eco ... \n",
      "Parsing organism rru ... \n",
      "flagella overlay on the metagenome graph for organism done : eco_rru ;\n",
      "Graph file created : eco_rru.flagella.overlayAll.graph.tab\n",
      "Parsing organism eco ... \n",
      "Parsing organism cjj ... \n",
      "flagella overlay on the metagenome graph for organism done : eco_cjj ;\n",
      "Graph file created : eco_cjj.flagella.overlayAll.graph.tab\n",
      "Parsing organism eco ... \n",
      "Parsing organism vfi ... \n",
      "flagella overlay on the metagenome graph for organism done : eco_vfi ;\n",
      "Graph file created : eco_vfi.flagella.overlayAll.graph.tab\n",
      "Parsing organism eco ... \n",
      "Parsing organism vch ... \n",
      "flagella overlay on the metagenome graph for organism done : eco_vch ;\n",
      "Graph file created : eco_vch.flagella.overlayAll.graph.tab\n",
      "Parsing organism eco ... \n",
      "Parsing organism pae ... \n",
      "flagella overlay on the metagenome graph for organism done : eco_pae ;\n",
      "Graph file created : eco_pae.flagella.overlayAll.graph.tab\n",
      "Parsing organism eco ... \n",
      "Parsing organism bbu ... \n",
      "flagella overlay on the metagenome graph for organism done : eco_bbu ;\n",
      "Graph file created : eco_bbu.flagella.overlayAll.graph.tab\n",
      "Parsing organism eco ... \n",
      "Parsing organism hpg ... \n",
      "flagella overlay on the metagenome graph for organism done : eco_hpg ;\n",
      "Graph file created : eco_hpg.flagella.overlayAll.graph.tab\n"
     ]
    }
   ],
   "source": [
    "\"\"\"\n",
    "I am going to provide an annotation file for the edges in the Allbacteria.cutoff.graph.tab file. The all flagella \n",
    "graph (brings in the '-' or unassigned COG). The mapping may be a little more inelegant. The AllBacteria graph has unassigned COG as nan[#number]. But the org_flagella pairs is in the form \n",
    "COG1,'-' while the flagellar COG Pairs in organisms is assigned as '-'. \n",
    "\"\"\"\n",
    "\n",
    "def isPairPresent(cog1,cog2,flaCOGPairs):\n",
    "    flag = True\n",
    "    if (cog1,cog2) in flaCOGPairs:flag = True\n",
    "    else: flag = False\n",
    "    return flag\n",
    "        \n",
    "    \n",
    "def makeEdgeAttribution(org,allCogPair_edgeAttr):\n",
    "    orgFlaPairs = org_FlagellaPairs_dict[org]\n",
    "    newPair_list = list()\n",
    "    for line in allCogPair_edgeAttr:\n",
    "        cog1,cog2,count,dfgoc,fgoc,anbr,bnbr,edgeAttr = line\n",
    "        if cog1.startswith('nan'): \n",
    "            anbr = 0\n",
    "            if isPairPresent('-',cog2,orgFlaPairs):\n",
    "                edgeAttr+='_'+str(org)\n",
    "        elif cog2.startswith('nan'):\n",
    "            bnbr = 0\n",
    "            if isPairPresent(cog1,'-',orgFlaPairs):\n",
    "                edgeAttr+='_'+str(org)\n",
    "        else:\n",
    "            if isPairPresent(cog1,cog2,orgFlaPairs):\n",
    "                edgeAttr+='_'+str(org)\n",
    "        newPair_list.append([cog1,cog2,count,dfgoc,fgoc,anbr,bnbr,edgeAttr])\n",
    "    return newPair_list\n",
    "\n",
    "def mapAttributionAll(lines):\n",
    "    allpair_edge = list()\n",
    "    edgeAttr = ['all']\n",
    "    for line in lines[1:]:\n",
    "        val = line.strip().split('\\t')\n",
    "        val.extend(edgeAttr)\n",
    "        allpair_edge.append(val)\n",
    "    return allpair_edge\n",
    "\n",
    "def overlayOrg(orgL):\n",
    "    \"\"\"\n",
    "    This function overlays single or pair of organism on the metagenome graph\n",
    "    \"\"\"\n",
    "    allCogPair_edgeAttr = mapAttributionAll(lines)\n",
    "\n",
    "    destDir = '/home/jaggu/research/projectFiles/operons/graphFiles/flagella/overlayOrgs'\n",
    "    oname = '_'.join(org for org in orgL)\n",
    "    fname2 = oname + '.flagella.overlayAll.graph.tab' \n",
    "    ofile = open(os.path.join(destDir,fname2),'w')\n",
    "    header = '\\t'.join(['COG-A','COG-B','COUNT','dirFGOC','FGOC','COUNT(COG-A)','COUNT(COG-B)','ORG','\\n'])\n",
    "    ofile.write(header)\n",
    "\n",
    "    for org in orgL:\n",
    "        allCogPair_edgeAttr = makeEdgeAttribution(org,allCogPair_edgeAttr)\n",
    "\n",
    "    for item in allCogPair_edgeAttr:\n",
    "        ofile.write('\\t'.join(map(str,item))+'\\n')\n",
    "    ofile.close()\n",
    "\n",
    "    print \"flagella overlay on the metagenome graph for organism done : %s ;\"%(oname)\n",
    "    print \"Graph file created : %s\"%(fname2)\n",
    "    return True\n",
    "    \n",
    "\"\"\"\n",
    "Retrieve the big metagenome graph for the flagella assembly genes (both the present). Overlay the graphs for the \n",
    "queried organisms.\n",
    "\"\"\"\n",
    "allCogPair_edgeAttr = list()\n",
    "destDir = '/home/jaggu/research/projectFiles/operons/graphFiles/flagella'\n",
    "fname1 = 'AllBacteria.cutoff.graph.tab'\n",
    "ifile = open(os.path.join(destDir,fname1),'r')\n",
    "lines = ifile.readlines()\n",
    "ifile.close()\n",
    "\n",
    "#orgL = ['eco','pae']\n",
    "allOrg = orgDict.keys()\n",
    "allOrgPair = [('eco',org) for org in allOrg]\n",
    "\n",
    "for orgL in allOrgPair:\n",
    "    overlayOrg(orgL)\n"
   ]
  },
  {
   "cell_type": "code",
   "execution_count": null,
   "metadata": {
    "collapsed": true
   },
   "outputs": [],
   "source": []
  },
  {
   "cell_type": "markdown",
   "metadata": {},
   "source": [
    "***\n",
    "## Evaluating the conservation of Flagellar gene pairs between organisms \n",
    "<body> Evaluating the graph for all the organisms is difficult to visualize. For the bacterial species considered, we could calculate a pathway order score (similar to the genomic order score calculated earlier). The pathway order score would take the following formalism - </body>\n",
    "\n",
    "$$ pathway\\,order\\,score (Organism 1 , Organism 2) = \\frac {Count \\,( COG \\; Pair (A,B) )_{\\small (between \\; organism - 1,2)}}{Count (COG Pairs)_{\\small(organism-1)}} $$\n",
    "\n",
    "<body>\n",
    "There is a direction for the score. I am hoping this would indicate the feasibility of changing the set of flagellar genes from one organism to another. This will account for missing cog pairs in organism 2 if they were present in organism 1. By making a heat map, we can visualize the similarity between organisms. A cluster of this will indicate which organisms are similar in terms of COG pairs. Perhaps there is a unifying reason the organisms will cluster. If the clustering is based on flagella arrangement, then it is home run! </body>\n",
    "\n"
   ]
  },
  {
   "cell_type": "code",
   "execution_count": 20,
   "metadata": {
    "collapsed": false
   },
   "outputs": [
    {
     "name": "stdout",
     "output_type": "stream",
     "text": [
      "Dictionary comparing flagellar COG pairs done : {((ORG1,ORG2) : Flagella Score),....}\n"
     ]
    }
   ],
   "source": [
    "# Calculating an organism gene order score (but only between flagella cogPairs) and a matrix between the organisms \n",
    "# With cutoff applied to the metagenomic flagella: Number of cogPairs = 51; \n",
    "# Then clustering it to see if we can get \n",
    "\"\"\"\n",
    "variables required - (1) fla_cogList_cutoff (also does not have NAN) (2) orgDict - {org:orgName} (3)\n",
    "\n",
    "\"\"\"\n",
    "from __future__ import division\n",
    "\n",
    "destDir = '/home/jaggu/research/projectFiles/operons/graphFiles/flagella'\n",
    "org_FlagellaPairs_noNAN_dict = dict()\n",
    "\n",
    "def getCOGpair(org):\n",
    "    cogPair = list()\n",
    "    orgFname = os.path.join(destDir,org+'.graph.tab')\n",
    "    ifile = open(orgFname,'r')\n",
    "    lines = ifile.readlines()\n",
    "    ifile.close()\n",
    "    for line in lines[1:]:\n",
    "        cog1, cog2 = line.split('\\t')[0], line.split('\\t')[1]\n",
    "        if not (cog1 == '-' or cog2 == '-'):\n",
    "            cogPair.extend([(cog1,cog2)])\n",
    "    return cogPair\n",
    "\n",
    "# Getting COGpair of organisms and removing '-' in COG pair\n",
    "for org in orgDict.keys():\n",
    "    org_FlagellaPairs_noNAN_dict[org]=getCOGpair(org) \n",
    "\n",
    "# Calculating the organism flagella comparison score; A matrix of all by all organism and the value being \n",
    "# Score between number of COG pairs between the two organisms. \n",
    "def intersect(a,b):\n",
    "    return list(set(a)&set(b))\n",
    "\n",
    "org_flaCompare_dict = dict()\n",
    "\n",
    "for org1 in orgDict.keys():\n",
    "    for org2 in orgDict.keys():\n",
    "        cogPairList_1 = org_FlagellaPairs_noNAN_dict[org1]\n",
    "        cogPairList_2 = org_FlagellaPairs_noNAN_dict[org2]\n",
    "        nbr_pair = len(intersect(cogPairList_1,cogPairList_2))\n",
    "        nbr_org1 = len(set(cogPairList_1))\n",
    "        org_flaCompare_dict[(org1,org2)]= nbr_pair/nbr_org1\n",
    "\n",
    "print \"Dictionary comparing flagellar COG pairs done : {((ORG1,ORG2) : Flagella Score),....}\"\n"
   ]
  },
  {
   "cell_type": "code",
   "execution_count": 21,
   "metadata": {
    "collapsed": false
   },
   "outputs": [
    {
     "data": {
      "image/png": "[encoded data removed]",
      "text/plain": [
       "<matplotlib.figure.Figure at 0x7f4c41118090>"
      ]
     },
     "metadata": {},
     "output_type": "display_data"
    }
   ],
   "source": [
    "\"\"\"\n",
    "Plotting a heat map between the comparison of organisms and the conservation of flagellar order\n",
    "Need variables: org_flaCompare_dict\n",
    "\"\"\"\n",
    "% matplotlib inline\n",
    "import numpy as np\n",
    "import matplotlib.pyplot as plt\n",
    "import pandas as pd\n",
    "\n",
    "imgDir = '/home/jaggu/research/projectFiles/operons/flagellaFigures'\n",
    "\n",
    "# Sorting order of organism; Default is just the order entered; Can be changed by patristic distance\n",
    "x_org_order = orgDict.keys() \n",
    "y_org_order = x_org_order\n",
    "col_labels = x_org_order\n",
    "row_labels = y_org_order\n",
    "\n",
    "data = np.zeros((len(x_org_order),len(y_org_order)),dtype=float)\n",
    "\n",
    "for i, org1 in enumerate(x_org_order):\n",
    "    for j, org2 in enumerate(y_org_order):\n",
    "        data[(i,j)]= org_flaCompare_dict[(org1,org2)]\n",
    "\n",
    "df = pd.DataFrame(data,columns=col_labels,index=row_labels)\n",
    "    \n",
    "# Heatmap\n",
    "#axm = fig.add_axes([0.26,0.1,0.6,0.6]) # x-pos, y-pos, width, height\n",
    "fig,axm = plt.subplots()\n",
    "cax = axm.matshow(df,interpolation='nearest', cmap='Blues')\n",
    "#fig.colorbar(cax)\n",
    "axm.set_xticks(range(len(df.columns)),minor=False)\n",
    "axm.set_yticks(range(len(df.index)),minor=False)\n",
    "axm.set_xticklabels(list(df.columns),rotation='vertical')\n",
    "axm.set_yticklabels(list(df.index))\n",
    "\n",
    "# Saving figure\n",
    "fname = 'flagella.orgCOGPairs.NoCluster.heatmap.svg'\n",
    "f = os.path.join(imgDir,fname)\n",
    "plt.savefig(f,dpi=300)"
   ]
  },
  {
   "cell_type": "code",
   "execution_count": 22,
   "metadata": {
    "collapsed": false
   },
   "outputs": [
    {
     "data": {
      "image/png": "[encoded data removed]",
      "text/plain": [
       "<matplotlib.figure.Figure at 0x7f4c12f73ad0>"
      ]
     },
     "metadata": {},
     "output_type": "display_data"
    }
   ],
   "source": [
    "import pandas as pd\n",
    "import scipy\n",
    "import scipy.cluster.hierarchy as sch\n",
    "\n",
    "D = data\n",
    "df = pd.DataFrame(D,columns=col_labels,index=row_labels)\n",
    "clusterMethod = 'single'\n",
    "\n",
    "# Compute and plot dendrogram.\n",
    "fig = plt.figure()\n",
    "axd = fig.add_axes([0.09,0.1,0.2,0.6])\n",
    "row_clusters = sch.linkage(df, method=clusterMethod,metric='euclidean') \n",
    "# Row label 1, 2, distance, #members\n",
    "row_dendr = sch.dendrogram(row_clusters,orientation='right',labels=row_labels)\n",
    "\n",
    "\n",
    "# reorder data with respect to clustering\n",
    "df_rowclust = df.ix[row_dendr['leaves'][::-1]]\n",
    "axd.set_xticks([])\n",
    "axd.set_yticks([])\n",
    "\n",
    "# remove axes spines from dendrogram\n",
    "for i in axd.spines.values():\n",
    "        i.set_visible(False)\n",
    "        \n",
    "# plot heatmap\n",
    "axm = fig.add_axes([0.26,0.1,0.6,0.6]) # x-pos, y-pos, width, height\n",
    "cax = axm.matshow(df_rowclust, interpolation='nearest', cmap='Blues')\n",
    "fig.colorbar(cax)\n",
    "axm.set_xticks(range(len(df_rowclust.columns)),minor=False)\n",
    "axm.set_yticks(range(len(df_rowclust.index)),minor=False)\n",
    "axm.set_xticklabels(list(df_rowclust.columns),rotation='vertical')\n",
    "axm.set_yticklabels(list(df_rowclust.index))\n",
    "\n",
    "# Saving figure\n",
    "fname = 'flagella.orgCluster.method_'+clusterMethod+'.row.heatmap.svg'\n",
    "f = os.path.join(imgDir,fname)\n",
    "plt.savefig(f,dpi=300)"
   ]
  },
  {
   "cell_type": "code",
   "execution_count": 23,
   "metadata": {
    "collapsed": false
   },
   "outputs": [
    {
     "data": {
      "image/png": "[encoded data removed]",
      "text/plain": [
       "<matplotlib.figure.Figure at 0x7f4c0301f690>"
      ]
     },
     "metadata": {},
     "output_type": "display_data"
    }
   ],
   "source": [
    "# Clustering by both row and column\n",
    "\n",
    "import pandas as pd\n",
    "import scipy\n",
    "import scipy.cluster.hierarchy as sch\n",
    "\n",
    "D = data\n",
    "df = pd.DataFrame(D,columns=col_labels,index=row_labels)\n",
    "\n",
    "# Compute pairwise distances for columns\n",
    "col_clusters = sch.linkage(df.T, method='complete',metric='euclidean')\n",
    "row_clusters = sch.linkage(df, method='complete',metric='euclidean') \n",
    "\n",
    "# plot column dendrogram\n",
    "sch.set_link_color_palette(['black'])\n",
    "fig = plt.figure()\n",
    "\n",
    "axd2 = fig.add_axes([0.38,0.74,0.36,0.10]) \n",
    "col_dendr = sch.dendrogram(col_clusters, orientation='top',\n",
    "                       color_threshold=np.inf) # makes dendrogram black)\n",
    "axd2.set_xticks([])\n",
    "axd2.set_yticks([])\n",
    "\n",
    "# plot row dendrogram\n",
    "axd1 = fig.add_axes([0.09,0.1,0.2,0.6])\n",
    "row_dendr = sch.dendrogram(row_clusters, orientation='right',  \n",
    "                       count_sort='ascending',\n",
    "                       color_threshold=np.inf) # makes dendrogram black\n",
    "axd1.set_xticks([])\n",
    "axd1.set_yticks([])\n",
    "\n",
    "# remove axes spines from dendrogram\n",
    "for i,j in zip(axd1.spines.values(), axd2.spines.values()):\n",
    "        i.set_visible(False)\n",
    "        j.set_visible(False)\n",
    "        \n",
    "# reorder columns and rows with respect to the clustering\n",
    "df_rowclust = df.ix[row_dendr['leaves'][::-1]]\n",
    "df_rowclust.columns = [df_rowclust.columns[col_dendr['leaves']]]\n",
    "\n",
    "# plot heatmap\n",
    "axm = fig.add_axes([0.26,0.1,0.6,0.6])\n",
    "cax = axm.matshow(df_rowclust, interpolation='nearest', cmap='Blues')\n",
    "fig.colorbar(cax)\n",
    "axm.set_xticks(range(len(df_rowclust.columns)),minor=False)\n",
    "axm.set_yticks(range(len(df_rowclust.index)),minor=False)\n",
    "axm.set_xticklabels(list(df_rowclust.columns),rotation='vertical')\n",
    "axm.set_yticklabels(list(df_rowclust.index))\n",
    "\n",
    "plt.show()\n"
   ]
  }
 ],
 "metadata": {
  "kernelspec": {
   "display_name": "Python 2",
   "language": "python",
   "name": "python2"
  },
  "language_info": {
   "codemirror_mode": {
    "name": "ipython",
    "version": 2
   },
   "file_extension": ".py",
   "mimetype": "text/x-python",
   "name": "python",
   "nbconvert_exporter": "python",
   "pygments_lexer": "ipython2",
   "version": "2.7.10"
  }
 },
 "nbformat": 4,
 "nbformat_minor": 0
}
