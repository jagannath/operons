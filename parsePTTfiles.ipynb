{
 "cells": [
  {
   "cell_type": "markdown",
   "metadata": {},
   "source": [
    "Author: Jagannath\n",
    "\n",
    "Date: 25th Sept 2015\n",
    "\n",
    "Last modified : 25th Sept 2015\n",
    "\n",
    "The file parses the .ptt file to extract information about the CDS (protein coding genes). <br />\n",
    "Total number of species analyzed : 2,774 <br />\n",
    "Total number of genomes (including plasmids) : 5,220 <br />\n",
    "\n",
    "Example of the format (tab delimited)- \n",
    "    Acaryochloris marina MBIC11017 chromosome, complete genome - 1..6503724\n",
    "\t6254 proteins <br />\n",
    "\tLocation\tStrand\tLength\tPID\tGene\tSynonym\tCode\tCOG\tProduct\n",
    "\t1627..2319\t-\t230\t158333234\t-\tAM1_0003\t-\tCOG1051F\tNUDIX hydrolase\n",
    "<br />\n",
    "Locus_tag is used as the identifier although PID (protein ID) is also provided. The dictionaries created are - \n",
    "<ol>\n",
    "<li>{ locus_tag : [accNbr, rank, geneName, PID (protein ID), (startPos,endPos), COG (COG number with Code)] }</li>\n",
    "<li>{ COG (w/ code) : ( [locus_tag1, locus_tag2, ...],Count of locus_tags ) }</li>\n",
    "<li>{ COG(A)-COG(B) : count } # Count of number of times when COG(A) before COG(B); A --> B on the same strand</li>\n",
    "<li>{ (orgName,accNbr):( (COG(A),COG(B)),....) )\n",
    "<li>{ COG(A)-COG(B) : set([(orgName,accNbr),...])}\n",
    "</ol>\n",
    "[! In future, maybe can think of A --> B (but A and B are on different strands); \n",
    "Also this NCBI link has details about its precomputed clusters [link]( ftp://ftp.ncbi.nlm.nih.gov/genomes/Bacteria/CLUSTERS)\n",
    "\n"
   ]
  },
  {
   "cell_type": "code",
   "execution_count": 2,
   "metadata": {
    "collapsed": false,
    "scrolled": false
   },
   "outputs": [
    {
     "name": "stdout",
     "output_type": "stream",
     "text": [
      "Starting  Thu Dec 24 14:02:46 2015\n",
      "LSLSLSLSLSLSLSLSLSLSLSLSLSLSLSLSLSL\n",
      "LSLSLSLSSLSLSLSLSLSLSLSLSLSLSLSLSLSLSL\n",
      "LSLSL\n",
      "L\n",
      "LSLSLSLSSLSLSLSLSL\n",
      "LSLSSLSSLSLSLSLSLSLSLSLSLSLSLSLSLSLSL\n"
     ]
    },
    {
     "ename": "KeyboardInterrupt",
     "evalue": "",
     "output_type": "error",
     "traceback": [
      "\u001b[1;31m---------------------------------------------------------------------------\u001b[0m",
      "\u001b[1;31mKeyboardInterrupt\u001b[0m                         Traceback (most recent call last)",
      "\u001b[1;32m<ipython-input-2-90aae8b3c07d>\u001b[0m in \u001b[0;36m<module>\u001b[1;34m()\u001b[0m\n\u001b[0;32m    244\u001b[0m \u001b[1;32mprint\u001b[0m \u001b[1;34m\"Starting \"\u001b[0m\u001b[1;33m,\u001b[0m\u001b[0mtime\u001b[0m\u001b[1;33m.\u001b[0m\u001b[0mctime\u001b[0m\u001b[1;33m(\u001b[0m\u001b[1;33m)\u001b[0m\u001b[1;33m\u001b[0m\u001b[0m\n\u001b[0;32m    245\u001b[0m \u001b[1;31m#main(sourceDir)\u001b[0m\u001b[1;33m\u001b[0m\u001b[1;33m\u001b[0m\u001b[0m\n\u001b[1;32m--> 246\u001b[1;33m \u001b[0mtest_case\u001b[0m\u001b[1;33m(\u001b[0m\u001b[1;33m)\u001b[0m\u001b[1;33m\u001b[0m\u001b[0m\n\u001b[0m\u001b[0;32m    247\u001b[0m \u001b[1;32mprint\u001b[0m \u001b[1;34m\"Parsing all genomes done\"\u001b[0m\u001b[1;33m,\u001b[0m\u001b[0mtime\u001b[0m\u001b[1;33m.\u001b[0m\u001b[0mctime\u001b[0m\u001b[1;33m(\u001b[0m\u001b[1;33m)\u001b[0m\u001b[1;33m\u001b[0m\u001b[0m\n",
      "\u001b[1;32m<ipython-input-2-90aae8b3c07d>\u001b[0m in \u001b[0;36mtest_case\u001b[1;34m()\u001b[0m\n\u001b[0;32m    233\u001b[0m     \u001b[0mtest\u001b[0m \u001b[1;33m=\u001b[0m \u001b[0mPTTfile\u001b[0m\u001b[1;33m(\u001b[0m\u001b[0mos\u001b[0m\u001b[1;33m.\u001b[0m\u001b[0mpath\u001b[0m\u001b[1;33m.\u001b[0m\u001b[0mjoin\u001b[0m\u001b[1;33m(\u001b[0m\u001b[0msourceDir\u001b[0m\u001b[1;33m,\u001b[0m\u001b[0morgName\u001b[0m\u001b[1;33m,\u001b[0m\u001b[0mpttFile\u001b[0m\u001b[1;33m)\u001b[0m\u001b[1;33m)\u001b[0m\u001b[1;33m\u001b[0m\u001b[0m\n\u001b[0;32m    234\u001b[0m     \u001b[0mtest\u001b[0m\u001b[1;33m.\u001b[0m\u001b[0mget_DNAsequence\u001b[0m\u001b[1;33m(\u001b[0m\u001b[1;33m)\u001b[0m\u001b[1;33m\u001b[0m\u001b[0m\n\u001b[1;32m--> 235\u001b[1;33m     \u001b[0mtest\u001b[0m\u001b[1;33m.\u001b[0m\u001b[0mpopulateDict\u001b[0m\u001b[1;33m(\u001b[0m\u001b[1;33m)\u001b[0m\u001b[1;33m\u001b[0m\u001b[0m\n\u001b[0m\u001b[0;32m    236\u001b[0m \u001b[1;33m\u001b[0m\u001b[0m\n\u001b[0;32m    237\u001b[0m     \u001b[1;31m#print org_cogPair_dict.items()[0]\u001b[0m\u001b[1;33m\u001b[0m\u001b[1;33m\u001b[0m\u001b[0m\n",
      "\u001b[1;32m<ipython-input-2-90aae8b3c07d>\u001b[0m in \u001b[0;36mpopulateDict\u001b[1;34m(self)\u001b[0m\n\u001b[0;32m    170\u001b[0m             \u001b[0mgeneA_GC\u001b[0m\u001b[1;33m,\u001b[0m\u001b[0mgeneB_GC\u001b[0m\u001b[1;33m,\u001b[0m \u001b[0mintergenic_GC\u001b[0m\u001b[1;33m,\u001b[0m\u001b[0mintergenic_seq\u001b[0m \u001b[1;33m=\u001b[0m \u001b[0mself\u001b[0m\u001b[1;33m.\u001b[0m\u001b[0mgetGCcontent\u001b[0m\u001b[1;33m(\u001b[0m\u001b[1;33m(\u001b[0m\u001b[0mlposA\u001b[0m\u001b[1;33m,\u001b[0m\u001b[0mrposA\u001b[0m\u001b[1;33m)\u001b[0m\u001b[1;33m,\u001b[0m\u001b[1;33m(\u001b[0m\u001b[0mlposB\u001b[0m\u001b[1;33m,\u001b[0m\u001b[0mrposB\u001b[0m\u001b[1;33m)\u001b[0m\u001b[1;33m)\u001b[0m\u001b[1;33m\u001b[0m\u001b[0m\n\u001b[0;32m    171\u001b[0m             \u001b[1;31m#org_lTagPairInterGeneSeq_dict[(self.orgName,self.accNbr)].append([lTagA,lTagB,intergenic_seq])\u001b[0m\u001b[1;33m\u001b[0m\u001b[1;33m\u001b[0m\u001b[0m\n\u001b[1;32m--> 172\u001b[1;33m             \u001b[0msecStr\u001b[0m \u001b[1;33m=\u001b[0m \u001b[0mself\u001b[0m\u001b[1;33m.\u001b[0m\u001b[0mgetSecStr\u001b[0m\u001b[1;33m(\u001b[0m\u001b[0mintergenic_seq\u001b[0m\u001b[1;33m)\u001b[0m\u001b[1;33m\u001b[0m\u001b[0m\n\u001b[0m\u001b[0;32m    173\u001b[0m             \u001b[1;32mprint\u001b[0m \u001b[0msecStr\u001b[0m\u001b[1;33m\u001b[0m\u001b[0m\n\u001b[0;32m    174\u001b[0m             \u001b[0mbp_dist\u001b[0m \u001b[1;33m=\u001b[0m \u001b[0mself\u001b[0m\u001b[1;33m.\u001b[0m\u001b[0mcalculate_intergenicDistance\u001b[0m\u001b[1;33m(\u001b[0m\u001b[0mlposB\u001b[0m\u001b[1;33m,\u001b[0m\u001b[0mrposA\u001b[0m\u001b[1;33m)\u001b[0m\u001b[1;33m\u001b[0m\u001b[0m\n",
      "\u001b[1;32m<ipython-input-2-90aae8b3c07d>\u001b[0m in \u001b[0;36mgetSecStr\u001b[1;34m(self, dnaSeq)\u001b[0m\n\u001b[0;32m    145\u001b[0m \u001b[1;33m\u001b[0m\u001b[0m\n\u001b[0;32m    146\u001b[0m     \u001b[1;32mdef\u001b[0m \u001b[0mgetSecStr\u001b[0m\u001b[1;33m(\u001b[0m\u001b[0mself\u001b[0m\u001b[1;33m,\u001b[0m\u001b[0mdnaSeq\u001b[0m\u001b[1;33m)\u001b[0m\u001b[1;33m:\u001b[0m\u001b[1;33m\u001b[0m\u001b[0m\n\u001b[1;32m--> 147\u001b[1;33m         \u001b[0mdotNot\u001b[0m \u001b[1;33m=\u001b[0m \u001b[0mRNA\u001b[0m\u001b[1;33m.\u001b[0m\u001b[0mfold\u001b[0m\u001b[1;33m(\u001b[0m\u001b[0mdnaSeq\u001b[0m\u001b[1;33m)\u001b[0m\u001b[1;33m[\u001b[0m\u001b[1;36m0\u001b[0m\u001b[1;33m]\u001b[0m\u001b[1;33m\u001b[0m\u001b[0m\n\u001b[0m\u001b[0;32m    148\u001b[0m         \u001b[0mre\u001b[0m\u001b[1;33m.\u001b[0m\u001b[0mfindall\u001b[0m\u001b[1;33m(\u001b[0m\u001b[1;34m\"\\(+\"\u001b[0m\u001b[1;33m,\u001b[0m\u001b[0mdotNot\u001b[0m\u001b[1;33m)\u001b[0m\u001b[1;33m\u001b[0m\u001b[0m\n\u001b[0;32m    149\u001b[0m         \u001b[0m_rep\u001b[0m \u001b[1;33m=\u001b[0m \u001b[0mre\u001b[0m\u001b[1;33m.\u001b[0m\u001b[0msub\u001b[0m\u001b[1;33m(\u001b[0m\u001b[1;34m\"\\(+\"\u001b[0m\u001b[1;33m,\u001b[0m\u001b[1;34m\"S\"\u001b[0m\u001b[1;33m,\u001b[0m\u001b[0mdotNot\u001b[0m\u001b[1;33m)\u001b[0m\u001b[1;33m\u001b[0m\u001b[0m\n",
      "\u001b[1;31mKeyboardInterrupt\u001b[0m: "
     ]
    }
   ],
   "source": [
    "from __future__ import division\n",
    "import os\n",
    "from collections import defaultdict\n",
    "import fnmatch\n",
    "import pickle\n",
    "import re\n",
    "import time\n",
    "import sys\n",
    "sys.path.append('/home/jaggu/research/downloads/vienna/viennaRNA/lib/python2.7/site-packages')\n",
    "import RNA\n",
    "\n",
    "class PTTfile:\n",
    "\n",
    "    def __init__(self,pttFile):\n",
    "        self.pttFile = pttFile\n",
    "        self.accNbr = os.path.split(pttFile)[-1].split('.')[0]\n",
    "        self.orgName = os.path.split(os.path.split(pttFile)[0])[1]\n",
    "        self.fnaFile = self.getFnaFile(pttFile) \n",
    "        #This is the fasta file of the entire sequence; Note there is substitution of directory\n",
    "    \n",
    "    def getFnaFile(self,pttFile):\n",
    "        s = pttFile\n",
    "        p = re.compile('allGenomePttFiles')\n",
    "        fnaFile = p.sub('allGenomeFnaFiles',s)\n",
    "        fnaFile = fnaFile[:-4]+'.fna'\n",
    "        return fnaFile\n",
    "    \n",
    "    def openPttFile(self):\n",
    "        f = self.pttFile\n",
    "        ifile = open(f,'r')\n",
    "        allLines = ifile.readlines()\n",
    "        orgInfo = allLines[0]\n",
    "        self.genome_size = int(orgInfo.strip().split('..')[-1])\n",
    "        lines = allLines[3:] #Skipping the header\n",
    "        ifile.close()\n",
    "        return lines\n",
    "        \n",
    "    def getPos(self,loc,strand):\n",
    "        if strand is '+':\n",
    "            startPos, endPos = map(int,loc.split('..'))\n",
    "        else:\n",
    "            endPos, startPos = map(int,loc.split('..'))\n",
    "        return (startPos,endPos)\n",
    "\n",
    "    def makeLinePairs(self,lines):\n",
    "        # Makes pairs of adjacent genes; By default all genomes are considered circular. So the last pair in the lines \n",
    "        # is the last gene --> first gene\n",
    "        # Returns list of [(line0,line1,rank0),(line1,line2,rank1),...(line4175,line0,rank4175)]\n",
    "        nbrGenes = len(lines)\n",
    "        line_first = lines[0]\n",
    "        line_last = lines[-1]\n",
    "        lines_shift = lines[1:]\n",
    "        lines_shift.append(line_first)\n",
    "        linePairs = zip(lines,lines_shift,range(nbrGenes))\n",
    "        return linePairs\n",
    "\n",
    "    def getCDSinfo(self,line,rank):\n",
    "        # Column information\n",
    "        # [0]Location\t[1]Strand\t[2]Length\t[3]PID\t[4]Gene\t[5]Synonym\t[6]Code\t[7]COG\t[8]Product\n",
    "        (loc, strand, pid, gene, locus_tag, COG) = (line.split('\\t')[i] for i in [0,1,3,4,5,7])\n",
    "        if ',' in COG: # There are some wierd .ptt files wherein the COG is written as COG1,COG1\n",
    "            COG = COG.split(',')[0]\n",
    "        if not COG.startswith('-'):\n",
    "            [COG] = re.findall(\"COG\\d+\",COG)\n",
    "        #pos = getPos(loc,strand)\n",
    "        pos = map(int,loc.split('..'))\n",
    "        cds_info = [self.accNbr, rank, locus_tag, gene, pid, pos, strand, COG]\n",
    "        return cds_info\n",
    "\n",
    "    def getCOGpair(self,geneA,geneB):\n",
    "        # Returns a tuple of COGpairs; If orientation is '-' and '-', then the cogpairs are reversed accordingly\n",
    "        cogPair = ('-','-')\n",
    "        strA = geneA[-2]\n",
    "        strB = geneB[-2]\n",
    "        if strA == strB == '+':\n",
    "            cogPair = (geneA[-1],geneB[-1])\n",
    "        elif strA == strB == '-':\n",
    "            cogPair = (geneB[-1],geneA[-1])\n",
    "        else:\n",
    "            cogPair = ('-','-')\n",
    "        return cogPair\n",
    "    \n",
    "    def get_DNAsequence(self):\n",
    "        ifile = open(self.fnaFile,'r')\n",
    "        lines = ifile.readlines()\n",
    "        ifile.close()\n",
    "        allDNA = ''\n",
    "        for l in lines[1:]:\n",
    "            allDNA+=l.strip()\n",
    "        return allDNA\n",
    "    \n",
    "    def getSeq(self,start,end):\n",
    "        return self.allDNA[start:end]\n",
    "\n",
    "    def getGC(self,seq):\n",
    "        try:\n",
    "            gc = (seq.count('G')+seq.count('C'))/len(seq)\n",
    "        except ZeroDivisionError:\n",
    "            gc = 0\n",
    "        return gc\n",
    "    \n",
    "    def getStartEnd(self,lposB,rposA):\n",
    "        dist = lposB - rposA\n",
    "        if dist >= 0:\n",
    "            start = rposA\n",
    "            end = lposB\n",
    "        else:\n",
    "            if abs(dist) > self.genome_size/100: # Some large number; This is for gene pairs (first and last gene)\n",
    "                startA = rposA\n",
    "                endA = self.genome_size\n",
    "                startB = 0\n",
    "                endB = lposB\n",
    "                return ((startA,endA),(startB,endB))\n",
    "            else:\n",
    "                start = lposB\n",
    "                end = rposA\n",
    "        return ((start,end),True)\n",
    "\n",
    "    def calculate_intergenicDistance(self,lposB,rposA):\n",
    "        dist = lposB - rposA\n",
    "        if abs(dist) > self.genome_size/100: # Some large number; This is for gene pairs (first and last gene)\n",
    "            dist = (self.genome_size - rposA) + lposB\n",
    "        return dist\n",
    "    \n",
    "    def getGCcontent(self,(lposA,rposA),(lposB,rposB)):\n",
    "        seqA = self.getSeq(lposA,rposA)\n",
    "        seqB = self.getSeq(lposB,rposB)\n",
    "        geneA_GC = self.getGC(seqA)\n",
    "        geneB_GC = self.getGC(seqB)\n",
    "        \n",
    "        # Intergenic\n",
    "        between1,between2 = self.getStartEnd(lposB,rposA)\n",
    "        if between2 is True:\n",
    "            start, end = between1\n",
    "            seq = self.getSeq(start,end)\n",
    "        else: #If these are the last gene pairs on the chromosome\n",
    "            startA,endA = between1\n",
    "            seq1 = self.getSeq(startA,endA)\n",
    "            startB,endB = between2\n",
    "            seq2 = self.getSeq(startB,endB)\n",
    "            seq = seq1 + seq2\n",
    "\n",
    "        intergenic_GC = self.getGC(seq)\n",
    "        return geneA_GC,geneB_GC,intergenic_GC,seq\n",
    "    \n",
    "    def getSecStr(self,dnaSeq):\n",
    "        dotNot = RNA.fold(dnaSeq)[0]\n",
    "        re.findall(\"\\(+\",dotNot)\n",
    "        _rep = re.sub(\"\\(+\",\"S\",dotNot)\n",
    "        _rep = re.sub(\"\\)+\",\"S\",_rep)\n",
    "        slNotation = re.sub(\"\\.+\",\"L\",_rep)\n",
    "        return slNotation\n",
    "    \n",
    "    def populateDict(self):\n",
    "        self.allDNA = self.get_DNAsequence()\n",
    "        lines = self.openPttFile()\n",
    "        linePairs = self.makeLinePairs(lines)\n",
    "        for pair in linePairs:\n",
    "            cogPair = ('-','-')\n",
    "            lineA,lineB,rankA = pair\n",
    "            geneA = self.getCDSinfo(lineA,rankA)\n",
    "            geneB = self.getCDSinfo(lineB,rankA+1)\n",
    "            lTagA = geneA[2]; lTagB = geneB[2]\n",
    "            cogPair = self.getCOGpair(geneA,geneB)\n",
    "            cogPair_count_dict[cogPair]+=1\n",
    "            cog_locusTagList_dict[geneA[-1]].append(geneA[2])\n",
    "            locus_cog_dict[geneA[2]] = geneA[7]\n",
    "            lposA,rposA = geneA[5]\n",
    "            lposB,rposB = geneB[5]\n",
    "            geneA_GC,geneB_GC, intergenic_GC,intergenic_seq = self.getGCcontent((lposA,rposA),(lposB,rposB))\n",
    "            #org_lTagPairInterGeneSeq_dict[(self.orgName,self.accNbr)].append([lTagA,lTagB,intergenic_seq])\n",
    "            secStr = self.getSecStr(intergenic_seq)\n",
    "            print secStr\n",
    "            bp_dist = self.calculate_intergenicDistance(lposB,rposA)\n",
    "            if not cogPair == ('-','-'):\n",
    "                org_cogPair_dict[(self.orgName,self.accNbr)].append(cogPair)\n",
    "                org_cog_dict[(self.orgName,self.accNbr)].append(cogPair[0])\n",
    "                cogPair_org_dict[cogPair].append((self.orgName,self.accNbr))\n",
    "                cogPair_bpdist_dict[cogPair].append(bp_dist)\n",
    "                cogPair_GCcontent_dict[cogPair].append((geneA_GC,geneB_GC,intergenic_GC))\n",
    "                org_lTagPair_dict[(self.orgName,self.accNbr)].append((lTagA,lTagB))\n",
    "                \n",
    "# Defining dictionary\n",
    "cogPair_count_dict = defaultdict(int)\n",
    "cog_locusTagList_dict = defaultdict(list)\n",
    "locus_cog_dict = dict()\n",
    "org_cogPair_dict = defaultdict(list) \n",
    "org_cog_dict = defaultdict(list)\n",
    "cogPair_org_dict = defaultdict(list)\n",
    "cogPair_bpdist_dict = defaultdict(list)\n",
    "cogPair_GCcontent_dict = defaultdict(list)\n",
    "org_lTagPair_dict = defaultdict(list)\n",
    "org_lTagPairInterGeneSeq_dict = defaultdict(list)\n",
    "\n",
    "sourceDir = '/home/jaggu/research/allGenomePttFiles'\n",
    "pklPath = '/home/jaggu/research/projectFiles/operons/pklFiles'\n",
    "\n",
    "def locate(pattern, root=os.curdir):\n",
    "    '''Locate all files matching supplied filename pattern in and\n",
    "    below supplied root directory.'''\n",
    "    allFiles = []\n",
    "    for path, dirs, files in os.walk(os.path.abspath(root)):\n",
    "        for filename in fnmatch.filter(files, pattern):\n",
    "            allFiles.append(os.path.join(path,filename))\n",
    "    return allFiles\n",
    "\n",
    "def savePkl(db,pklFname):\n",
    "    f = os.path.join(pklPath,pklFname)\n",
    "    pickle.dump(db,open(f,'w'))\n",
    "    return \n",
    "\n",
    "def main(sourceDir):\n",
    "    allPttFiles = locate('*.ptt',sourceDir)\n",
    "    for pttFile in allPttFiles:\n",
    "        #print \"Parsing %s ....\"%(pttFile)\n",
    "        genome = PTTfile(pttFile)\n",
    "        genome.populateDict()\n",
    "    savePkl(cogPair_count_dict,'cogPair_count.dict.pkl')\n",
    "    savePkl(cog_locusTagList_dict,'cog_locusTag.dict.pkl')\n",
    "    savePkl(locus_cog_dict,'locus_cog.dict.pkl')\n",
    "    savePkl(org_cogPair_dict,'org_cogPair.dict.pkl')\n",
    "    savePkl(org_cog_dict,'org_cogList.dict.pkl')\n",
    "    savePkl(cogPair_org_dict,'cogPair_org.dict.pkl')\n",
    "    savePkl(cogPair_bpdist_dict,'cogPair_bpdist.dict.pkl')\n",
    "    savePkl(cogPair_GCcontent_dict,'cogPair_GCcontent.dict.pkl')\n",
    "    savePkl(org_lTagPair_dict,'org_locusTagPair.dict.pkl')\n",
    "    savePkl(org_lTagPairInterGeneSeq_dict,'org_locusTagPairInterGeneSeq.dict.pkl')\n",
    "    print \"Parsed all files at\",time.ctime()\n",
    "        \n",
    "def test_case():\n",
    "    orgName = 'Bacillus_subtilis_168_uid57675'\n",
    "    pttFile = 'NC_000964.ptt'\n",
    "    test = PTTfile(os.path.join(sourceDir,orgName,pttFile))\n",
    "    test.get_DNAsequence()\n",
    "    test.populateDict()\n",
    "    \n",
    "    #print org_cogPair_dict.items()[0]\n",
    "    #print len(set(org_cog_dict.values()[0]))\n",
    "    #print len(org_cog_dict.values()[0])\n",
    "    #print cogPair_count_dict\n",
    "    #print cogPair_bpdist_dict\n",
    "    #print cogPair_GCcontent_dict.items()[10]\n",
    "\n",
    "print \"Starting \",time.ctime()\n",
    "#main(sourceDir)\n",
    "test_case()\n",
    "print \"Parsing all genomes done\",time.ctime()"
   ]
  },
  {
   "cell_type": "code",
   "execution_count": 26,
   "metadata": {
    "collapsed": false
   },
   "outputs": [
    {
     "name": "stdout",
     "output_type": "stream",
     "text": [
      "Dictionaries pickled\n"
     ]
    }
   ],
   "source": [
    "# Mapping KEGG orthogroup (kog) to COG orthogroup or a list of COG (cog)\n",
    "# This is a many to many set mapping; The file was downloaded from KEGG database.\n",
    "import os\n",
    "import re\n",
    "from collections import defaultdict\n",
    "import cPickle as pickle\n",
    "\n",
    "sourceDir = '/home/jaggu/research/downloads/cogDB'\n",
    "fname = 'kog2cog.txt'\n",
    "ifile = open(os.path.join(sourceDir,fname),'r')\n",
    "lines = ifile.readlines()\n",
    "ifile.close()\n",
    "\n",
    "def savePkl(db,pklFname):\n",
    "    pklPath = '/home/jaggu/research/projectFiles/operons/pklFiles'\n",
    "    f = os.path.join(pklPath,pklFname)\n",
    "    pickle.dump(db,open(f,'w'))\n",
    "    return \n",
    "\n",
    "# Dictionary \n",
    "kog_cogList_dict = dict()\n",
    "cog_kogList_dict = defaultdict(list)\n",
    "\n",
    "for line in lines[1:]:\n",
    "    kog,cogStr = line.split('\\t')\n",
    "    cogList = re.findall(\"COG\\d+\",cogStr)\n",
    "    kog_cogList_dict[kog]=cogList\n",
    "    for cog in cogList:\n",
    "        cog_kogList_dict[cog].append(kog) \n",
    "\n",
    "savePkl(kog_cogList_dict,'kog_cogList.dict.pkl')\n",
    "savePkl(cog_kogList_dict,'cog_kogList.dict.pkl')\n",
    "\n",
    "print \"Dictionaries pickled\"\n"
   ]
  },
  {
   "cell_type": "code",
   "execution_count": 1,
   "metadata": {
    "collapsed": false
   },
   "outputs": [
    {
     "name": "stdout",
     "output_type": "stream",
     "text": [
      "Dictionaries loaded Wed Dec 23 16:01:24 2015\n"
     ]
    }
   ],
   "source": [
    "import time\n",
    "import os\n",
    "import pickle\n",
    "\n",
    "def loadPkl(fname):\n",
    "    pklDir = '/home/jaggu/research/projectFiles/operons/pklFiles'\n",
    "    f = os.path.join(pklDir,fname)\n",
    "    db = pickle.load(open(f))\n",
    "    return db\n",
    "\n",
    "def savePkl(db,pklFname):\n",
    "    pklDir = '/home/jaggu/research/projectFiles/operons/pklFiles'    \n",
    "    f = os.path.join(pklDir,pklFname)\n",
    "    pickle.dump(db,open(f,'w'))\n",
    "    return \n",
    "\n",
    "#cogPair_fgocInfo_dict = loadPkl('cogPair_fgocInfo.dict.pkl')\n",
    "#cog_func_dict = loadPkl('cogFunc.dict.pkl')\n",
    "#cog_locusTag_dict = loadPkl('cog_locusTag.dict.pkl')\n",
    "print \"Dictionaries loaded\",time.ctime()"
   ]
  },
  {
   "cell_type": "code",
   "execution_count": 10,
   "metadata": {
    "collapsed": false
   },
   "outputs": [
    {
     "name": "stdout",
     "output_type": "stream",
     "text": [
      "Dictionaries loaded Wed Dec 23 16:21:15 2015\n"
     ]
    }
   ],
   "source": [
    "cog_spList = loadPkl('cog_spList.dict.pkl')\n",
    "cog_func_dict = loadPkl('cogFunc.dict.pkl')\n",
    "cog_locusTag_dict = loadPkl('cog_locusTag.dict.pkl')\n",
    "\n",
    "\n",
    "print \"Dictionaries loaded\",time.ctime()"
   ]
  },
  {
   "cell_type": "code",
   "execution_count": 12,
   "metadata": {
    "collapsed": false
   },
   "outputs": [
    {
     "name": "stdout",
     "output_type": "stream",
     "text": [
      "Total number of genes mapped :  4046852\n",
      "/home/jaggu/research/projectFiles/operons/figures/COG_function_composition.totalLtag.bar.svg\n"
     ]
    },
    {
     "data": {
      "image/png": "[encoded data removed]",
      "text/plain": [
       "<matplotlib.figure.Figure at 0x7f8bbc8fc890>"
      ]
     },
     "metadata": {},
     "output_type": "display_data"
    }
   ],
   "source": [
    "# Statistics of the COG functions\n",
    "# Redid this figure at species level collapse\n",
    "import os\n",
    "import pickle\n",
    "import collections\n",
    "from operator import itemgetter\n",
    "\n",
    "imgDir = '/home/jaggu/research/projectFiles/operons/figures'\n",
    "\n",
    "% matplotlib inline\n",
    "import numpy as np\n",
    "import matplotlib.pyplot as plt\n",
    "\n",
    "code_fname = os.path.join('/home/jaggu/research/downloads/cogDB','fun2003-2014.tab')\n",
    "ifile = open(code_fname)\n",
    "lines = ifile.readlines()\n",
    "ifile.close()\n",
    "\n",
    "code_category_dict = dict()\n",
    "for line in lines[1:]:\n",
    "    code, name = line.strip().split('\\t')\n",
    "    code_category_dict[code]=name\n",
    "\n",
    "category_counts_dict = collections.defaultdict(int)\n",
    "\n",
    "for cog, ltag in cog_locusTag_dict.items():\n",
    "    codeNames, func = cog_func_dict.get(cog,(None,None))\n",
    "    if func:\n",
    "        if len(codeNames)>1:\n",
    "            catSplit = list(codeNames)\n",
    "            for code in catSplit: \n",
    "                category_counts_dict[code]+=len(ltag)\n",
    "        else:\n",
    "            category_counts_dict[codeNames]+=len(ltag)\n",
    "\n",
    "            \n",
    "xNames = list()\n",
    "xList = list()\n",
    "yList = list()\n",
    "xyList = list()\n",
    "\n",
    "\n",
    "for code, nbr in sorted(category_counts_dict.items()):\n",
    "    wname = code + ' : ' + code_category_dict[code]\n",
    "    xyList.append([wname,nbr])\n",
    "    \n",
    "xyList = sorted(xyList,key=itemgetter(1))\n",
    "xNames,yList = zip(*xyList)\n",
    "print \"Total number of genes mapped : \",sum(yList)\n",
    "width = 0.5\n",
    "xList = np.arange(len(xNames))\n",
    "rects = plt.barh(xList, yList, width, color='#0072B2')\n",
    "plt.yticks(xList+0.2,xNames,rotation='horizontal')\n",
    "plt.ylabel('Number of categories')\n",
    "plt.title('Composition of COG functional categories ')\n",
    "plt.xlim([0,400000])\n",
    "# Saving figure\n",
    "fname = 'COG_function_composition.totalLtag.bar.svg'\n",
    "f = os.path.join(imgDir,fname)\n",
    "print f\n",
    "#plt.savefig(f,dpi=300)\n",
    "plt.show()\n"
   ]
  },
  {
   "cell_type": "markdown",
   "metadata": {
    "collapsed": true
   },
   "source": [
    "***\n",
    "## Generating the entire orthologous pair for eggNOG\n",
    "<body>\n",
    "I first had to download the mapping file - eggNOG uses something called proteinid (PID or pid here) = taxid.seqid;\n",
    "This file is - eggnog4.protein_id_conversion.tsv; I ran a shell \n",
    "The other files are mainly members.tsv file downloaded from [eggNOG website](http://eggnogdb.embl.de/#/app/downloads) on 18th December 2015. <br/>\n",
    "The files are - (a) NOG.members.tsv (b) bactNOG.members.tsv and (c) arNOG.members.tsv <br />\n",
    "</body>\n",
    "\n",
    "### Dictionaries\n",
    "<body>\n",
    "Finally going to make the dictionaries - <br />\n",
    "1. org : [(eNOG1,eNOG2),(eNOG2,eNOG3)...] --> org_eNOGPair_dict <br />\n",
    "2. org : [eNOG1,eNOG2,...]                --> org_eNOGList_dict <br />\n",
    "5. eNOG : [sp1,sp2,...] (unique spp)      --> eNOG_spList_dict  <br />\n",
    "6. \n",
    "</body>"
   ]
  },
  {
   "cell_type": "code",
   "execution_count": 19,
   "metadata": {
    "collapsed": false
   },
   "outputs": [
    {
     "name": "stdout",
     "output_type": "stream",
     "text": [
      "locus Tag <-> PID mapped at Fri Dec 18 16:48:26 2015\n"
     ]
    }
   ],
   "source": [
    "# Converting locusTag to taxid.seqID (this is PID - protein ID); \n",
    "# Then there is a tab delimited file, where eggNOG members are represented by this PID  \n",
    "# Dictionary - (a) locusTag : PID (taxid.seqid); (b) PID : locusTag\n",
    "# (c)eggNOG : [locusTag1,...] (from the members file) (d) locusTag : eggNOG\n",
    "import collections\n",
    "\n",
    "def convertLocusTag_PID(f):\n",
    "    lTag_PID_dict = dict()\n",
    "    PID_lTag_dict = dict()\n",
    "    for line in open(f):\n",
    "        taxid,seqid,keggid,srcDB = [line.strip().split('\\t')[i] for i in (0,1,2,3)]\n",
    "        lTag = keggid.split(':')[-1]\n",
    "        pid = taxid + '.' + seqid\n",
    "        lTag_PID_dict[lTag] = pid\n",
    "        PID_lTag_dict[pid] = lTag\n",
    "    return lTag_PID_dict, PID_lTag_dict\n",
    "\n",
    "eggNOGsourceDir = '/home/jaggu/research/downloads/eggNOG'\n",
    "lTag_eNOG_dict = dict()\n",
    "\n",
    "convFname = 'eggNOG.keggid_conversion.tsv' #Made this file in shell\n",
    "f1 = os.path.join(eggNOGsourceDir,convFname)\n",
    "\n",
    "lTag_PID_dict,PID_lTag_dict = convertLocusTag_PID(f1)\n",
    "savePkl(lTag_PID_dict,'locusTag_PID.dict.pkl')\n",
    "savePkl(PID_lTag_dict,'PID_locusTag.dict.pkl')\n",
    "print \"locus Tag <-> PID mapped at\",time.ctime()"
   ]
  },
  {
   "cell_type": "code",
   "execution_count": 5,
   "metadata": {
    "collapsed": false
   },
   "outputs": [
    {
     "name": "stdout",
     "output_type": "stream",
     "text": [
      "Dictionaries loaded  Fri Dec 18 20:33:18 2015\n"
     ]
    }
   ],
   "source": [
    "# Loading dictionaries\n",
    "lTag_PID_dict = loadPkl('locusTag_PID.dict.pkl')\n",
    "PID_lTag_dict = loadPkl('PID_locusTag.dict.pkl')\n",
    "org_lTagPair_dict = loadPkl('org_locusTagPair.dict.pkl')\n",
    "lTag_eNOG_dict = loadPkl('locusTag_eggNOG.dict.pkl')\n",
    "\n",
    "print \"Dictionaries loaded \",time.ctime()"
   ]
  },
  {
   "cell_type": "code",
   "execution_count": 8,
   "metadata": {
    "collapsed": false
   },
   "outputs": [
    {
     "name": "stdout",
     "output_type": "stream",
     "text": [
      "locus Tag eggNOG dictionary created Fri Dec 18 17:18:20 2015\n"
     ]
    }
   ],
   "source": [
    "# Using the NOG members file to create the dictionaries.\n",
    "import collections\n",
    "\n",
    "def getENOG_lTag(f):\n",
    "    lTag_eNOG_dict = dict()\n",
    "    for line in open(f):\n",
    "        NOG,pid_list = [line.strip().split('\\t')[i] for i in (1,5)]\n",
    "        eNOG = 'e'+NOG\n",
    "        for pid in pid_list.split(','): \n",
    "            try:\n",
    "                lTag = PID_lTag_dict[pid]\n",
    "                lTag_eNOG_dict[lTag] = eNOG\n",
    "            except KeyError: pass\n",
    "    return lTag_eNOG_dict\n",
    "            \n",
    "eggNOGsourceDir = '/home/jaggu/research/downloads/eggNOG'\n",
    "\n",
    "NOG_membersFname = 'NOG.members.tsv'\n",
    "f2 = os.path.join(eggNOGsourceDir,NOG_membersFname)\n",
    "\n",
    "lTag_eNOG_dict = getENOG_lTag(f2)\n",
    "savePkl(lTag_eNOG_dict,'locusTag_eggNOG.dict.pkl')\n",
    "\n",
    "print \"locus Tag eggNOG dictionary created\",time.ctime()"
   ]
  },
  {
   "cell_type": "code",
   "execution_count": 6,
   "metadata": {
    "collapsed": false
   },
   "outputs": [
    {
     "name": "stdout",
     "output_type": "stream",
     "text": [
      "organism:eggNOGPair List created Fri Dec 18 20:33:35 2015\n"
     ]
    }
   ],
   "source": [
    "# Now I have locus Tag : eggNOG dictionary. Will use the org: (locusTagPairs)... to generate an org:(eNOG1,eNOG2),..\n",
    "# dictionary. This can be collapsed to species and genus level.\n",
    "import collections\n",
    "import time\n",
    "\n",
    "def get_eNOG(lTag):\n",
    "    eNOG = lTag_eNOG_dict.get(lTag,'-')\n",
    "    return eNOG\n",
    "\n",
    "org_eggNOGPair = collections.defaultdict(list)\n",
    "\n",
    "for org,lTagPair_list in org_lTagPair_dict.items():\n",
    "    for [lTag1,lTag2] in lTagPair_list:\n",
    "        eNOG1 = get_eNOG(lTag1)\n",
    "        eNOG2 = get_eNOG(lTag2)\n",
    "        if not (eNOG1 == '-' and eNOG2 == '-'):\n",
    "            org_eggNOGPair[org].extend([(eNOG1,eNOG2)])\n",
    "\n",
    "savePkl(org_eggNOGPair,'org_eggNOGPair.dict.pkl')\n",
    "print \"organism:eggNOGPair List created\",time.ctime()"
   ]
  },
  {
   "cell_type": "code",
   "execution_count": null,
   "metadata": {
    "collapsed": true
   },
   "outputs": [],
   "source": [
    "# Creating a eggNOG functional file; Making a node attribute"
   ]
  }
 ],
 "metadata": {
  "kernelspec": {
   "display_name": "Python 2",
   "language": "python",
   "name": "python2"
  },
  "language_info": {
   "codemirror_mode": {
    "name": "ipython",
    "version": 2
   },
   "file_extension": ".py",
   "mimetype": "text/x-python",
   "name": "python",
   "nbconvert_exporter": "python",
   "pygments_lexer": "ipython2",
   "version": "2.7.10"
  }
 },
 "nbformat": 4,
 "nbformat_minor": 0
}
