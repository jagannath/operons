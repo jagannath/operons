{
 "cells": [
  {
   "cell_type": "markdown",
   "metadata": {},
   "source": [
    "The idea is to compute a genetic distance between two species. This will be used in comparing the genomic FGOC \n",
    "score between two species. <br />\n",
    "I am using a tree computed (from the living tree of life) and downloaded from [silva DB](http://www.arb-silva.de/projects/living-tree/). This contains a curated list of 16sRNA and 23sRNA from bacterial and archael species. The tree nodes have been collapsed to the species level. This means I will have to use the same distance metric when comparing it at a strain level. <br />\n",
    "The metric for the distance between two species is going to be a patristic distance. I will be calculating the distance matrix from this tree. The computation is intensive and requires a lot of memory. The file used is calcGeneticIt was stored as a massive flatfile in the format - BACTERIA-A BACTERIA-B distance <br />\n",
    "\n"
   ]
  },
  {
   "cell_type": "code",
   "execution_count": 24,
   "metadata": {
    "collapsed": true
   },
   "outputs": [],
   "source": [
    "import os\n",
    "import pickle \n",
    "\n",
    "def loadPkl(fname):\n",
    "    pklDir = '/home/jaggu/research/projectFiles/operons/pklFiles'\n",
    "    f = os.path.join(pklDir,fname)\n",
    "    db = pickle.load(open(f))\n",
    "    return db\n",
    "\n",
    "cogPair_dict = loadPkl('cogPair_count.dict.pkl')\n",
    "cog_locusTag_dict = loadPkl('cog_locusTag.dict.pkl')\n",
    "locusTag_cog_dict = loadPkl('locus_cog.dict.pkl')\n",
    "org_cogPair_dict = loadPkl('org_cogPair.dict.pkl')"
   ]
  },
  {
   "cell_type": "code",
   "execution_count": 22,
   "metadata": {
    "collapsed": false
   },
   "outputs": [
    {
     "name": "stdout",
     "output_type": "stream",
     "text": [
      "bsuPickled\n"
     ]
    }
   ],
   "source": [
    "# Making a dictionary for (Org1,org2):dist where Org1 is either Escherichia or Bacillus etc.\n",
    "import os\n",
    "import cPickle as pickle\n",
    "\n",
    "def savePkl(db,pklFname):\n",
    "    pklDir = '/home/jaggu/research/projectFiles/operons/pklFiles'    \n",
    "    f = os.path.join(pklDir,pklFname)\n",
    "    pickle.dump(db,open(f,'w'))\n",
    "    return \n",
    "\n",
    "bactTreeDir = '/home/jaggu/research/downloads/bacterialTrees/silvaDB'\n",
    "distFile = 'all.bactDist.txt'\n",
    "fname = os.path.join(bactTreeDir,distFile)\n",
    "#org = 'eco'\n",
    "#orgName = 'Escherichia coli'\n",
    "org = 'bsu'\n",
    "orgName = 'Bacillus subtilis'\n",
    "orgDistDict = dict()\n",
    "\n",
    "with open(fname) as f:\n",
    "    for line in f:\n",
    "        if not line.startswith('BACTERIA'):\n",
    "            if line.startswith(orgName):\n",
    "                newLine = line.replace(' ','_')\n",
    "                org1,org2,dist = newLine.strip().split('\\t')\n",
    "                dist = float(dist)\n",
    "                org1Name = org1.split('_')[0]+'_'+org1.split('_')[1]\n",
    "                org2Name = org2.split('_')[0]+'_'+org2.split('_')[1]\n",
    "                #print org1Name, org2Name, dist\n",
    "                orgDistDict[org2Name]=dist\n",
    "savePkl(orgDistDict,org+'_org2_dist.dict.pkl')\n",
    "print org + \" : Pickled\"\n"
   ]
  },
  {
   "cell_type": "code",
   "execution_count": 23,
   "metadata": {
    "collapsed": false
   },
   "outputs": [
    {
     "name": "stdout",
     "output_type": "stream",
     "text": [
      "14146\t14147\tb0001\tb0002\tthrL\tthrA\tFALSE\t0.322\t82.000\t0.043\t1.000\t\t0.395\n",
      "\n"
     ]
    }
   ],
   "source": [
    "# Calculating genFGOC score by comparing gene pair between operonic genes and non-operonic genes. \n",
    "\n",
    "import os\n",
    "import cPickle as pickle\n",
    "\n",
    "operondbDir = '/home/jaggu/research/downloads/operons_databases/microbesOnline'\n",
    "org = 'eco' \n",
    "#org = 'bsu'\n",
    "fname = org+'.'+'operon'\n",
    "ifile = open(os.path.join(operondbDir,fname))\n",
    "lines = ifile.readlines()\n",
    "ifile.close()\n",
    "\n",
    "wOp_COG_list = list()\n",
    "bwOp_COG_list = list()\n",
    "\n",
    "def getCog(lTag):\n",
    "    try:\n",
    "        cog = locus_cog_dict[lTag]\n",
    "    except KeyError:\n",
    "        cog = 'nan'\n",
    "    if cog == '-': cog = 'nan' #Some wierd bug\n",
    "    return cog\n",
    "\n",
    "def getCOGpairInfo(lTag1,lTag2):\n",
    "    cogA = getCog(lTag1)\n",
    "    cogB = getCog(lTag2)\n",
    "    if cogA is 'nan' or cogB is 'nan':\n",
    "        return None\n",
    "    else:\n",
    "        try: \n",
    "            fgocInfo = cogPair_fgocInfo_dict[(cogA,cogB)]\n",
    "            cogPair = (cogA,cogB)\n",
    "        except KeyError: \n",
    "            fgocInfo = cogPair_fgocInfo_dict[(cogB,cogA)] #Opposite strand; I can find it this way\n",
    "            cogPair = (cogB, cogA)\n",
    "        return cogPair\n",
    "\n",
    "for line in lines[1:]:\n",
    "    lTag1,lTag2,bOp = [line.split('\\t')[i] for i in [2,3,6]]\n",
    "    \n",
    "    \n",
    "    fgocInfo = getFgocInfo(lTag1,lTag2)\n",
    "    if fgocInfo:\n",
    "        dirFgoc,fgoc = fgocInfo[3],fgocInfo[4]\n",
    "        if bOp == 'TRUE':\n",
    "            wOp_dict[(lTag1,lTag2)]=[dirFgoc,fgoc]\n",
    "        else:\n",
    "            bwOp_dict[(lTag1,lTag2)]=[dirFgoc,fgoc]\n",
    "\n",
    "\n"
   ]
  },
  {
   "cell_type": "code",
   "execution_count": null,
   "metadata": {
    "collapsed": true
   },
   "outputs": [],
   "source": []
  }
 ],
 "metadata": {
  "kernelspec": {
   "display_name": "Python 2",
   "language": "python",
   "name": "python2"
  },
  "language_info": {
   "codemirror_mode": {
    "name": "ipython",
    "version": 2
   },
   "file_extension": ".py",
   "mimetype": "text/x-python",
   "name": "python",
   "nbconvert_exporter": "python",
   "pygments_lexer": "ipython2",
   "version": "2.7.10"
  }
 },
 "nbformat": 4,
 "nbformat_minor": 0
}
