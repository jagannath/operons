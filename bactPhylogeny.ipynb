{
 "cells": [
  {
   "cell_type": "markdown",
   "metadata": {},
   "source": [
    "# Understanding and plotting the decay of operonic and non-operonic gene pairs as a function of phylogenetic distance\n",
    "The idea is to compute a genetic distance between two species. This will be used in comparing the genomic FGOC \n",
    "score between two species. <br />\n",
    "I am using a tree computed (from the living tree of life) and downloaded from [silva DB](http://www.arb-silva.de/projects/living-tree/). This contains a curated list of 16sRNA and 23sRNA from bacterial and archael species. The tree nodes have been collapsed to the species level. This means I will have to use the same distance metric when comparing it at a strain level. <br />\n",
    "The metric for the distance between two species is going to be a patristic distance. I calculate the distance matrix from this tree. The computation is intensive and requires a lot of memory. The file used is calcGenetic.py. I performed this calculation in a different server and stored it as a massive flatfile in the format - BACTERIA-A BACTERIA-B distance <br />\n",
    "\n",
    "I then calculate the gene order conservation score comparing operonic genes and not operonic genes as a function of phylogenetic distance <br />\n",
    "pkl files generated are - \n",
    "<ol><li> eco_org2_dist.dict.pkl </li>\n",
    "<li> bsu_org2_dist.dict.pkl </li>\n",
    "<li> bsu_allBact.notOperonScores.dict.pkl </li>\n",
    "<li> bsu_allBact.operonScores.dict.pkl </li>\n",
    "<li> eco_allBact.notOperonScores.dict.pkl </li>\n",
    "<li> eco_allBact.operonScores.dict.pkl </li>\n",
    "</ol>"
   ]
  },
  {
   "cell_type": "code",
   "execution_count": 2,
   "metadata": {
    "collapsed": false
   },
   "outputs": [
    {
     "name": "stdout",
     "output_type": "stream",
     "text": [
      "Dictionaries loaded\n"
     ]
    }
   ],
   "source": [
    "import os\n",
    "import pickle \n",
    "\n",
    "def loadPkl(fname):\n",
    "    pklDir = '/home/jaggu/research/projectFiles/operons/pklFiles'\n",
    "    f = os.path.join(pklDir,fname)\n",
    "    db = pickle.load(open(f))\n",
    "    return db\n",
    "\n",
    "cogPair_dict = loadPkl('cogPair_count.dict.pkl')\n",
    "cog_locusTag_dict = loadPkl('cog_locusTag.dict.pkl')\n",
    "locus_cog_dict = loadPkl('locus_cog.dict.pkl')\n",
    "org_cogPair_dict = loadPkl('org_cogPair.dict.pkl')\n",
    "print \"Dictionaries loaded\""
   ]
  },
  {
   "cell_type": "code",
   "execution_count": 22,
   "metadata": {
    "collapsed": false
   },
   "outputs": [
    {
     "name": "stdout",
     "output_type": "stream",
     "text": [
      "bsuPickled\n"
     ]
    }
   ],
   "source": [
    "# DICTIONARY FOR PATRISTIC DISTANCE\n",
    "# Making a dictionary for (Org1,org2):dist where Org1 is either Escherichia or Bacillus etc.\n",
    "import os\n",
    "import cPickle as pickle\n",
    "\n",
    "def savePkl(db,pklFname):\n",
    "    pklDir = '/home/jaggu/research/projectFiles/operons/pklFiles'    \n",
    "    f = os.path.join(pklDir,pklFname)\n",
    "    pickle.dump(db,open(f,'w'))\n",
    "    return \n",
    "\n",
    "bactTreeDir = '/home/jaggu/research/downloads/bacterialTrees/silvaDB'\n",
    "distFile = 'all.bactDist.txt'\n",
    "fname = os.path.join(bactTreeDir,distFile)\n",
    "#org = 'eco'\n",
    "#orgName = 'Escherichia coli'\n",
    "org = 'bsu'\n",
    "orgName = 'Bacillus subtilis'\n",
    "orgDistDict = dict()\n",
    "\n",
    "with open(fname) as f:\n",
    "    for line in f:\n",
    "        if not line.startswith('BACTERIA'):\n",
    "            if line.startswith(orgName):\n",
    "                newLine = line.replace(' ','_')\n",
    "                org1,org2,dist = newLine.strip().split('\\t')\n",
    "                dist = float(dist)\n",
    "                org1Name = org1.split('_')[0]+'_'+org1.split('_')[1]\n",
    "                org2Name = org2.split('_')[0]+'_'+org2.split('_')[1]\n",
    "                #print org1Name, org2Name, dist\n",
    "                orgDistDict[org2Name]=dist\n",
    "savePkl(orgDistDict,org+'_org2_dist.dict.pkl')\n",
    "print org + \" : Pickled\"\n"
   ]
  },
  {
   "cell_type": "code",
   "execution_count": 43,
   "metadata": {
    "collapsed": false
   },
   "outputs": [
    {
     "name": "stdout",
     "output_type": "stream",
     "text": [
      "For organism : eco ; Operon list done (in COG)\n"
     ]
    }
   ],
   "source": [
    "# Calculating genFGOC score by comparing gene pair between operonic genes and non-operonic genes. \n",
    "\n",
    "import os\n",
    "import cPickle as pickle\n",
    "\n",
    "operondbDir = '/home/jaggu/research/downloads/operons_databases/microbesOnline'\n",
    "sourceDir = '/home/jaggu/research/allGenomePttFiles'\n",
    "\n",
    "\n",
    "\n",
    "def getOrientation(orgPttFile):\n",
    "    #Get orientation right\n",
    "    ifile = open(orgPttFile,'r')\n",
    "    lines = ifile.readlines()\n",
    "    ifile.close()\n",
    "    orientationDict = dict()\n",
    "\n",
    "    for line in lines[3:]:\n",
    "        orientation,lTag = line.split('\\t')[1],line.split('\\t')[5]\n",
    "        orientationDict[lTag]=orientation\n",
    "    return orientationDict\n",
    "\n",
    "def getCog(lTag):\n",
    "    try:\n",
    "        cog = locus_cog_dict[lTag]\n",
    "    except KeyError:\n",
    "        cog = 'nan'\n",
    "    if cog == '-': cog = 'nan' #Some wierd bug\n",
    "    return cog\n",
    "\n",
    "def getCOGpairInfo(lTag1,lTag2):\n",
    "    cogA = getCog(lTag1)\n",
    "    cogB = getCog(lTag2)\n",
    "    if cogA is 'nan' or cogB is 'nan':\n",
    "        return None\n",
    "    else:\n",
    "        # Check orientation\n",
    "        orientationA = orientationDict[lTag1]\n",
    "        orientationB = orientationDict[lTag2]\n",
    "        if orientationA == orientationB == '+':\n",
    "            cogPair = (cogA,cogB)\n",
    "        elif orientationA == orientationB == '-':\n",
    "            cogPair = (cogB,cogA)\n",
    "        else:\n",
    "            cogPair = (cogA,cogB)\n",
    "        return cogPair\n",
    "\n",
    "# THIS IS WHERE YOU SHOULD CHANGE THE organism \n",
    "#org = 'eco' \n",
    "#orgName = ('Escherichia_coli_K_12_substr__MG1655_uid57779','NC_000913')\n",
    "#org = 'bsu'\n",
    "#orgName = ('Bacillus_subtilis_168_uid57675', 'NC_000964')\n",
    "    \n",
    "wOp_COG_list = list()\n",
    "bwOp_COG_list = list()\n",
    "  \n",
    "def makeOperonPairs(org,orgName):\n",
    "    orgDir = os.path.join(sourceDir,orgName[0])\n",
    "    orgPttFile = os.path.join(orgDir,orgName[1]+'.ptt') \n",
    "    # Getting orientation for each locus tag\n",
    "    orientationDict = getOrientation(orgPttFile)\n",
    "\n",
    "    # Parsing operon file\n",
    "    fname = org+'.'+'operon'\n",
    "    ifile = open(os.path.join(operondbDir,fname))\n",
    "    lines = ifile.readlines()\n",
    "    ifile.close()\n",
    "\n",
    "    for line in lines[1:]:\n",
    "        lTag1,lTag2,bOp = [line.split('\\t')[i] for i in [2,3,6]]\n",
    "        cogPair = getCOGpairInfo(lTag1,lTag2)\n",
    "\n",
    "        if cogPair:\n",
    "            if bOp == 'TRUE':\n",
    "                wOp_COG_list.append(cogPair)\n",
    "            else:\n",
    "                bwOp_COG_list.append(cogPair)\n",
    "    print \"For organism : %s ; Operon list done (in COG)\"%(org)\n",
    "    return wOp_COG_list, bwOp_COG_list\n",
    "\n",
    "eco_wOpPairs, eco_bwOpPairs = makeOperonPairs('eco',('Escherichia_coli_K_12_substr__MG1655_uid57779','NC_000913'))\n",
    "#bsu_wOpPairs, bsu_bwOpPairs = makeOperonPairs('bsu',('Bacillus_subtilis_168_uid57675', 'NC_000964'))\n"
   ]
  },
  {
   "cell_type": "code",
   "execution_count": 181,
   "metadata": {
    "collapsed": false
   },
   "outputs": [
    {
     "name": "stdout",
     "output_type": "stream",
     "text": [
      "Comparing bsu with all bacteria ...\n",
      "Operon and not operon Scores pickled\n"
     ]
    }
   ],
   "source": [
    "# Parse through the cogPairs across orgs and ask for intersection of sets; Calculates the operon score and  \n",
    "# not operon score\n",
    "\n",
    "from __future__ import division\n",
    "import fnmatch\n",
    "import cPickle as pickle\n",
    "import collections\n",
    "\n",
    "\n",
    "def locate(pattern, root=os.curdir):\n",
    "    '''Locate all files matching supplied filename pattern in and\n",
    "    below supplied root directory.'''\n",
    "    allFiles = []\n",
    "    for path, dirs, files in os.walk(os.path.abspath(root)):\n",
    "        for filename in fnmatch.filter(files, pattern):\n",
    "            allFiles.append(os.path.join(path,filename))\n",
    "    return allFiles\n",
    "\n",
    "def intersect(a,b):\n",
    "    return list(set(a)&set(b))\n",
    "\n",
    "def getPairs_list(cogPair_list):\n",
    "    pair_list = list()\n",
    "    for pair in cogPair_list:\n",
    "        if not (pair[0] == '-' or pair[1] == '-'):\n",
    "            pair_list.append(pair)\n",
    "    if len(pair_list)>1: return pair_list\n",
    "    else: return list()\n",
    "\n",
    "def getOrgName(pttFile):\n",
    "    accNbr = os.path.split(pttFile)[-1].split('.')[0]\n",
    "    orgName = os.path.split(os.path.split(pttFile)[0])[1]\n",
    "    return (orgName,accNbr)\n",
    "\n",
    "def getScores(orgName):\n",
    "    flag = True\n",
    "    cogPair_list = org_cogPair_dict[orgName]\n",
    "    pair_list = getPairs_list(cogPair_list)\n",
    "    if pair_list:flag = True\n",
    "    else: flag = False\n",
    "    org_opList = intersect(pair_list,wOp_COG_list)\n",
    "    org_notOpList = intersect(pair_list,bwOp_COG_list)\n",
    "\n",
    "    operonScore = len(org_opList)/len(wOp_COG_list)\n",
    "    notOperonScore = len(org_notOpList)/len(bwOp_COG_list)\n",
    "    \n",
    "    return operonScore,notOperonScore,flag\n",
    "    \n",
    "\n",
    "def savePkl(db,pklFname):\n",
    "    f = os.path.join(pklPath,pklFname)\n",
    "    pickle.dump(db,open(f,'w'))\n",
    "    return \n",
    "\n",
    "\n",
    "pklPath = '/home/jaggu/research/projectFiles/operons/pklFiles'\n",
    "sourceDir = '/home/jaggu/research/allGenomePttFiles'\n",
    "\n",
    "allOperonScore_dict = collections.defaultdict(list)\n",
    "allNotOperonScore_dict = collections.defaultdict(list)\n",
    "\n",
    "\n",
    "def main():\n",
    "    # Generating the operonScore and notOperonScore with all bacterial species\n",
    "    print \"Comparing %s with all bacteria ...\"%(org)\n",
    "    allPttFiles = locate('*.ptt',sourceDir)\n",
    "    for pttFile in allPttFiles:\n",
    "        #print \"Parsing :  %s file ...\"%(pttFile)\n",
    "        compareOrg = getOrgName(pttFile)\n",
    "        operonScore, notOperonScore,status = getScores(compareOrg) \n",
    "        #status variable makes sure there is atleast one gene assigned.         \n",
    "        if status: \n",
    "            allOperonScore_dict[compareOrg[0]].append(operonScore)\n",
    "            allNotOperonScore_dict[compareOrg[0]].append(notOperonScore)\n",
    "\n",
    "    fOp = org + '_allBact.operonScores.dict.pkl'\n",
    "    fNotOp = org + '_allBact.notOperonScores.dict.pkl'\n",
    "    savePkl(allOperonScore_dict,fOp)\n",
    "    savePkl(allNotOperonScore_dict,fNotOp)\n",
    "    print \"Operon and not operon Scores pickled\"\n",
    "\n",
    "        \n",
    "def test_case():\n",
    "    #org = ('Escherichia_coli_K_12_substr__MG1655_uid57779','NC_000913')\n",
    "    #org = ('Bacillus_subtilis_168_uid57675', 'NC_000964')\n",
    "    #org = ('Clostridium_perfringens_SM101_uid58117', 'NC_008264')\n",
    "    org = ('Sphaerochaeta_pleomorpha_Grapes_uid82365','NC_016633')\n",
    "    operonScore,notOperonScore,status = getScores(org)\n",
    "    \n",
    "    print org, operonScore, notOperonScore, status\n",
    "\n",
    "#test_case()\n",
    "main()\n"
   ]
  },
  {
   "cell_type": "code",
   "execution_count": 229,
   "metadata": {
    "collapsed": false
   },
   "outputs": [
    {
     "name": "stdout",
     "output_type": "stream",
     "text": [
      "For bsu : List of [operonScore,distance] and [notOperonScore, distance] calculated\n"
     ]
    }
   ],
   "source": [
    "# Plotting the graph of Operon scores vs genetic distance\n",
    "\n",
    "#org = 'eco'\n",
    "org = 'bsu'\n",
    "\n",
    "fDist = org + '_org2_dist.dict.pkl'\n",
    "fOp = org + '_allBact.operonScores.dict.pkl'\n",
    "fNotOp = org + '_allBact.notOperonScores.dict.pkl'\n",
    "org_dist_dict = loadPkl(fDist)\n",
    "allOperonScore_dict = loadPkl(fOp)\n",
    "allNotOperonScore_dict = loadPkl(fNotOp)\n",
    "\n",
    "opScore_dist_list = list()\n",
    "notOpScore_dist_list = list()\n",
    "\n",
    "for orgName, operonScore in allOperonScore_dict.items():\n",
    "    species = orgName.split('_')[0]+'_'+orgName.split('_')[1]\n",
    "    notOperonScore = allNotOperonScore_dict[orgName]\n",
    "    try:\n",
    "        dist = org_dist_dict[species]\n",
    "    except KeyError:\n",
    "        continue;\n",
    "    opScore_dist_list.append([max(operonScore),dist])\n",
    "    notOpScore_dist_list.append([max(notOperonScore),dist])\n",
    "\n",
    "print \"For %s : List of [operonScore,distance] and [notOperonScore, distance] calculated\"%(org)\n"
   ]
  },
  {
   "cell_type": "code",
   "execution_count": 232,
   "metadata": {
    "collapsed": false
   },
   "outputs": [
    {
     "name": "stdout",
     "output_type": "stream",
     "text": [
      "Organism : bsu ...\n"
     ]
    },
    {
     "data": {
      "image/png": "[encoded data removed]",
      "text/plain": [
       "<matplotlib.figure.Figure at 0x7f74b96c0fd0>"
      ]
     },
     "metadata": {},
     "output_type": "display_data"
    }
   ],
   "source": [
    "# Scatter plot between operon score and patristic distance\n",
    "imgDir = '/home/jaggu/research/projectFiles/figures'\n",
    "\n",
    "% matplotlib inline\n",
    "import numpy as np\n",
    "import matplotlib.pyplot as plt\n",
    "\n",
    "print \"Organism : %s ...\"%(org) #Carrying over\n",
    "# For operon\n",
    "op_yVals = [item[0] for item in opScore_dist_list]\n",
    "op_dist = [item[1] for item in opScore_dist_list]\n",
    "\n",
    "notOp_yVals = [item[0] for item in notOpScore_dist_list]\n",
    "notOp_dist = [item[1] for item in notOpScore_dist_list]\n",
    "\n",
    "\n",
    "plt.scatter(op_dist,op_yVals,c='#0072b2',marker='o')\n",
    "plt.scatter(notOp_dist,notOp_yVals,c='#e69f00',marker='s')\n",
    "plt.xlim(xmin=0,xmax=1.2)\n",
    "plt.xlabel('Patristic distance')\n",
    "plt.ylabel('Gene order conservation score')\n",
    "plt.title('Comparison of gene order score for gene pairs in %s : \\n within (blue) and between operon (yellow)'%(org))\n",
    "#plt.show()\n",
    "\n",
    "# Saving figure\n",
    "fname = org+'_OpBw_dist.scatter.svg'\n",
    "f = os.path.join(imgDir,fname)\n",
    "plt.savefig(f,dpi=300)\n"
   ]
  },
  {
   "cell_type": "markdown",
   "metadata": {
    "collapsed": true
   },
   "source": [
    "***\n",
    "# Distant COG pairs arising in the bacterial lineage \n",
    "<body> It is not exactly oldest. But I want to ask, for the COG pair present in E.coli operon, which is the most distant bacteria where it is also found. A time line is a proxy with patristic distance </body>\n",
    "\n"
   ]
  },
  {
   "cell_type": "code",
   "execution_count": 70,
   "metadata": {
    "collapsed": false
   },
   "outputs": [
    {
     "name": "stdout",
     "output_type": "stream",
     "text": [
      "Total number of Ecoli operonic pairs  1422\n",
      "2658\n",
      "Completed at  Mon Nov 16 18:19:32 2015\n"
     ]
    }
   ],
   "source": [
    "# Importing from 3rd cell for COG pairs within and between operons. Checking for E.coli first\n",
    "\n",
    "import collections\n",
    "import time\n",
    "import os\n",
    "import cPickle as pickle\n",
    "\n",
    "def savePkl(db,pklFname):\n",
    "    pklDir = '/home/jaggu/research/projectFiles/operons/pklFiles'    \n",
    "    f = os.path.join(pklDir,pklFname)\n",
    "    pickle.dump(db,open(f,'w'))\n",
    "    return \n",
    "\n",
    "#org_dist_cogPairs_dict = collections.defaultdict(list)\n",
    "org_cogPair_allDist_dict = collections.defaultdict(list)\n",
    "\n",
    "print \"Total number of Ecoli operonic pairs \",len(eco_wOpPairs)\n",
    "print len(org_cogPair_dict.keys())\n",
    "\n",
    "eco_org2_dist_dict = loadPkl('eco_org2_dist.dict.pkl')\n",
    "\n",
    "for opPair in eco_wOpPairs:\n",
    "#    print \"Checking \",opPair\n",
    "    for org,cogPairList in org_cogPair_dict.items():\n",
    "        orgName, accNbr = org\n",
    "        species = orgName.split('_')[0]+'_'+orgName.split('_')[1]\n",
    "        try: \n",
    "            dist = eco_org2_dist_dict[species]\n",
    "        except KeyError:\n",
    "            continue;\n",
    "        if opPair in cogPairList:\n",
    "            org_cogPair_allDist_dict[opPair].append(dist)\n",
    "            #print species, dist\n",
    "            \n",
    "savePkl(org_cogPair_allDist_dict,'eco_opPair_allDist.dict.pkl')\n",
    "print \"Completed at \",time.ctime()\n"
   ]
  },
  {
   "cell_type": "code",
   "execution_count": 72,
   "metadata": {
    "collapsed": false
   },
   "outputs": [
    {
     "name": "stdout",
     "output_type": "stream",
     "text": [
      "Distance : List of CogPairs dictionary created \n"
     ]
    }
   ],
   "source": [
    "import collections\n",
    "\n",
    "org_cogPair_allDist_dict = loadPkl('eco_opPair_allDist.dict.pkl')\n",
    "\n",
    "dist_cogPairs_dict = collections.defaultdict(list)\n",
    "# Max distance for the COGPairs\n",
    "\n",
    "for cogPair, distL in org_cogPair_allDist_dict.items():\n",
    "    dist_cogPairs_dict[round(max(distL),2)].append(cogPair)\n",
    "\n",
    "print \"Distance : List of CogPairs dictionary created \""
   ]
  },
  {
   "cell_type": "code",
   "execution_count": 77,
   "metadata": {
    "collapsed": false
   },
   "outputs": [
    {
     "name": "stdout",
     "output_type": "stream",
     "text": [
      "/home/jaggu/research/projectFiles/operons/figures/eco_OpPairs_dist_occurrance.bar.svg\n"
     ]
    },
    {
     "data": {
      "image/png": "[encoded data removed]",
      "text/plain": [
       "<matplotlib.figure.Figure at 0x7f34dd184ed0>"
      ]
     },
     "metadata": {},
     "output_type": "display_data"
    }
   ],
   "source": [
    "imgDir = '/home/jaggu/research/projectFiles/operons/figures'\n",
    "\n",
    "% matplotlib inline\n",
    "import numpy as np\n",
    "import matplotlib.pyplot as plt\n",
    "\n",
    "xyList = list()\n",
    "\n",
    "for d in np.arange(0,1.5,0.01):\n",
    "    try:\n",
    "        cogPairs = dist_cogPairs_dict[d]\n",
    "    except KeyError:\n",
    "        cogPairs = []\n",
    "    xyList.append((d,len(cogPairs)))\n",
    "xList, yList = zip(*xyList)\n",
    "\n",
    "\n",
    "rects = plt.bar(xList, yList, width=0.01, color='#D55E00')\n",
    "\n",
    "plt.xlim([0,1.4])\n",
    "plt.xlabel('Patristic distance when Gene pair was first observed')\n",
    "plt.ylabel('Number of gene pairs')\n",
    "plt.title('The most distant species where the E.coli gene pair occurred')\n",
    "\n",
    "# Saving figure\n",
    "fname = 'eco_OpPairs_dist_occurrance.bar.svg'\n",
    "f = os.path.join(imgDir,fname)\n",
    "print f\n",
    "plt.savefig(f,dpi=300)\n",
    "\n",
    "#plt.show()"
   ]
  },
  {
   "cell_type": "code",
   "execution_count": 82,
   "metadata": {
    "collapsed": false
   },
   "outputs": [
    {
     "name": "stdout",
     "output_type": "stream",
     "text": [
      "COG4948 COG4948 L-alanine-DL-glutamate epimerase or related enzyme of enolase superfamily L-alanine-DL-glutamate epimerase or related enzyme of enolase superfamily\n",
      "COG1173 COG0444 ABC-type dipeptide/oligopeptide/nickel transport system, permease component ABC-type dipeptide/oligopeptide/nickel transport system, ATPase component\n",
      "COG0444 COG4608 ABC-type dipeptide/oligopeptide/nickel transport system, ATPase component ABC-type oligopeptide transport system, ATPase component\n",
      "COG0094 COG0199 Ribosomal protein L5 Ribosomal protein S14\n",
      "COG1175 COG3833 ABC-type sugar transport system, permease component ABC-type maltose transport system, permease component\n",
      "COG0747 COG0601 ABC-type transport system, periplasmic component ABC-type dipeptide/oligopeptide/nickel transport system, permease component\n",
      "COG0091 COG0092 Ribosomal protein L22 Ribosomal protein S3\n",
      "COG0226 COG0573 ABC-type phosphate transport system, periplasmic component ABC-type phosphate transport system, permease component\n",
      "COG0713 COG1009 NADH:ubiquinone oxidoreductase subunit 11 or 4L (chain K) NADH:ubiquinone oxidoreductase subunit 5 (chain L)/Multisubunit Na+/H+ antiporter, MnhA subunit\n",
      "COG0071 COG0071 Molecular chaperone IbpA, HSP20 family Molecular chaperone IbpA, HSP20 family\n",
      "COG0185 COG0091 Ribosomal protein S19 Ribosomal protein L22\n",
      "COG0085 COG0086 DNA-directed RNA polymerase, beta subunit/140 kD subunit DNA-directed RNA polymerase, beta' subunit/160 kD subunit\n",
      "COG0089 COG0090 Ribosomal protein L23 Ribosomal protein L2\n",
      "COG1131 COG0842 ABC-type multidrug transport system, ATPase component ABC-type multidrug transport system, permease component\n",
      "COG2086 COG2025 Electron transfer flavoprotein, alpha and beta subunits Electron transfer flavoprotein, alpha subunit\n",
      "COG0573 COG0581 ABC-type phosphate transport system, permease component ABC-type phosphate transport system, permease component\n",
      "COG0045 COG0074 Succinyl-CoA synthetase, beta subunit Succinyl-CoA synthetase, alpha subunit\n",
      "COG0093 COG0198 Ribosomal protein L14 Ribosomal protein L24\n",
      "COG1082 COG0673 Sugar phosphate isomerase/epimerase Predicted dehydrogenase\n",
      "COG0048 COG0049 Ribosomal protein S12 Ribosomal protein S7\n",
      "COG0508 COG1249 Pyruvate/2-oxoglutarate dehydrogenase complex, dihydrolipoamide acyltransferase (E2) component Pyruvate/2-oxoglutarate dehydrogenase complex, dihydrolipoamide dehydrogenase (E3) component or related enzyme\n",
      "COG0256 COG0098 Ribosomal protein L18 Ribosomal protein S5\n",
      "COG3075 COG0247 Anaerobic glycerol-3-phosphate dehydrogenase Fe-S oxidoreductase\n",
      "COG0834 COG0765 ABC-type amino acid transport/signal transduction system, periplasmic component/domain ABC-type amino acid transport system, permease component\n",
      "COG0559 COG4177 Branched-chain amino acid ABC-type transport system, permease component ABC-type branched-chain amino acid transport system, permease component\n",
      "COG1008 COG1007 NADH:ubiquinone oxidoreductase subunit 4 (chain M) NADH:ubiquinone oxidoreductase subunit 2 (chain N)\n",
      "COG0765 COG1126 ABC-type amino acid transport system, permease component ABC-type polar amino acid transport system, ATPase component\n",
      "COG1925 COG1080 Phosphotransferase system, HPr and related phosphotransfer proteins Phosphoenolpyruvate-protein kinase (PTS system EI component in bacteria)\n",
      "COG1143 COG0839 Formate hydrogenlyase subunit 6/NADH:ubiquinone oxidoreductase 23 kD subunit (chain I) NADH:ubiquinone oxidoreductase subunit 6 (chain J)\n",
      "COG1120 COG0614 ABC-type cobalamin/Fe3+-siderophores transport system, ATPase component ABC-type Fe3+-hydroxamate transport system, periplasmic component\n",
      "COG0199 COG0096 Ribosomal protein S14 Ribosomal protein S8\n",
      "COG0087 COG0088 Ribosomal protein L3 Ribosomal protein L4\n",
      "COG0443 COG0484 Molecular chaperone DnaK (HSP70) DnaJ-class molecular chaperone with C-terminal Zn finger domain\n",
      "COG5013 COG1140 Nitrate reductase alpha subunit Nitrate reductase beta subunit\n",
      "COG0377 COG0649 NADH:ubiquinone oxidoreductase 20 kD subunit (chhain B) or related Fe-S oxidoreductase NADH:ubiquinone oxidoreductase 49 kD subunit (chain D)\n",
      "COG0186 COG0093 Ribosomal protein S17 Ribosomal protein L14\n",
      "COG1622 COG0843 Heme/copper-type cytochrome/quinol oxidase, subunit 2 Heme/copper-type cytochrome/quinol oxidase, subunit 1\n",
      "COG0395 COG3839 ABC-type glycerol-3-phosphate transport system, permease component ABC-type sugar transport system, ATPase component\n",
      "COG0102 COG0103 Ribosomal protein L13 Ribosomal protein S9\n",
      "COG0016 COG0072 Phenylalanyl-tRNA synthetase alpha subunit Phenylalanyl-tRNA synthetase beta subunit\n",
      "COG0133 COG0159 Tryptophan synthase beta chain Tryptophan synthase alpha chain\n",
      "COG0578 COG3075 Glycerol-3-phosphate dehydrogenase Anaerobic glycerol-3-phosphate dehydrogenase\n",
      "COG1175 COG0395 ABC-type sugar transport system, permease component ABC-type glycerol-3-phosphate transport system, permease component\n",
      "COG1121 COG1108 ABC-type Mn2+/Zn2+ transport system, ATPase component ABC-type Mn2+/Zn2+ transport system, permease component\n",
      "COG4177 COG0411 ABC-type branched-chain amino acid transport system, permease component ABC-type branched-chain amino acid transport system, ATPase component\n",
      "COG1841 COG0200 Ribosomal protein L30/L7E Ribosomal protein L15\n",
      "COG4143 COG1178 ABC-type thiamine transport system, periplasmic component ABC-type Fe3+ transport system, permease component\n",
      "COG1009 COG1008 NADH:ubiquinone oxidoreductase subunit 5 (chain L)/Multisubunit Na+/H+ antiporter, MnhA subunit NADH:ubiquinone oxidoreductase subunit 4 (chain M)\n",
      "COG0081 COG0244 Ribosomal protein L1 Ribosomal protein L10\n",
      "COG0090 COG0185 Ribosomal protein L2 Ribosomal protein S19\n",
      "COG1005 COG1143 NADH:ubiquinone oxidoreductase subunit 1 (chain H) Formate hydrogenlyase subunit 6/NADH:ubiquinone oxidoreductase 23 kD subunit (chain I)\n",
      "COG2182 COG1175 Maltose-binding periplasmic protein MalE ABC-type sugar transport system, permease component\n",
      "COG0540 COG1781 Aspartate carbamoyltransferase, catalytic chain Aspartate carbamoyltransferase, regulatory subunit\n",
      "COG0683 COG0559 ABC-type branched-chain amino acid transport system, periplasmic component Branched-chain amino acid ABC-type transport system, permease component\n",
      "COG0420 COG0419 DNA repair exonuclease SbcCD nuclease subunit DNA repair exonuclease SbcCD ATPase subunit\n",
      "COG0200 COG0201 Ribosomal protein L15 Preprotein translocase subunit SecY\n",
      "COG0609 COG1120 ABC-type Fe3+-siderophore transport system, permease component ABC-type cobalamin/Fe3+-siderophores transport system, ATPase component\n",
      "COG0396 COG0719 Fe-S cluster assembly ATPase SufC Fe-S cluster assembly scaffold protein SufB\n",
      "COG1653 COG1175 ABC-type glycerol-3-phosphate transport system, periplasmic component ABC-type sugar transport system, permease component\n",
      "COG0088 COG0089 Ribosomal protein L4 Ribosomal protein L23\n",
      "COG0838 COG0377 NADH:ubiquinone oxidoreductase subunit 3 (chain A) NADH:ubiquinone oxidoreductase 20 kD subunit (chhain B) or related Fe-S oxidoreductase\n",
      "COG0411 COG0410 ABC-type branched-chain amino acid transport system, ATPase component ABC-type branched-chain amino acid transport system, ATPase component\n",
      "COG0002 COG0548 N-acetyl-gamma-glutamylphosphate reductase Acetylglutamate kinase\n",
      "COG0600 COG1116 ABC-type nitrate/sulfonate/bicarbonate transport system, permease component ABC-type nitrate/sulfonate/bicarbonate transport system, ATPase component\n",
      "COG0057 COG0126 Glyceraldehyde-3-phosphate dehydrogenase/erythrose-4-phosphate dehydrogenase 3-phosphoglycerate kinase\n",
      "COG2376 COG2376 Dihydroxyacetone kinase Dihydroxyacetone kinase\n",
      "COG0601 COG1173 ABC-type dipeptide/oligopeptide/nickel transport system, permease component ABC-type dipeptide/oligopeptide/nickel transport system, permease component\n",
      "COG0098 COG1841 Ribosomal protein S5 Ribosomal protein L30/L7E\n",
      "COG0065 COG0066 Homoaconitase/3-isopropylmalate dehydratase large subunit 3-isopropylmalate dehydratase small subunit\n",
      "COG0028 COG0440 Acetolactate synthase large subunit or other thiamine pyrophosphate-requiring enzyme Acetolactate synthase, small subunit\n",
      "COG1117 COG0704 ABC-type phosphate transport system, ATPase component Phosphate uptake regulator\n",
      "COG0096 COG0097 Ribosomal protein S8 Ribosomal protein L6P/L9E\n",
      "COG0581 COG1117 ABC-type phosphate transport system, permease component ABC-type phosphate transport system, ATPase component\n",
      "COG2766 COG2718 Predicted Ser/Thr protein kinase Uncharacterized conserved protein YeaH/YhbH, required for sporulation, DUF444 family\n"
     ]
    }
   ],
   "source": [
    "# Details of the most common and distant COG pair\n",
    "cog_func_dict = loadPkl('cogFunc.dict.pkl')\n",
    "\n",
    "for dist, cogPairL in dist_cogPairs_dict.items():\n",
    "    if dist > 1.3:\n",
    "        for cogA,cogB in cogPairL: \n",
    "            print cogA, cogB, cog_func_dict[cogA][1],cog_func_dict[cogB][1]"
   ]
  },
  {
   "cell_type": "code",
   "execution_count": null,
   "metadata": {
    "collapsed": true
   },
   "outputs": [],
   "source": []
  }
 ],
 "metadata": {
  "kernelspec": {
   "display_name": "Python 2",
   "language": "python",
   "name": "python2"
  },
  "language_info": {
   "codemirror_mode": {
    "name": "ipython",
    "version": 2
   },
   "file_extension": ".py",
   "mimetype": "text/x-python",
   "name": "python",
   "nbconvert_exporter": "python",
   "pygments_lexer": "ipython2",
   "version": "2.7.10"
  }
 },
 "nbformat": 4,
 "nbformat_minor": 0
}
