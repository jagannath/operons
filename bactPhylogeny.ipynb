{
 "cells": [
  {
   "cell_type": "markdown",
   "metadata": {},
   "source": [
    "# Understanding and plotting the decay of operonic and non-operonic gene pairs as a function of phylogenetic distance\n",
    "The idea is to compute a genetic distance between two species. This will be used in comparing the genomic FGOC \n",
    "score between two species. <br />\n",
    "I am using a tree computed (from the living tree of life) and downloaded from [silva DB](http://www.arb-silva.de/projects/living-tree/). This contains a curated list of 16sRNA and 23sRNA from bacterial and archael species. The tree nodes have been collapsed to the species level. This means I will have to use the same distance metric when comparing it at a strain level. <br />\n",
    "The metric for the distance between two species is going to be a patristic distance. I calculate the distance matrix from this tree. The computation is intensive and requires a lot of memory. The file used is calcGenetic.py. I performed this calculation in a different server and stored it as a massive flatfile in the format - BACTERIA-A BACTERIA-B distance <br />\n",
    "\n",
    "I then calculate the gene order conservation score comparing operonic genes and not operonic genes as a function of phylogenetic distance <br />\n",
    "pkl files generated are - \n",
    "<ol><li> eco_org2_dist.dict.pkl </li>\n",
    "<li> bsu_org2_dist.dict.pkl </li>\n",
    "<li> bsu_allBact.notOperonScores.dict.pkl </li>\n",
    "<li> bsu_allBact.operonScores.dict.pkl </li>\n",
    "<li> eco_allBact.notOperonScores.dict.pkl </li>\n",
    "<li> eco_allBact.operonScores.dict.pkl </li>\n",
    "</ol>"
   ]
  },
  {
   "cell_type": "code",
   "execution_count": 5,
   "metadata": {
    "collapsed": false
   },
   "outputs": [
    {
     "name": "stdout",
     "output_type": "stream",
     "text": [
      "Dictionaries loaded\n"
     ]
    }
   ],
   "source": [
    "import os\n",
    "import pickle \n",
    "\n",
    "def loadPkl(fname):\n",
    "    pklDir = '/home/jaggu/research/projectFiles/operons/pklFiles'\n",
    "    f = os.path.join(pklDir,fname)\n",
    "    db = pickle.load(open(f))\n",
    "    return db\n",
    "\n",
    "cogPair_dict = loadPkl('cogPair_count.dict.pkl')\n",
    "cog_locusTag_dict = loadPkl('cog_locusTag.dict.pkl')\n",
    "locus_cog_dict = loadPkl('locus_cog.dict.pkl')\n",
    "org_cogPair_dict = loadPkl('org_cogPair.dict.pkl')\n",
    "print \"Dictionaries loaded\""
   ]
  },
  {
   "cell_type": "code",
   "execution_count": 22,
   "metadata": {
    "collapsed": false
   },
   "outputs": [
    {
     "name": "stdout",
     "output_type": "stream",
     "text": [
      "bsuPickled\n"
     ]
    }
   ],
   "source": [
    "# DICTIONARY FOR PATRISTIC DISTANCE\n",
    "# Making a dictionary for (Org1,org2):dist where Org1 is either Escherichia or Bacillus etc.\n",
    "import os\n",
    "import cPickle as pickle\n",
    "\n",
    "def savePkl(db,pklFname):\n",
    "    pklDir = '/home/jaggu/research/projectFiles/operons/pklFiles'    \n",
    "    f = os.path.join(pklDir,pklFname)\n",
    "    pickle.dump(db,open(f,'w'))\n",
    "    return \n",
    "\n",
    "bactTreeDir = '/home/jaggu/research/downloads/bacterialTrees/silvaDB'\n",
    "distFile = 'all.bactDist.txt'\n",
    "fname = os.path.join(bactTreeDir,distFile)\n",
    "#org = 'eco'\n",
    "#orgName = 'Escherichia coli'\n",
    "org = 'bsu'\n",
    "orgName = 'Bacillus subtilis'\n",
    "orgDistDict = dict()\n",
    "\n",
    "with open(fname) as f:\n",
    "    for line in f:\n",
    "        if not line.startswith('BACTERIA'):\n",
    "            if line.startswith(orgName):\n",
    "                newLine = line.replace(' ','_')\n",
    "                org1,org2,dist = newLine.strip().split('\\t')\n",
    "                dist = float(dist)\n",
    "                org1Name = org1.split('_')[0]+'_'+org1.split('_')[1]\n",
    "                org2Name = org2.split('_')[0]+'_'+org2.split('_')[1]\n",
    "                #print org1Name, org2Name, dist\n",
    "                orgDistDict[org2Name]=dist\n",
    "savePkl(orgDistDict,org+'_org2_dist.dict.pkl')\n",
    "print org + \" : Pickled\"\n"
   ]
  },
  {
   "cell_type": "code",
   "execution_count": 178,
   "metadata": {
    "collapsed": false
   },
   "outputs": [
    {
     "name": "stdout",
     "output_type": "stream",
     "text": [
      "For organism : bsu ; Operon list done (in COG)\n"
     ]
    }
   ],
   "source": [
    "# Calculating genFGOC score by comparing gene pair between operonic genes and non-operonic genes. \n",
    "\n",
    "import os\n",
    "import cPickle as pickle\n",
    "\n",
    "operondbDir = '/home/jaggu/research/downloads/operons_databases/microbesOnline'\n",
    "sourceDir = '/home/jaggu/research/allGenomePttFiles'\n",
    "\n",
    "# THIS IS WHERE YOU SHOULD CHANGE THE organism \n",
    "#org = 'eco' \n",
    "#orgName = ('Escherichia_coli_K_12_substr__MG1655_uid57779','NC_000913')\n",
    "org = 'bsu'\n",
    "orgName = ('Bacillus_subtilis_168_uid57675', 'NC_000964')\n",
    "\n",
    "orgDir = os.path.join(sourceDir,orgName[0])\n",
    "orgPttFile = os.path.join(orgDir,orgName[1]+'.ptt') \n",
    "\n",
    "def getOrientation(orgPttFile):\n",
    "    #Get orientation right\n",
    "    ifile = open(orgPttFile,'r')\n",
    "    lines = ifile.readlines()\n",
    "    ifile.close()\n",
    "    orientationDict = dict()\n",
    "\n",
    "    for line in lines[3:]:\n",
    "        orientation,lTag = line.split('\\t')[1],line.split('\\t')[5]\n",
    "        orientationDict[lTag]=orientation\n",
    "    return orientationDict\n",
    "\n",
    "# Getting orientation for each locus tag\n",
    "orientationDict = getOrientation(orgPttFile)\n",
    "\n",
    "# Parsing operon file\n",
    "fname = org+'.'+'operon'\n",
    "ifile = open(os.path.join(operondbDir,fname))\n",
    "lines = ifile.readlines()\n",
    "ifile.close()\n",
    "\n",
    "wOp_COG_list = list()\n",
    "bwOp_COG_list = list()\n",
    "\n",
    "def getCog(lTag):\n",
    "    try:\n",
    "        cog = locus_cog_dict[lTag]\n",
    "    except KeyError:\n",
    "        cog = 'nan'\n",
    "    if cog == '-': cog = 'nan' #Some wierd bug\n",
    "    return cog\n",
    "\n",
    "def getCOGpairInfo(lTag1,lTag2):\n",
    "    cogA = getCog(lTag1)\n",
    "    cogB = getCog(lTag2)\n",
    "    if cogA is 'nan' or cogB is 'nan':\n",
    "        return None\n",
    "    else:\n",
    "        # Check orientation\n",
    "        orientationA = orientationDict[lTag1]\n",
    "        orientationB = orientationDict[lTag2]\n",
    "        if orientationA == orientationB == '+':\n",
    "            cogPair = (cogA,cogB)\n",
    "        elif orientationA == orientationB == '-':\n",
    "            cogPair = (cogB,cogA)\n",
    "        else:\n",
    "            cogPair = (cogA,cogB)\n",
    "        return cogPair\n",
    "        \n",
    "for line in lines[1:]:\n",
    "    lTag1,lTag2,bOp = [line.split('\\t')[i] for i in [2,3,6]]\n",
    "    cogPair = getCOGpairInfo(lTag1,lTag2)\n",
    "\n",
    "    if cogPair:\n",
    "        if bOp == 'TRUE':\n",
    "            wOp_COG_list.append(cogPair)\n",
    "        else:\n",
    "            bwOp_COG_list.append(cogPair)\n",
    "            \n",
    "print \"For organism : %s ; Operon list done (in COG)\"%(org)"
   ]
  },
  {
   "cell_type": "code",
   "execution_count": 181,
   "metadata": {
    "collapsed": false
   },
   "outputs": [
    {
     "name": "stdout",
     "output_type": "stream",
     "text": [
      "Comparing bsu with all bacteria ...\n",
      "Operon and not operon Scores pickled\n"
     ]
    }
   ],
   "source": [
    "# Parse through the cogPairs across orgs and ask for intersection of sets; Calculates the operon score and  \n",
    "# not operon score\n",
    "\n",
    "from __future__ import division\n",
    "import fnmatch\n",
    "import cPickle as pickle\n",
    "import collections\n",
    "\n",
    "\n",
    "def locate(pattern, root=os.curdir):\n",
    "    '''Locate all files matching supplied filename pattern in and\n",
    "    below supplied root directory.'''\n",
    "    allFiles = []\n",
    "    for path, dirs, files in os.walk(os.path.abspath(root)):\n",
    "        for filename in fnmatch.filter(files, pattern):\n",
    "            allFiles.append(os.path.join(path,filename))\n",
    "    return allFiles\n",
    "\n",
    "def intersect(a,b):\n",
    "    return list(set(a)&set(b))\n",
    "\n",
    "def getPairs_list(cogPair_list):\n",
    "    pair_list = list()\n",
    "    for pair in cogPair_list:\n",
    "        if not (pair[0] == '-' or pair[1] == '-'):\n",
    "            pair_list.append(pair)\n",
    "    if len(pair_list)>1: return pair_list\n",
    "    else: return list()\n",
    "\n",
    "def getOrgName(pttFile):\n",
    "    accNbr = os.path.split(pttFile)[-1].split('.')[0]\n",
    "    orgName = os.path.split(os.path.split(pttFile)[0])[1]\n",
    "    return (orgName,accNbr)\n",
    "\n",
    "def getScores(orgName):\n",
    "    flag = True\n",
    "    cogPair_list = org_cogPair_dict[orgName]\n",
    "    pair_list = getPairs_list(cogPair_list)\n",
    "    if pair_list:flag = True\n",
    "    else: flag = False\n",
    "    org_opList = intersect(pair_list,wOp_COG_list)\n",
    "    org_notOpList = intersect(pair_list,bwOp_COG_list)\n",
    "\n",
    "    operonScore = len(org_opList)/len(wOp_COG_list)\n",
    "    notOperonScore = len(org_notOpList)/len(bwOp_COG_list)\n",
    "    \n",
    "    return operonScore,notOperonScore,flag\n",
    "    \n",
    "\n",
    "def savePkl(db,pklFname):\n",
    "    f = os.path.join(pklPath,pklFname)\n",
    "    pickle.dump(db,open(f,'w'))\n",
    "    return \n",
    "\n",
    "\n",
    "pklPath = '/home/jaggu/research/projectFiles/operons/pklFiles'\n",
    "sourceDir = '/home/jaggu/research/allGenomePttFiles'\n",
    "\n",
    "allOperonScore_dict = collections.defaultdict(list)\n",
    "allNotOperonScore_dict = collections.defaultdict(list)\n",
    "\n",
    "\n",
    "def main():\n",
    "    # Generating the operonScore and notOperonScore with all bacterial species\n",
    "    print \"Comparing %s with all bacteria ...\"%(org)\n",
    "    allPttFiles = locate('*.ptt',sourceDir)\n",
    "    for pttFile in allPttFiles:\n",
    "        #print \"Parsing :  %s file ...\"%(pttFile)\n",
    "        compareOrg = getOrgName(pttFile)\n",
    "        operonScore, notOperonScore,status = getScores(compareOrg) \n",
    "        #status variable makes sure there is atleast one gene assigned.         \n",
    "        if status: \n",
    "            allOperonScore_dict[compareOrg[0]].append(operonScore)\n",
    "            allNotOperonScore_dict[compareOrg[0]].append(notOperonScore)\n",
    "\n",
    "    fOp = org + '_allBact.operonScores.dict.pkl'\n",
    "    fNotOp = org + '_allBact.notOperonScores.dict.pkl'\n",
    "    savePkl(allOperonScore_dict,fOp)\n",
    "    savePkl(allNotOperonScore_dict,fNotOp)\n",
    "    print \"Operon and not operon Scores pickled\"\n",
    "\n",
    "        \n",
    "def test_case():\n",
    "    #org = ('Escherichia_coli_K_12_substr__MG1655_uid57779','NC_000913')\n",
    "    #org = ('Bacillus_subtilis_168_uid57675', 'NC_000964')\n",
    "    #org = ('Clostridium_perfringens_SM101_uid58117', 'NC_008264')\n",
    "    org = ('Sphaerochaeta_pleomorpha_Grapes_uid82365','NC_016633')\n",
    "    operonScore,notOperonScore,status = getScores(org)\n",
    "    \n",
    "    print org, operonScore, notOperonScore, status\n",
    "\n",
    "#test_case()\n",
    "main()\n"
   ]
  },
  {
   "cell_type": "code",
   "execution_count": 229,
   "metadata": {
    "collapsed": false
   },
   "outputs": [
    {
     "name": "stdout",
     "output_type": "stream",
     "text": [
      "For bsu : List of [operonScore,distance] and [notOperonScore, distance] calculated\n"
     ]
    }
   ],
   "source": [
    "# Plotting the graph of Operon scores vs genetic distance\n",
    "\n",
    "#org = 'eco'\n",
    "org = 'bsu'\n",
    "\n",
    "fDist = org + '_org2_dist.dict.pkl'\n",
    "fOp = org + '_allBact.operonScores.dict.pkl'\n",
    "fNotOp = org + '_allBact.notOperonScores.dict.pkl'\n",
    "org_dist_dict = loadPkl(fDist)\n",
    "allOperonScore_dict = loadPkl(fOp)\n",
    "allNotOperonScore_dict = loadPkl(fNotOp)\n",
    "\n",
    "opScore_dist_list = list()\n",
    "notOpScore_dist_list = list()\n",
    "\n",
    "for orgName, operonScore in allOperonScore_dict.items():\n",
    "    species = orgName.split('_')[0]+'_'+orgName.split('_')[1]\n",
    "    notOperonScore = allNotOperonScore_dict[orgName]\n",
    "    try:\n",
    "        dist = org_dist_dict[species]\n",
    "    except KeyError:\n",
    "        continue;\n",
    "    opScore_dist_list.append([max(operonScore),dist])\n",
    "    notOpScore_dist_list.append([max(notOperonScore),dist])\n",
    "\n",
    "print \"For %s : List of [operonScore,distance] and [notOperonScore, distance] calculated\"%(org)\n"
   ]
  },
  {
   "cell_type": "code",
   "execution_count": 232,
   "metadata": {
    "collapsed": false
   },
   "outputs": [
    {
     "name": "stdout",
     "output_type": "stream",
     "text": [
      "Organism : bsu ...\n"
     ]
    },
    {
     "data": {
      "image/png": "[encoded data removed]",
      "text/plain": [
       "<matplotlib.figure.Figure at 0x7f74b96c0fd0>"
      ]
     },
     "metadata": {},
     "output_type": "display_data"
    }
   ],
   "source": [
    "# Scatter plot between operon score and patristic distance\n",
    "imgDir = '/home/jaggu/research/projectFiles/figures'\n",
    "\n",
    "% matplotlib inline\n",
    "import numpy as np\n",
    "import matplotlib.pyplot as plt\n",
    "\n",
    "print \"Organism : %s ...\"%(org) #Carrying over\n",
    "# For operon\n",
    "op_yVals = [item[0] for item in opScore_dist_list]\n",
    "op_dist = [item[1] for item in opScore_dist_list]\n",
    "\n",
    "notOp_yVals = [item[0] for item in notOpScore_dist_list]\n",
    "notOp_dist = [item[1] for item in notOpScore_dist_list]\n",
    "\n",
    "\n",
    "plt.scatter(op_dist,op_yVals,c='#0072b2',marker='o')\n",
    "plt.scatter(notOp_dist,notOp_yVals,c='#e69f00',marker='s')\n",
    "plt.xlim(xmin=0,xmax=1.2)\n",
    "plt.xlabel('Patristic distance')\n",
    "plt.ylabel('Gene order conservation score')\n",
    "plt.title('Comparison of gene order score for gene pairs in %s : \\n within (blue) and between operon (yellow)'%(org))\n",
    "#plt.show()\n",
    "\n",
    "# Saving figure\n",
    "fname = org+'_OpBw_dist.scatter.svg'\n",
    "f = os.path.join(imgDir,fname)\n",
    "plt.savefig(f,dpi=300)\n"
   ]
  },
  {
   "cell_type": "code",
   "execution_count": null,
   "metadata": {
    "collapsed": true
   },
   "outputs": [],
   "source": []
  }
 ],
 "metadata": {
  "kernelspec": {
   "display_name": "Python 2",
   "language": "python",
   "name": "python2"
  },
  "language_info": {
   "codemirror_mode": {
    "name": "ipython",
    "version": 2
   },
   "file_extension": ".py",
   "mimetype": "text/x-python",
   "name": "python",
   "nbconvert_exporter": "python",
   "pygments_lexer": "ipython2",
   "version": "2.7.10"
  }
 },
 "nbformat": 4,
 "nbformat_minor": 0
}
