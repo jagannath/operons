{
 "cells": [
  {
   "cell_type": "markdown",
   "metadata": {},
   "source": [
    "# The notebook is for using the flagellar assembly genes of Ecoli as the origin species and understand how I redesign it to have other flagellation pattern\n",
    "<body>\n",
    "Comparison of the Ecoli COG pairs in flagella with other species. The criteria are - \n",
    "<ol>\n",
    "<li> Patristic distance </li>\n",
    "<li> Number of COG assigned genes </li>\n",
    "<li> Number of conserved ordered COG pair </li>\n",
    "<li> Number of unique COG pair in eco </li>\n",
    "<li> Number of unique COG pair in other organism </li>\n",
    "</ol>\n",
    "</body>\n",
    "***"
   ]
  },
  {
   "cell_type": "code",
   "execution_count": 197,
   "metadata": {
    "collapsed": false
   },
   "outputs": [],
   "source": [
    "import os\n",
    "import cPickle as pickle\n",
    "\n",
    "def loadPkl(fname):\n",
    "    pklDir = '/home/jaggu/research/projectFiles/operons/pklFiles'\n",
    "    f = os.path.join(pklDir,fname)\n",
    "    db = pickle.load(open(f))\n",
    "    return db\n",
    "\n",
    "def savePkl(db,pklFname):\n",
    "    pklPath = '/home/jaggu/research/projectFiles/operons/pklFiles'\n",
    "    f = os.path.join(pklPath,pklFname)\n",
    "    pickle.dump(db,open(f,'w'))\n",
    "    return \n",
    "\n",
    "org_FlagellaPairs_dict = loadPkl('selected_org.flagellaCOGPairs.dict.pkl')\n",
    "eco_org2_dist = loadPkl('eco_org2_dist.dict.pkl')\n",
    "\n",
    "orgDict_orig = {'vch': ('Vibrio_cholerae_O1_biovar_El_Tor_N16961_uid57623','NC_002505'),\n",
    "           'pae': ('Pseudomonas_aeruginosa_PAO1_uid57945','NC_002516'),\n",
    "           'hpg': ('Helicobacter_pylori_G27_uid59305','NC_011333'),\n",
    "           'vfi': ('Vibrio_fischeri_ES114_uid58163','NC_006840'),\n",
    "           'eco': ('Escherichia_coli_K_12_substr__MG1655_uid57779','NC_000913'),\n",
    "           'seo': ('Salmonella_enterica_serovar_Typhimurium_LT2_uid57799','NC_003197'),\n",
    "           'bsu': ('Bacillus_subtilis_168_uid57675','NC_000964'),\n",
    "           'cjj': ('Campylobacter_jejuni_81_176_uid58503','NC_008787'),\n",
    "           'rru': ('Rhodospirillum_rubrum_ATCC_11170_uid57655','NC_007643'),\n",
    "           'bbu': ('Borrelia_burgdorferi_B31_uid57581','NC_001318'),\n",
    "           'bhy': ('Brachyspira_hyodysenteriae_WA1_uid59291','NC_012225')\n",
    "          }\n",
    "\n",
    "orgDict_ForDist = {'vch': ('Vibrio_cholerae_O1_biovar_El_Tor_N16961_uid57623','NC_002505'),\n",
    "           'pae': ('Pseudomonas_aeruginosa_PAO1_uid57945','NC_002516'),\n",
    "           'hpg': ('Helicobacter_pylori_G27_uid59305','NC_011333'),\n",
    "           'vfi': ('Aliivibrio_fischeri_ES114','NC_006840'), #This will not match with NCBI genomes; \n",
    "           'eco': ('Escherichia_coli_K_12_substr__MG1655_uid57779','NC_000913'),\n",
    "           'seo': ('Salmonella_enterica_serovar_Typhimurium_LT2_uid57799','NC_003197'),\n",
    "           'bsu': ('Bacillus_subtilis_168_uid57675','NC_000964'),\n",
    "           'cjj': ('Campylobacter_jejuni_81_176_uid58503','NC_008787'),\n",
    "           'rru': ('Rhodospirillum_rubrum_ATCC_11170_uid57655','NC_007643'),\n",
    "           'bbu': ('Borrelia_afzelii_FLI','NC_001318'), # This will not match NCBI genome\n",
    "           'bhy': ('Brachyspira_hyodysenteriae_WA1_uid59291','NC_012225')\n",
    "          }\n",
    "\n",
    "orgList_ordered = ('eco','seo','bsu','vch','pae','hpg','vfi','cjj','rru','bbu','bhy')\n",
    "nbrOrgs = len(orgList_ordered)"
   ]
  },
  {
   "cell_type": "code",
   "execution_count": 3,
   "metadata": {
    "collapsed": false
   },
   "outputs": [],
   "source": [
    "% matplotlib inline\n",
    "import numpy as np\n",
    "import matplotlib.pyplot as plt\n",
    "\n",
    "def arrayFigure(array,axm):\n",
    "    cax = axm.matshow(array,interpolation='nearest', cmap='Blues')\n",
    "    axm.set_adjustable('box-forced')\n",
    "    axm.set_xticks([])\n",
    "    axm.set_yticks(range(nbrOrgs),minor=False)\n",
    "    axm.set_yticklabels(orgList_ordered)\n",
    "    return axm"
   ]
  },
  {
   "cell_type": "code",
   "execution_count": 4,
   "metadata": {
    "collapsed": false
   },
   "outputs": [
    {
     "name": "stdout",
     "output_type": "stream",
     "text": [
      "Array of patristic distance calculated :  [[ 0.       0.03106  0.72893  0.36371  0.47345  0.77804  0.34088  0.80757\n",
      "   0.58531  0.74799  0.71409]]\n"
     ]
    }
   ],
   "source": [
    "\"\"\" 1. Calculating patristic distance array (eco vs the rest) \"\"\"\n",
    "dist_array = np.zeros((nbrOrgs,1),dtype=float)\n",
    "for i, org in enumerate(orgList_ordered):\n",
    "    orgName = orgDict_ForDist[org][0]\n",
    "    oname = orgName.split('_')[0]+'_'+orgName.split('_')[1]\n",
    "    dist_array[i] = eco_org2_dist[oname]\n",
    "print \"Array of patristic distance calculated : \",np.transpose(dist_array)\n",
    "#fig,ax = plt.subplots()\n",
    "#axDist = arrayFigure(dist_array,ax)"
   ]
  },
  {
   "cell_type": "code",
   "execution_count": 5,
   "metadata": {
    "collapsed": false
   },
   "outputs": [
    {
     "name": "stdout",
     "output_type": "stream",
     "text": [
      "Array of number of Genes calculated :  [[38 40 37 43 46 45 42 47 37 25 37]]\n"
     ]
    }
   ],
   "source": [
    "\"\"\" 2. Calculating the number of flagellar COG genes (not pairs) assigned for each organism \"\"\"\n",
    "\n",
    "nbrGenes_array = np.zeros((nbrOrgs,1),dtype=int)\n",
    "\n",
    "for i, org in enumerate(orgList_ordered):\n",
    "    allCOGs = list()\n",
    "    allPairs = org_FlagellaPairs_dict[org]\n",
    "    for cog1,cog2 in allPairs:\n",
    "        allCOGs.append(cog1)\n",
    "        allCOGs.append(cog2)\n",
    "    nbrGenes_array[i] = len(set(allCOGs))\n",
    "\n",
    "print \"Array of number of Genes calculated : \",np.transpose(nbrGenes_array)\n",
    "#fig,ax = plt.subplots()\n",
    "#ax = arrayFigure(nbrGenes_array,ax)"
   ]
  },
  {
   "cell_type": "code",
   "execution_count": 6,
   "metadata": {
    "collapsed": false
   },
   "outputs": [
    {
     "name": "stdout",
     "output_type": "stream",
     "text": [
      "Array of number of pairs interesecting (including unassigned) :  [[33 32 14 22 23  7 22  7 10 11 12]]\n"
     ]
    }
   ],
   "source": [
    "\"\"\" 3. Calculating the number of flagellar COG gene pairs (including COG unassigned) intersecting \n",
    "for each organism \"\"\"\n",
    "\n",
    "# Score between number of COG pairs between the two organisms. \n",
    "def intersect(a,b):\n",
    "    return list(set(a)&set(b))\n",
    "\n",
    "intersectPairs_array = np.zeros((nbrOrgs,1),dtype=int)\n",
    "ecoPairs = org_FlagellaPairs_dict['eco']\n",
    "\n",
    "for i, org in enumerate(orgList_ordered):\n",
    "    allPairs = org_FlagellaPairs_dict[org]\n",
    "    nbrIntersect = len(intersect(ecoPairs,allPairs))\n",
    "    intersectPairs_array[i] = nbrIntersect\n",
    "\n",
    "print \"Array of number of pairs interesecting (including unassigned) : \",np.transpose(intersectPairs_array)\n",
    "#fig,ax = plt.subplots()\n",
    "#ax = arrayFigure(intersectPairs_array,ax)"
   ]
  },
  {
   "cell_type": "code",
   "execution_count": 8,
   "metadata": {
    "collapsed": false
   },
   "outputs": [
    {
     "name": "stdout",
     "output_type": "stream",
     "text": [
      "Array of number of pairs present in eco but not in other organism :  [[ 0  1 19 11 10 26 11 26 23 22 21]]\n"
     ]
    }
   ],
   "source": [
    "\"\"\" 4. Calculating the number of flagellar COG gene pairs (including unassigned COG) present in eco but not in \n",
    "other species \"\"\"\n",
    "\n",
    "ecoPresent_array = np.zeros((nbrOrgs,1),dtype=int)\n",
    "ecoPairs = org_FlagellaPairs_dict['eco']\n",
    "\n",
    "for i, org in enumerate(orgList_ordered):\n",
    "    allPairs = org_FlagellaPairs_dict[org]\n",
    "    intersectList = intersect(ecoPairs,allPairs)\n",
    "    ecoSet = set(ecoPairs) - set(intersectList)\n",
    "    ecoPresent_array[i] = len(ecoSet)\n",
    "\n",
    "print \"Array of number of pairs present in eco but not in other organism : \",np.transpose(ecoPresent_array)\n",
    "#fig,ax = plt.subplots()\n",
    "#ax = arrayFigure(ecoPresent_array,ax)"
   ]
  },
  {
   "cell_type": "code",
   "execution_count": 12,
   "metadata": {
    "collapsed": false
   },
   "outputs": [
    {
     "data": {
      "image/png": "[encoded data removed]",
      "text/plain": [
       "<matplotlib.figure.Figure at 0x7fb15dc50b50>"
      ]
     },
     "metadata": {},
     "output_type": "display_data"
    }
   ],
   "source": [
    "# Combining the different arrays into one. Probably have to combine different axes\n",
    "\n",
    "fig,(ax1,ax2,ax3,ax4) = plt.subplots(nrows=1,ncols=4,sharey=True)\n",
    "ax1 = arrayFigure(dist_array,ax1)\n",
    "ax2 = arrayFigure(nbrGenes_array,ax2)\n",
    "ax3 = arrayFigure(intersectPairs_array,ax3)\n",
    "ax4 = arrayFigure(ecoPresent_array,ax4)\n",
    "\n",
    "# Saving figure\n",
    "imgDir = '/home/jaggu/research/projectFiles/operons/tmpFigures'\n",
    "fname = 'eco_compareFeatures.heatmap.svg'\n",
    "f = os.path.join(imgDir,fname)\n",
    "plt.savefig(f,dpi=300)"
   ]
  },
  {
   "cell_type": "markdown",
   "metadata": {
    "collapsed": true
   },
   "source": [
    "*** \n",
    "# Graphing the operonic structure for each of the organisms\n",
    "<body>\n",
    "Although the network overlay is intuitive, I am finding it hard to visualize it. I am thinking of graphing the gene position on the genome for each organisms. This will take a lot of effort and playing with image tools of matplotlib, but should be doable. I am hoping to color the COG groups in the same scheme I used earlier. \n",
    "</body>"
   ]
  },
  {
   "cell_type": "code",
   "execution_count": 21,
   "metadata": {
    "collapsed": true
   },
   "outputs": [],
   "source": [
    "# Defining color for the COG groups (maybe later)\n",
    "cog_func_list = [('COG1345','K02407','CAP','fliD'),\n",
    "                 ('COG1344','K02397','HOOK ASSOCIATED','flgL'),\n",
    "                 ('COG1256','K02396','HOOK ASSOCIATED','flgK'),\n",
    "                 ('COG1344','K02406','FILAMENT','fliC'),\n",
    "                 ('COG3144','K02414','HOOK','fliK'),\n",
    "                 ('COG1843','K02389','HOOK','flgD'),\n",
    "                 ('COG1749','K02392','DISTAL RING','flgG'),\n",
    "                 ('COG2063','K02393','L RING','flgH'),\n",
    "                 ('COG1749','K02391','P ROD','flgF'),\n",
    "                 ('COG1706','K02394','P RING','flgI'),\n",
    "                 ('COG1677','K02408','P ROD','fliE'),\n",
    "                 ('COG1815','K02387','P ROD','flgB'),\n",
    "                 ('COG1558','K02388','P ROD','flgC'),\n",
    "                 ('COG1749','K02390','HOOK','flgE'),                 \n",
    "                 ('COG1766','K02409','MS RING','fliF'),\n",
    "                 ('COG1536','K02410','C RING','fliG'),\n",
    "                 ('COG1868','K02416','C RING','fliM'),\n",
    "                 ('COG1886','K02417','C RING','fliN'),\n",
    "                 ('COG1360','K02557','MOTOR','motB'),\n",
    "                 ('COG1291','K02556','MOTOR','motA'),\n",
    "                 ('COG1298','K02400','TYPE III SS','flhA'),\n",
    "                 ('COG1377','K02401','TYPE III SS','flhB'),\n",
    "                 ('COG1317','K02411','TYPE III SS','fliH'),\n",
    "                 ('COG1157','K02412','TYPE III SS','fliI'),\n",
    "                 ('COG3190','K02418','TYPE III SS','fliO'),\n",
    "                 ('COG1987','K02420','TYPE III SS','fliQ'),\n",
    "                 ('COG1338','K02419','TYPE III SS','fliP'),\n",
    "                 ('COG1684','K02421','TYPE III SS','fliR'),\n",
    "                 ('COG1684','K02415','BASAL BODY','fliI'),\n",
    "                 ('COG1261','K02386','BASAL BODY','flgA'),\n",
    "                 ('COG3418','K02399','CHAPERONE','flgN'),\n",
    "                 ('COG2882','K02413','CHAPERONE','fliJ'),\n",
    "                 ('COG1516','K02422','CHAPERONE','fliS'),\n",
    "                 ('COG2747','K02398','REGULATOR','flgM'),\n",
    "                ]"
   ]
  },
  {
   "cell_type": "code",
   "execution_count": 198,
   "metadata": {
    "collapsed": false
   },
   "outputs": [
    {
     "name": "stdout",
     "output_type": "stream",
     "text": [
      "Identifying in organism ... eco ; Number of clusters  15\n",
      "Identifying in organism ... bsu ; Number of clusters  20\n",
      "Identifying in organism ... bhy ; Number of clusters  56\n",
      "Identifying in organism ... seo ; Number of clusters  22\n",
      "Identifying in organism ... rru ; Number of clusters  53\n",
      "Identifying in organism ... cjj ; Number of clusters  21\n",
      "Identifying in organism ... vfi ; Number of clusters  14\n",
      "Identifying in organism ... vch ; Number of clusters  18\n",
      "Identifying in organism ... pae ; Number of clusters  38\n",
      "Identifying in organism ... bbu ; Number of clusters  4\n",
      "Identifying in organism ... hpg ; Number of clusters  21\n",
      "Organism: List of flagellar operon genes pickled\n"
     ]
    }
   ],
   "source": [
    "from __future__ import division\n",
    "import re\n",
    "import sys\n",
    "import matplotlib.patches as patches\n",
    "\n",
    "\n",
    "def correctCOG(COG,counter):\n",
    "    if ',' in COG: # There are some wierd .ptt files wherein the COG is written as COG1,COG1\n",
    "        COG = COG.split(',')[0]\n",
    "    if not COG.startswith('-'):\n",
    "        [COG] = re.findall(\"COG\\d+\",COG)\n",
    "    else: COG = 'nan'+str(counter)\n",
    "    return COG\n",
    "\n",
    "def getCOGList(cogPairList):\n",
    "    allPairs = list()\n",
    "    for a,b in org_FlagellaPairs_dict[org]:\n",
    "        allPairs.append(a)\n",
    "        allPairs.append(b)\n",
    "    return set(allPairs)\n",
    "\n",
    "def makeOperon(allCluster):\n",
    "    \"\"\"\n",
    "    The idea is to make a list like this - \n",
    "    [[g1,g2,g3],[g4,g5,g6,g7,g8,g9],...]. \n",
    "    The criteria I am using in g3 (the third gene in the triplet where g2 was considered the last flag gene) \n",
    "    \"\"\"\n",
    "    allOperons = list()\n",
    "    for cluster in allCluster:\n",
    "        operon = list()\n",
    "        firstGene = cluster[0][0]\n",
    "        lastGene = cluster[-1][2]\n",
    "        operon.append(firstGene)\n",
    "        for g1,g2,g3 in cluster:\n",
    "            operon.append(g2)\n",
    "        operon.append(lastGene)\n",
    "        allOperons.append(operon)\n",
    "    return allOperons\n",
    "    \n",
    "def makeTripletLines(lines):\n",
    "    # Makes three lines of adjacent genes; \n",
    "    # The previous, current and next genes are made as a triplet\n",
    "    line_first = lines[0:1]\n",
    "    line_second = lines[0:2]\n",
    "    line_1shift = lines[1:]\n",
    "    line_1shift.extend(line_first)\n",
    "    line_2shift = lines[2:]\n",
    "    line_2shift.extend(line_second)\n",
    "    lineTriplet = zip(lines,line_1shift,line_2shift)\n",
    "    return lineTriplet\n",
    "\n",
    "def checkIfNext(currG,nextG):\n",
    "    \"\"\" Returns the status of whether the next Gene looks like it is in the same operon.\n",
    "    To say False - (a) It must be in the opposite strand or (b) the distance (LposNext - RposCurr)>50\n",
    "    \"\"\"\n",
    "    status = False\n",
    "    distPermitted = 50\n",
    "    currLoc,currStrand = currG.split('\\t')[0],currG.split('\\t')[1]\n",
    "    nextLoc,nextStrand = nextG.split('\\t')[0],nextG.split('\\t')[1]\n",
    "\n",
    "    currRpos = int(currLoc.split('..')[1])\n",
    "    nextLpos = int(nextLoc.split('..')[0])\n",
    "    if currStrand == nextStrand: \n",
    "        status = True\n",
    "    if nextLpos - currRpos < distPermitted:\n",
    "        status = True\n",
    "    return status\n",
    "\n",
    "def IdentifyOperons(org,orgName,accNbr):\n",
    "    \"\"\"\n",
    "    This is the main function. It parses the entire genome of the organisms, and identifies clusters containing \n",
    "    flagellar genes (assigned to COG) and then retrieves the genes around it that look like operons. I can then use \n",
    "    this information for plotting the operons \n",
    "    \"\"\"\n",
    "    genomePath = '/home/jaggu/research/allGenomePttFiles'\n",
    "    f = os.path.join(genomePath,orgName,accNbr+'.ptt')\n",
    "    ifile = open(f,'r')\n",
    "    lines = ifile.readlines()\n",
    "    ifile.close()\n",
    "\n",
    "    genomeSize = int(lines[0].split('..')[-1])\n",
    "    lineTriplets = makeTripletLines(lines[3:])\n",
    "\n",
    "    flagella_geneInfoList = list()\n",
    "    allOperonCluster = list()\n",
    "\n",
    "    operon = False\n",
    "    cluster = list()\n",
    "\n",
    "    for i, (prevG,currG,nextG) in enumerate(lineTriplets):\n",
    "        currCOG2 = currG.split('\\t')[-2]\n",
    "        COG = correctCOG(currCOG2,i)\n",
    "        if COG in flagella_cogList: \n",
    "            operon = True\n",
    "            cluster.append([prevG,currG,nextG])\n",
    "        else:\n",
    "            if operon: #The prevG must have been in the operon\n",
    "                status = checkIfNext(currG,nextG)\n",
    "                if status: #i.e the next gene looks like in operon. Must continue\n",
    "                    operon = True\n",
    "                    cluster.append([prevG,currG,nextG])\n",
    "                else:\n",
    "                    operon = False #Finish the cluster and empty current cluster\n",
    "                    allOperonCluster.append(cluster)\n",
    "                    cluster = list()\n",
    "            else:continue;\n",
    "\n",
    "    allOperons = makeOperon(allOperonCluster)\n",
    "    return allOperons\n",
    "\n",
    "#org = 'eco'\n",
    "org_flagellarOperons = dict()\n",
    "\n",
    "for org, (orgName, accNbr) in orgDict_orig.items():\n",
    "    # Identifying flagellar clusters on the genome\n",
    "    org_FlagellaPairs_dict = loadPkl('selected_org.flagellaCOGPairs.dict.pkl')\n",
    "    flagella_cogList = getCOGList(org_FlagellaPairs_dict[org])\n",
    "    allOperons = IdentifyOperons(org,orgName,accNbr)\n",
    "    print \"Identifying in organism ...\",org,\"; Number of clusters \",len(allOperons)\n",
    "    org_flagellarOperons[org]=allOperons\n",
    "\n",
    "savePkl(org_flagellarOperons,'org_flagellarOperons.dict.pkl')\n",
    "print \"Organism: List of flagellar operon genes pickled\""
   ]
  },
  {
   "cell_type": "code",
   "execution_count": null,
   "metadata": {
    "collapsed": true
   },
   "outputs": [],
   "source": [
    "# Defining the figure\n",
    "#fig,ax = plt.subplots()\n",
    "#ax.set_xlim([0,4000])\n",
    "#ax.set_ylim([0,1000])\n",
    "\n",
    "def drawHLines(nbr,ax):\n",
    "    h1 = 0.5\n",
    "    ax.axhline(0.50,color='black')\n",
    "\n",
    "def drawRectangle(ax,lpos,rpos,direction,length):\n",
    "    ht = 0.1\n",
    "    if direction is '+': \n",
    "        x = lpos/redFactor\n",
    "        y = 0.5\n",
    "    else: \n",
    "        x = 0.5\n",
    "        y = lpos/redFactor\n",
    "    width = length/redFactor\n",
    "    print x,y,width,ht\n",
    "    ax.set_xlim([0,1.2*x])\n",
    "    ax.add_patch(patches.Rectangle((x,y),width,ht))\n"
   ]
  },
  {
   "cell_type": "code",
   "execution_count": 121,
   "metadata": {
    "collapsed": false
   },
   "outputs": [
    {
     "data": {
      "text/plain": [
       "[2, 3]"
      ]
     },
     "execution_count": 121,
     "metadata": {},
     "output_type": "execute_result"
    }
   ],
   "source": [
    "s = [2,3,4,5]\n",
    "s[0:2]\n"
   ]
  },
  {
   "cell_type": "code",
   "execution_count": null,
   "metadata": {
    "collapsed": true
   },
   "outputs": [],
   "source": []
  }
 ],
 "metadata": {
  "kernelspec": {
   "display_name": "Python 2",
   "language": "python",
   "name": "python2"
  },
  "language_info": {
   "codemirror_mode": {
    "name": "ipython",
    "version": 2
   },
   "file_extension": ".py",
   "mimetype": "text/x-python",
   "name": "python",
   "nbconvert_exporter": "python",
   "pygments_lexer": "ipython2",
   "version": "2.7.10"
  }
 },
 "nbformat": 4,
 "nbformat_minor": 0
}
