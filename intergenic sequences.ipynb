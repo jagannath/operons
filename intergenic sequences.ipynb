{
 "cells": [
  {
   "cell_type": "markdown",
   "metadata": {},
   "source": [
    "***\n",
    "# Searching for functional elements in the intergenic sequence between the orthologous gene pairs across all species\n",
    "***"
   ]
  },
  {
   "cell_type": "markdown",
   "metadata": {},
   "source": [
    "# 1. Identifying conservation of RNA secondary structures in the intergenic sequences (igsq)\n",
    "\n",
    "<body>\n",
    "Using Vienna package [website link](http://www.tbi.univie.ac.at/RNA/). I downloaded the package (although it comes with an easy ubuntu install, i did not do this. Instead i built the package to have the python wrapper).  After importing RNA, you can run the script 'fold' to calculate the best secondary structure. \n",
    "</body>"
   ]
  },
  {
   "cell_type": "code",
   "execution_count": 26,
   "metadata": {
    "collapsed": false
   },
   "outputs": [
    {
     "name": "stdout",
     "output_type": "stream",
     "text": [
      "(((.....)))\n"
     ]
    },
    {
     "data": {
      "text/plain": [
       "'SLS'"
      ]
     },
     "execution_count": 26,
     "metadata": {},
     "output_type": "execute_result"
    }
   ],
   "source": [
    "# Testing the vienna rnafold package\n",
    "import os\n",
    "import sys\n",
    "import re\n",
    "\n",
    "sys.path.append('/home/jaggu/research/downloads/vienna/viennaRNA/lib/python2.7/site-packages')\n",
    "import RNA\n",
    "\n",
    "dotNot = RNA.fold('CCCGGCGTGGG')[0]\n",
    "print dotNot\n",
    "re.findall(\"\\(+\",dotNot)\n",
    "_rep = re.sub(\"\\(+\",\"S\",dotNot)\n",
    "_rep = re.sub(\"\\)+\",\"S\",_rep)\n",
    "slNotation = re.sub(\"\\.+\",\"L\",_rep)\n",
    "\n",
    "\n",
    "\n"
   ]
  },
  {
   "cell_type": "code",
   "execution_count": 1,
   "metadata": {
    "collapsed": true
   },
   "outputs": [],
   "source": [
    "import os\n",
    "import sys\n",
    "import cPickle as pickle\n",
    "import time\n",
    "\n",
    "def loadPkl(fname):\n",
    "    pklDir = '/home/jaggu/research/projectFiles/operons/pklFiles'\n",
    "    f = os.path.join(pklDir,fname)\n",
    "    db = pickle.load(open(f))\n",
    "    return db\n",
    "\n",
    "def savePkl(db,pklFname):\n",
    "    pklDir = '/home/jaggu/research/projectFiles/operons/pklFiles'    \n",
    "    f = os.path.join(pklDir,pklFname)\n",
    "    pickle.dump(db,open(f,'w'))\n",
    "    return "
   ]
  },
  {
   "cell_type": "code",
   "execution_count": null,
   "metadata": {
    "collapsed": false
   },
   "outputs": [],
   "source": [
    "# Importing dictionaries\n",
    "\n",
    "org_lTagPairIGSeq_dict = loadPkl('org_locusTagPairInterGeneSeq.dict.pkl')\n",
    "locus_cog_dict = loadPkl('locus_cog.dict.pkl')\n",
    "\n",
    "print \"Org_lTagPairIGSeq_dict loaded\",time.ctime()"
   ]
  },
  {
   "cell_type": "code",
   "execution_count": 6,
   "metadata": {
    "collapsed": false
   },
   "outputs": [
    {
     "name": "stdout",
     "output_type": "stream",
     "text": [
      "('Escherichia_coli__BL21_Gold_DE3_pLysS_AG__uid59245', 'NC_012947') 4228\n",
      "ECBD_0001 ECBD_0002\n",
      "ACCTA L\n"
     ]
    },
    {
     "ename": "SystemExit",
     "evalue": "1",
     "output_type": "error",
     "traceback": [
      "An exception has occurred, use %tb to see the full traceback.\n",
      "\u001b[1;31mSystemExit\u001b[0m\u001b[1;31m:\u001b[0m 1\n"
     ]
    },
    {
     "name": "stderr",
     "output_type": "stream",
     "text": [
      "To exit: use 'exit', 'quit', or Ctrl-D.\n"
     ]
    }
   ],
   "source": [
    "# Parsing each IG seq as a RNA and by using RNAfold from Vienna, I reading out an SLNotation (Stem,Loop;). \n",
    "# Then every COG pair gets a list of these secondarystructure. Then I parse the COG pairs to get the frequency \n",
    "# of each secondary structure\n",
    "sys.path.append('/home/jaggu/research/downloads/vienna/viennaRNA/lib/python2.7/site-packages')\n",
    "import RNA\n",
    "import re\n",
    "\n",
    "def getSStr(dnaSeq):\n",
    "    dotNot = RNA.fold(dnaSeq)[0]\n",
    "    re.findall(\"\\(+\",dotNot)\n",
    "    _rep = re.sub(\"\\(+\",\"S\",dotNot)\n",
    "    _rep = re.sub(\"\\)+\",\"S\",_rep)\n",
    "    slNotation = re.sub(\"\\.+\",\"L\",_rep)\n",
    "    return slNotation\n",
    "\n",
    "for org,lTagIGSeq_list in org_lTagPairIGSeq_dict.items():\n",
    "    print org, len(lTagIGSeq_list)\n",
    "    for lTag1,lTag2,dnaSeq in lTagIGSeq_list:\n",
    "        print lTag1,lTag2\n",
    "        secStr = getSStr(dnaSeq)\n",
    "        print dnaSeq, secStr\n",
    "        sys.exit(1)\n",
    "        break;\n",
    "\n"
   ]
  },
  {
   "cell_type": "code",
   "execution_count": null,
   "metadata": {
    "collapsed": true
   },
   "outputs": [],
   "source": []
  }
 ],
 "metadata": {
  "kernelspec": {
   "display_name": "Python 2",
   "language": "python",
   "name": "python2"
  },
  "language_info": {
   "codemirror_mode": {
    "name": "ipython",
    "version": 2
   },
   "file_extension": ".py",
   "mimetype": "text/x-python",
   "name": "python",
   "nbconvert_exporter": "python",
   "pygments_lexer": "ipython2",
   "version": "2.7.10"
  }
 },
 "nbformat": 4,
 "nbformat_minor": 0
}
