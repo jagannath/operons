{
 "cells": [
  {
   "cell_type": "markdown",
   "metadata": {},
   "source": [
    "# Understanding how the directed FGOC score predicts membership in operons\n",
    "The scripts are aimed at justifying the use of FGOC or dirFGOC scores. The main point is that the higher the score , higher is the chance that the gene pairs are within operons. <br />\n",
    "A few reference organisms and their operons are selected. For example E.coli and B.subtilis\n",
    "Database used: <br />\n",
    "<ol>\n",
    "<li>[MicrobesOnline](http://meta.microbesonline.org/operons/) : (downloaded on 27th Sept 2015).<br />\n",
    "A number of organisms has to be individually downloaded. Organisms chosen - <br />\n",
    "            (a) eco: Escherichia coli str. K-12 substr. MG1655 <br />\n",
    "            (b) bsu: Bacillus subtilis subsp. subtilis 168 <br /></li>\n",
    "<li> OperonDB [ODB3](http://operondb.jp/) : (downloaded on 4th Oct 2015) <br />\n",
    "All the conserved operons across all species (~ 2,800) is downloaded </li>\n",
    "</ol>\n",
    "            \n",
    "\n",
    "Histogram is plotted for the frequency of dirFGOC score between gene pairs in the organism. The histogram for gene pairs occuring within an operon and those between operon is compared.\n",
    "A fractional odds ratio is calculate to better illustrate the fact that higher the dirFGOC score is more likely it is to be in an operon. \n"
   ]
  },
  {
   "cell_type": "code",
   "execution_count": 158,
   "metadata": {
    "collapsed": false
   },
   "outputs": [
    {
     "name": "stdout",
     "output_type": "stream",
     "text": [
      "Dictionaries loaded\n"
     ]
    }
   ],
   "source": [
    "import pickle\n",
    "import os\n",
    "\n",
    "def loadPkl(fname):\n",
    "    pklDir = '/home/jaggu/research/projectFiles/operons/pklFiles'\n",
    "    f = os.path.join(pklDir,fname)\n",
    "    db = pickle.load(open(f))\n",
    "    return db\n",
    "\n",
    "locus_cog_dict = loadPkl('locus_cog.dict.pkl')\n",
    "cogPair_fgocInfo_dict = loadPkl('cogPair_fgocInfo.dict.pkl')\n",
    "\n",
    "print \"Dictionaries loaded\""
   ]
  },
  {
   "cell_type": "code",
   "execution_count": 160,
   "metadata": {
    "collapsed": false
   },
   "outputs": [
    {
     "name": "stdout",
     "output_type": "stream",
     "text": [
      "Within and Between operon Dictionaries created for Org : eco\n",
      "Number of within operon gene pairs (mapped to COG)  : 1422\n",
      "Number of between operon gene pairs (mapped to COG) : 753\n"
     ]
    }
   ],
   "source": [
    "operondbDir = '/home/jaggu/research/downloads/operons_databases/microbesOnline'\n",
    "sourceDir = '/home/jaggu/research/allGenomePttFiles'\n",
    "\n",
    "# THIS IS WHERE YOU SHOULD CHANGE THE organism \n",
    "org = 'eco' \n",
    "orgName = ('Escherichia_coli_K_12_substr__MG1655_uid57779','NC_000913')\n",
    "#org = 'bsu'\n",
    "#orgName = ('Bacillus_subtilis_168_uid57675', 'NC_000964')\n",
    "\n",
    "fname = org+'.'+'operon'\n",
    "ifile = open(os.path.join(operondbDir,fname))\n",
    "lines = ifile.readlines()\n",
    "ifile.close()\n",
    "\n",
    "# Dictionary\n",
    "wOp_dict = dict() #Dictioanry of lTagPair:[dirFGOC,fgoc] for within Operon pairs\n",
    "bwOp_dict = dict() #Dictionary of lTagPair:[dirFGOC,fgoc] for between Operon pairs\n",
    "\n",
    "# Calculating orientation \n",
    "orgDir = os.path.join(sourceDir,orgName[0])\n",
    "orgPttFile = os.path.join(orgDir,orgName[1]+'.ptt') \n",
    "orientationDict = dict()\n",
    "\n",
    "def getOrientation(orgPttFile):\n",
    "    #Get orientation right\n",
    "    ifile = open(orgPttFile,'r')\n",
    "    lines = ifile.readlines()\n",
    "    ifile.close()\n",
    "    orientationDict = dict()\n",
    "    for line in lines[3:]:\n",
    "        orientation,lTag = line.split('\\t')[1],line.split('\\t')[5]\n",
    "        orientationDict[lTag]=orientation\n",
    "    return orientationDict\n",
    "orientationDict = getOrientation(orgPttFile)\n",
    "\n",
    "def getCog(lTag):\n",
    "    try:\n",
    "        cog = locus_cog_dict[lTag]\n",
    "    except KeyError:\n",
    "        cog = 'nan'\n",
    "    if cog == '-': cog = 'nan' #Some wierd bug\n",
    "    return cog\n",
    "\n",
    "def getFgocInfo(lTag1,lTag2):\n",
    "    cogA = getCog(lTag1)\n",
    "    cogB = getCog(lTag2)\n",
    "    if cogA is 'nan' or cogB is 'nan':\n",
    "        return None\n",
    "    else:\n",
    "        orientationA = orientationDict[lTag1]\n",
    "        orientationB = orientationDict[lTag2]\n",
    "        if orientationA == orientationB == '+':\n",
    "            cogPair = (cogA,cogB)\n",
    "        elif orientationA == orientationB == '-':\n",
    "            cogPair = (cogB,cogA)\n",
    "        else: \n",
    "            cogPair = (cogA,cogB)\n",
    "        fgocInfo = cogPair_fgocInfo_dict[cogPair]\n",
    "        #try: fgocInfo = cogPair_fgocInfo_dict[cogPair]\n",
    "        #except KeyError: fgocInfo = cogPair_fgocInfo_dict[(cogB,cogA)] #Opposite strand\n",
    "    return fgocInfo\n",
    "\n",
    "for line in lines[1:]:\n",
    "    lTag1,lTag2,bOp = [line.split('\\t')[i] for i in [2,3,6]]\n",
    "    fgocInfo = getFgocInfo(lTag1,lTag2)\n",
    "    if fgocInfo:\n",
    "        dirFgoc,fgoc = fgocInfo[3],fgocInfo[4]\n",
    "        if bOp == 'TRUE':\n",
    "            wOp_dict[(lTag1,lTag2)]=[dirFgoc,fgoc]\n",
    "        else:\n",
    "            bwOp_dict[(lTag1,lTag2)]=[dirFgoc,fgoc]\n",
    "\n",
    "print \"Within and Between operon Dictionaries created for Org : %s\"%(org)\n",
    "print \"Number of within operon gene pairs (mapped to COG)  : %d\"%(len(wOp_dict))\n",
    "print \"Number of between operon gene pairs (mapped to COG) : %d\"%(len(bwOp_dict))\n"
   ]
  },
  {
   "cell_type": "code",
   "execution_count": 165,
   "metadata": {
    "collapsed": false
   },
   "outputs": [
    {
     "name": "stdout",
     "output_type": "stream",
     "text": [
      "Analysing operons for eco organism ...\n"
     ]
    },
    {
     "data": {
      "image/png": "[encoded data removed]",
      "text/plain": [
       "<matplotlib.figure.Figure at 0x7f18cbf49290>"
      ]
     },
     "metadata": {},
     "output_type": "display_data"
    }
   ],
   "source": [
    "print \"Analysing operons for %s organism ...\"%(org)\n",
    "imgDir = '/home/jaggu/research/projectFiles/figures'\n",
    "\n",
    "% matplotlib inline\n",
    "import numpy as np\n",
    "import matplotlib.pyplot as plt\n",
    "\n",
    "fig = plt.Figure()\n",
    "ax = fig.add_subplot(1,1,1)\n",
    "\n",
    "w_vals = [wOp_dict.values()[i][0] for i in range(0,len(wOp_dict))]\n",
    "bw_vals = [bwOp_dict.values()[i][0] for i in range(0,len(bwOp_dict))]\n",
    "\n",
    "n_w,bins_w,patches_w = plt.hist(w_vals,bins=np.arange(0,1.01,0.01),color='#0072b2')\n",
    "n_bw,bins_bw,patches_bw = plt.hist(bw_vals,bins=np.arange(0,1.01,0.01),color='#e69f00')\n",
    "plt.xlabel('directed FGOC score')\n",
    "plt.ylabel('Frequency')\n",
    "plt.title('Comparison of dFGOC score for gene pairs in %s : \\n within (blue) and between operon (yellow)'%(org))\n",
    "#plt.show()\n",
    "\n",
    "# Saving figure\n",
    "fname = org+'_opAndbwOp_genePairs.hist.svg'\n",
    "f = os.path.join(imgDir,fname)\n",
    "plt.savefig(f,dpi=300)"
   ]
  },
  {
   "cell_type": "code",
   "execution_count": 167,
   "metadata": {
    "collapsed": false
   },
   "outputs": [
    {
     "name": "stdout",
     "output_type": "stream",
     "text": [
      "Analysing operons for eco organism ...\n"
     ]
    },
    {
     "name": "stderr",
     "output_type": "stream",
     "text": [
      "/home/jaggu/anaconda/lib/python2.7/site-packages/IPython/kernel/__main__.py:6: RuntimeWarning: invalid value encountered in divide\n"
     ]
    },
    {
     "data": {
      "image/png": "[encoded data removed]",
      "text/plain": [
       "<matplotlib.figure.Figure at 0x7f18da7c3150>"
      ]
     },
     "metadata": {},
     "output_type": "display_data"
    }
   ],
   "source": [
    "print \"Analysing operons for %s organism ...\"%(org)\n",
    "\n",
    "prob_w = n_w/len(wOp_dict)\n",
    "prob_bw = n_bw/len(bwOp_dict)\n",
    "\n",
    "yVal = prob_w/(prob_w + prob_bw) #Fraction Odds ratio -> prob(within operon)/(prob(within)+prob(between))\n",
    "\n",
    "xVal = np.arange(0,1.,0.01)\n",
    "plt.plot(xVal,yVal,)\n",
    "plt.axhline(y=0.5,color='r')\n",
    "plt.axvline(x=0.3,color='g')\n",
    "plt.ylim([0,1.2])\n",
    "plt.title('Fractional odds Ratio in predicting operon membership in '+ org)\n",
    "plt.xlabel('directed FGOC score')\n",
    "plt.ylabel('Fractional odds ratio of occuring \\n within or between operons')\n",
    "#plt.show()\n",
    "\n",
    "# Saving figure\n",
    "fname = org+'_oddsRatio_opAndbwOp.linePlot.svg'\n",
    "f = os.path.join(imgDir,fname)\n",
    "plt.savefig(f,dpi=300)\n"
   ]
  },
  {
   "cell_type": "markdown",
   "metadata": {
    "collapsed": true
   },
   "source": [
    "# Normalizing the graphs by spanning operonic genes across all species\n",
    "The motive is to try normalizing this odds ratio plot across all predicted operons. There are many sources for \n",
    "predicted operons. But the one downloadable file across all bacteria appears to be from [ODB3](http://operondb.jp/) ; Locus tag is used as an identifier. The statistics of this database reported is that ~ 2800 genomes are used in their prediction. The steps involved are - \n",
    "<ol>\n",
    "<li> Make a huge list of all COG pairs that are classified to be in operons (from the conserved_operon.download.txt: done on 4th October 2015) </li>\n",
    "<li> For every organism, there is a list of all COG pairs. Two different COG_list are made : (operon COGpair list) and (not Operon COGpair list); </li>\n",
    "<li> Get FGOC score for each list (CogPair); org : [dirfgoc score list for Operon], [dirfgoc score list for non operon] </li>\n",
    "<li> For the dirFgoc score list we make a histogram; Also normalize the histogram to the len of the COG list (operon or not operon respectively); The bin size is 0.1 from 0 to 1 </li>\n",
    "<li> Then average this list across all organisms; The total number of organisms spanned is 2,658 </li></ol>"
   ]
  },
  {
   "cell_type": "code",
   "execution_count": 59,
   "metadata": {
    "collapsed": false
   },
   "outputs": [
    {
     "name": "stdout",
     "output_type": "stream",
     "text": [
      "All operon COGpairs list Pickled\n"
     ]
    }
   ],
   "source": [
    "# Making a gigantic COG pair list that spreads across all species; from odb;\n",
    "# Load dictionaries\n",
    "import os\n",
    "\n",
    "opDBdir = '/home/jaggu/research/downloads/operons_databases/odb3'\n",
    "pklPath = '/home/jaggu/research/projectFiles/operons/pklFiles'\n",
    "fname = 'conserved_operon.download.txt'\n",
    "\n",
    "def getCog(lTag):\n",
    "    try:\n",
    "        cog = locus_cog_dict[lTag]\n",
    "    except KeyError:\n",
    "        cog = 'nan'\n",
    "    if cog == '-': cog = 'nan' #Some wierd bug\n",
    "    return cog\n",
    "\n",
    "def savePkl(db,pklFname):\n",
    "    f = os.path.join(pklPath,pklFname)\n",
    "    pickle.dump(db,open(f,'w'))\n",
    "    return \n",
    "\n",
    "allOp_COGpairs_list = list()\n",
    "\n",
    "with open(os.path.join(opDBdir,fname)) as f:\n",
    "    for line in f:\n",
    "        if not line.startswith('coid'):\n",
    "            allLTags = line.split('\\t')[2]\n",
    "            lTag_list = allLTags.split(',')\n",
    "            lTagPairs = zip(lTag_list,lTag_list[1:])\n",
    "            for lTagPair in lTagPairs:\n",
    "                lTag1,lTag2 = lTagPair\n",
    "                cogA,cogB = getCog(lTag1),getCog(lTag2)\n",
    "                if not('nan' is cogA or 'nan' is cogB):\n",
    "                    cogPair = (cogA,cogB)\n",
    "                    if not cogPair in allOp_COGpairs_list: \n",
    "                        allOp_COGpairs_list.append(cogPair)\n",
    "\n",
    "savePkl(allOp_COGpairs_list,'allOperon_COGpairs.list.pkl')\n",
    "print \"All operon COGpairs list Pickled\""
   ]
  },
  {
   "cell_type": "code",
   "execution_count": null,
   "metadata": {
    "collapsed": true
   },
   "outputs": [],
   "source": [
    "# Loading relevant dictionaries\n",
    "import cPickle as pickle\n",
    "import os\n",
    "\n",
    "def loadPkl(fname):\n",
    "    pklDir = '/home/jaggu/research/projectFiles/operons/pklFiles'\n",
    "    f = os.path.join(pklDir,fname)\n",
    "    db = pickle.load(open(f))\n",
    "    return db\n",
    "\n",
    "org_cogPair_dict = loadPkl('org_cogPair.dict.pkl')\n",
    "allOp_COGpairs_list = loadPkl('allOperon_COGpairs.list.pkl')"
   ]
  },
  {
   "cell_type": "code",
   "execution_count": 154,
   "metadata": {
    "collapsed": false
   },
   "outputs": [
    {
     "name": "stdout",
     "output_type": "stream",
     "text": [
      "Normalized histogram values of Operon dirFGOC and not Operon dirFGOC gene pairs calculated for all species\n",
      "Number of organisms considered : 2658 \n"
     ]
    }
   ],
   "source": [
    "# Iterating through all the organisms with its cogPairs and calculating the histogram of operon gene pairs and not \n",
    "# operon gene pairs; \n",
    "import numpy as np\n",
    "\n",
    "org_normHist_dict = dict()\n",
    "\n",
    "def getFgocScore(cogPair):\n",
    "    fgocInfo = cogPair_fgocInfo_dict[cogPair]\n",
    "    dirFgoc = fgocInfo[3]\n",
    "    return dirFgoc\n",
    "\n",
    "def getHistogramVals(allPairs):\n",
    "    all_dFgoc_list = list()\n",
    "    for cogPair in allPairs:\n",
    "        dirFgoc = np.float(getFgocScore(cogPair))\n",
    "        all_dFgoc_list.append(dirFgoc)\n",
    "    valHist_dfgoc,binnings = np.histogram(all_dFgoc_list,bins=np.arange(0,1.01,0.01))\n",
    "    normHist_dfgoc = np.divide(valHist_dfgoc, len(allPairs),dtype=float)\n",
    "    return normHist_dfgoc\n",
    "\n",
    "for org, org_cogPairList in org_cogPair_dict.items():\n",
    "    # Removing all instances of '-' as the COG pair\n",
    "    org_cogPairList = [item for item in org_cogPairList if not (item[0] =='-' or item[1] =='-')]\n",
    "    allOp_dfgoc = list()\n",
    "    allnotOp_dfgoc = list()\n",
    "    \n",
    "    opPairs = list(set(org_cogPairList)&set(allOp_COGpairs_list))\n",
    "    notOpPairs = list(set(org_cogPairList)-set(allOp_COGpairs_list))\n",
    "    \n",
    "    if len(opPairs)> 0: opNormHist_list = getHistogramVals(opPairs) #Plasmids get included and makes it nan\n",
    "    if len(notOpPairs)>0: notOpNormHist_list = getHistogramVals(notOpPairs)\n",
    "    org_normHist_dict[org] = (opNormHist_list,notOpNormHist_list)\n",
    "\n",
    "allOp_hist = list()\n",
    "allNotOp_hist = list()\n",
    "for i, (opArray,notOpArray) in enumerate(org_normHist_dict.values()):\n",
    "    allOp_hist.append(opArray)\n",
    "    allNotOp_hist.append(notOpArray)\n",
    "\n",
    "norm_op = np.mean(allOp_hist,axis=0)\n",
    "norm_notOp = np.mean(allNotOp_hist,axis=0)\n",
    "\n",
    "print \"Normalized histogram values of Operon dirFGOC and not Operon dirFGOC gene pairs calculated for all species\"\n",
    "print \"Number of organisms considered : %d \"%(len(allOp_hist))"
   ]
  },
  {
   "cell_type": "code",
   "execution_count": 168,
   "metadata": {
    "collapsed": false
   },
   "outputs": [
    {
     "name": "stderr",
     "output_type": "stream",
     "text": [
      "/home/jaggu/anaconda/lib/python2.7/site-packages/IPython/kernel/__main__.py:8: RuntimeWarning: invalid value encountered in divide\n"
     ]
    },
    {
     "data": {
      "image/png": "[encoded data removed]",
      "text/plain": [
       "<matplotlib.figure.Figure at 0x7f18d1ad3d90>"
      ]
     },
     "metadata": {},
     "output_type": "display_data"
    }
   ],
   "source": [
    "# Plotting the fractional odds ratio of gene pairs within and between operons\n",
    "\n",
    "% matplotlib inline\n",
    "import numpy as np\n",
    "import matplotlib.pyplot as plt\n",
    "\n",
    "\n",
    "yVal = norm_op/(norm_op + norm_notOp) #Fraction Odds ratio -> prob(within operon)/(prob(within)+prob(between))\n",
    "xVal = np.arange(0,1.,0.01)\n",
    "\n",
    "plt.plot(xVal,yVal,color='#0072b2')\n",
    "plt.axhline(y=0.5,color='r')\n",
    "plt.axvline(x=0.3,color='g')\n",
    "plt.ylim([0,1.2])\n",
    "plt.title('Mean of directed fgoc scores for all gene pairs \\n spanning all organisms')\n",
    "plt.xlabel('directed FGOC score')\n",
    "plt.ylabel('Fractional odds ratio of gene pairs occuring \\n within or between operons')\n",
    "\n",
    "#plt.show()\n",
    "\n",
    "# Saving figure\n",
    "fname = 'allOrgs_oddsRatio_opAndbwOp.linePlot.svg'\n",
    "f = os.path.join(imgDir,fname)\n",
    "plt.savefig(f,dpi=300)\n"
   ]
  },
  {
   "cell_type": "code",
   "execution_count": null,
   "metadata": {
    "collapsed": true
   },
   "outputs": [],
   "source": []
  }
 ],
 "metadata": {
  "kernelspec": {
   "display_name": "Python 2",
   "language": "python",
   "name": "python2"
  },
  "language_info": {
   "codemirror_mode": {
    "name": "ipython",
    "version": 2
   },
   "file_extension": ".py",
   "mimetype": "text/x-python",
   "name": "python",
   "nbconvert_exporter": "python",
   "pygments_lexer": "ipython2",
   "version": "2.7.10"
  }
 },
 "nbformat": 4,
 "nbformat_minor": 0
}
